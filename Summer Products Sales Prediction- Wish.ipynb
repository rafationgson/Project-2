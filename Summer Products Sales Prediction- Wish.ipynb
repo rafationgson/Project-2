{
 "cells": [
  {
   "cell_type": "markdown",
   "metadata": {},
   "source": [
    "## Import necessary libraries"
   ]
  },
  {
   "cell_type": "code",
   "execution_count": 1,
   "metadata": {},
   "outputs": [],
   "source": [
    "import pandas as pd\n",
    "import numpy as np\n",
    "import matplotlib.pyplot as plt\n",
    "import seaborn as sns\n",
    "%matplotlib inline"
   ]
  },
  {
   "cell_type": "code",
   "execution_count": 2,
   "metadata": {},
   "outputs": [
    {
     "data": {
      "text/html": [
       "<div>\n",
       "<style scoped>\n",
       "    .dataframe tbody tr th:only-of-type {\n",
       "        vertical-align: middle;\n",
       "    }\n",
       "\n",
       "    .dataframe tbody tr th {\n",
       "        vertical-align: top;\n",
       "    }\n",
       "\n",
       "    .dataframe thead th {\n",
       "        text-align: right;\n",
       "    }\n",
       "</style>\n",
       "<table border=\"1\" class=\"dataframe\">\n",
       "  <thead>\n",
       "    <tr style=\"text-align: right;\">\n",
       "      <th></th>\n",
       "      <th>title</th>\n",
       "      <th>title_orig</th>\n",
       "      <th>price</th>\n",
       "      <th>retail_price</th>\n",
       "      <th>currency_buyer</th>\n",
       "      <th>units_sold</th>\n",
       "      <th>uses_ad_boosts</th>\n",
       "      <th>rating</th>\n",
       "      <th>rating_count</th>\n",
       "      <th>rating_five_count</th>\n",
       "      <th>...</th>\n",
       "      <th>merchant_rating_count</th>\n",
       "      <th>merchant_rating</th>\n",
       "      <th>merchant_id</th>\n",
       "      <th>merchant_has_profile_picture</th>\n",
       "      <th>merchant_profile_picture</th>\n",
       "      <th>product_url</th>\n",
       "      <th>product_picture</th>\n",
       "      <th>product_id</th>\n",
       "      <th>theme</th>\n",
       "      <th>crawl_month</th>\n",
       "    </tr>\n",
       "  </thead>\n",
       "  <tbody>\n",
       "    <tr>\n",
       "      <th>0</th>\n",
       "      <td>2020 Summer Vintage Flamingo Print  Pajamas Se...</td>\n",
       "      <td>2020 Summer Vintage Flamingo Print  Pajamas Se...</td>\n",
       "      <td>16.00</td>\n",
       "      <td>14</td>\n",
       "      <td>EUR</td>\n",
       "      <td>100</td>\n",
       "      <td>0</td>\n",
       "      <td>3.76</td>\n",
       "      <td>54</td>\n",
       "      <td>26.0</td>\n",
       "      <td>...</td>\n",
       "      <td>568</td>\n",
       "      <td>4.128521</td>\n",
       "      <td>595097d6a26f6e070cb878d1</td>\n",
       "      <td>0</td>\n",
       "      <td>NaN</td>\n",
       "      <td>https://www.wish.com/c/5e9ae51d43d6a96e303acdb0</td>\n",
       "      <td>https://contestimg.wish.com/api/webimage/5e9ae...</td>\n",
       "      <td>5e9ae51d43d6a96e303acdb0</td>\n",
       "      <td>summer</td>\n",
       "      <td>2020-08</td>\n",
       "    </tr>\n",
       "    <tr>\n",
       "      <th>1</th>\n",
       "      <td>SSHOUSE Summer Casual Sleeveless Soirée Party ...</td>\n",
       "      <td>Women's Casual Summer Sleeveless Sexy Mini Dress</td>\n",
       "      <td>8.00</td>\n",
       "      <td>22</td>\n",
       "      <td>EUR</td>\n",
       "      <td>20000</td>\n",
       "      <td>1</td>\n",
       "      <td>3.45</td>\n",
       "      <td>6135</td>\n",
       "      <td>2269.0</td>\n",
       "      <td>...</td>\n",
       "      <td>17752</td>\n",
       "      <td>3.899673</td>\n",
       "      <td>56458aa03a698c35c9050988</td>\n",
       "      <td>0</td>\n",
       "      <td>NaN</td>\n",
       "      <td>https://www.wish.com/c/58940d436a0d3d5da4e95a38</td>\n",
       "      <td>https://contestimg.wish.com/api/webimage/58940...</td>\n",
       "      <td>58940d436a0d3d5da4e95a38</td>\n",
       "      <td>summer</td>\n",
       "      <td>2020-08</td>\n",
       "    </tr>\n",
       "    <tr>\n",
       "      <th>2</th>\n",
       "      <td>2020 Nouvelle Arrivée Femmes Printemps et Été ...</td>\n",
       "      <td>2020 New Arrival Women Spring and Summer Beach...</td>\n",
       "      <td>8.00</td>\n",
       "      <td>43</td>\n",
       "      <td>EUR</td>\n",
       "      <td>100</td>\n",
       "      <td>0</td>\n",
       "      <td>3.57</td>\n",
       "      <td>14</td>\n",
       "      <td>5.0</td>\n",
       "      <td>...</td>\n",
       "      <td>295</td>\n",
       "      <td>3.989831</td>\n",
       "      <td>5d464a1ffdf7bc44ee933c65</td>\n",
       "      <td>0</td>\n",
       "      <td>NaN</td>\n",
       "      <td>https://www.wish.com/c/5ea10e2c617580260d55310a</td>\n",
       "      <td>https://contestimg.wish.com/api/webimage/5ea10...</td>\n",
       "      <td>5ea10e2c617580260d55310a</td>\n",
       "      <td>summer</td>\n",
       "      <td>2020-08</td>\n",
       "    </tr>\n",
       "    <tr>\n",
       "      <th>3</th>\n",
       "      <td>Hot Summer Cool T-shirt pour les femmes Mode T...</td>\n",
       "      <td>Hot Summer Cool T Shirt for Women Fashion Tops...</td>\n",
       "      <td>8.00</td>\n",
       "      <td>8</td>\n",
       "      <td>EUR</td>\n",
       "      <td>5000</td>\n",
       "      <td>1</td>\n",
       "      <td>4.03</td>\n",
       "      <td>579</td>\n",
       "      <td>295.0</td>\n",
       "      <td>...</td>\n",
       "      <td>23832</td>\n",
       "      <td>4.020435</td>\n",
       "      <td>58cfdefdacb37b556efdff7c</td>\n",
       "      <td>0</td>\n",
       "      <td>NaN</td>\n",
       "      <td>https://www.wish.com/c/5cedf17ad1d44c52c59e4aca</td>\n",
       "      <td>https://contestimg.wish.com/api/webimage/5cedf...</td>\n",
       "      <td>5cedf17ad1d44c52c59e4aca</td>\n",
       "      <td>summer</td>\n",
       "      <td>2020-08</td>\n",
       "    </tr>\n",
       "    <tr>\n",
       "      <th>4</th>\n",
       "      <td>Femmes Shorts d'été à lacets taille élastique ...</td>\n",
       "      <td>Women Summer Shorts Lace Up Elastic Waistband ...</td>\n",
       "      <td>2.72</td>\n",
       "      <td>3</td>\n",
       "      <td>EUR</td>\n",
       "      <td>100</td>\n",
       "      <td>1</td>\n",
       "      <td>3.10</td>\n",
       "      <td>20</td>\n",
       "      <td>6.0</td>\n",
       "      <td>...</td>\n",
       "      <td>14482</td>\n",
       "      <td>4.001588</td>\n",
       "      <td>5ab3b592c3911a095ad5dadb</td>\n",
       "      <td>0</td>\n",
       "      <td>NaN</td>\n",
       "      <td>https://www.wish.com/c/5ebf5819ebac372b070b0e70</td>\n",
       "      <td>https://contestimg.wish.com/api/webimage/5ebf5...</td>\n",
       "      <td>5ebf5819ebac372b070b0e70</td>\n",
       "      <td>summer</td>\n",
       "      <td>2020-08</td>\n",
       "    </tr>\n",
       "  </tbody>\n",
       "</table>\n",
       "<p>5 rows × 43 columns</p>\n",
       "</div>"
      ],
      "text/plain": [
       "                                               title  \\\n",
       "0  2020 Summer Vintage Flamingo Print  Pajamas Se...   \n",
       "1  SSHOUSE Summer Casual Sleeveless Soirée Party ...   \n",
       "2  2020 Nouvelle Arrivée Femmes Printemps et Été ...   \n",
       "3  Hot Summer Cool T-shirt pour les femmes Mode T...   \n",
       "4  Femmes Shorts d'été à lacets taille élastique ...   \n",
       "\n",
       "                                          title_orig  price  retail_price  \\\n",
       "0  2020 Summer Vintage Flamingo Print  Pajamas Se...  16.00            14   \n",
       "1   Women's Casual Summer Sleeveless Sexy Mini Dress   8.00            22   \n",
       "2  2020 New Arrival Women Spring and Summer Beach...   8.00            43   \n",
       "3  Hot Summer Cool T Shirt for Women Fashion Tops...   8.00             8   \n",
       "4  Women Summer Shorts Lace Up Elastic Waistband ...   2.72             3   \n",
       "\n",
       "  currency_buyer  units_sold  uses_ad_boosts  rating  rating_count  \\\n",
       "0            EUR         100               0    3.76            54   \n",
       "1            EUR       20000               1    3.45          6135   \n",
       "2            EUR         100               0    3.57            14   \n",
       "3            EUR        5000               1    4.03           579   \n",
       "4            EUR         100               1    3.10            20   \n",
       "\n",
       "   rating_five_count  ...  merchant_rating_count  merchant_rating  \\\n",
       "0               26.0  ...                    568         4.128521   \n",
       "1             2269.0  ...                  17752         3.899673   \n",
       "2                5.0  ...                    295         3.989831   \n",
       "3              295.0  ...                  23832         4.020435   \n",
       "4                6.0  ...                  14482         4.001588   \n",
       "\n",
       "                merchant_id  merchant_has_profile_picture  \\\n",
       "0  595097d6a26f6e070cb878d1                             0   \n",
       "1  56458aa03a698c35c9050988                             0   \n",
       "2  5d464a1ffdf7bc44ee933c65                             0   \n",
       "3  58cfdefdacb37b556efdff7c                             0   \n",
       "4  5ab3b592c3911a095ad5dadb                             0   \n",
       "\n",
       "   merchant_profile_picture                                      product_url  \\\n",
       "0                       NaN  https://www.wish.com/c/5e9ae51d43d6a96e303acdb0   \n",
       "1                       NaN  https://www.wish.com/c/58940d436a0d3d5da4e95a38   \n",
       "2                       NaN  https://www.wish.com/c/5ea10e2c617580260d55310a   \n",
       "3                       NaN  https://www.wish.com/c/5cedf17ad1d44c52c59e4aca   \n",
       "4                       NaN  https://www.wish.com/c/5ebf5819ebac372b070b0e70   \n",
       "\n",
       "                                     product_picture  \\\n",
       "0  https://contestimg.wish.com/api/webimage/5e9ae...   \n",
       "1  https://contestimg.wish.com/api/webimage/58940...   \n",
       "2  https://contestimg.wish.com/api/webimage/5ea10...   \n",
       "3  https://contestimg.wish.com/api/webimage/5cedf...   \n",
       "4  https://contestimg.wish.com/api/webimage/5ebf5...   \n",
       "\n",
       "                 product_id   theme crawl_month  \n",
       "0  5e9ae51d43d6a96e303acdb0  summer     2020-08  \n",
       "1  58940d436a0d3d5da4e95a38  summer     2020-08  \n",
       "2  5ea10e2c617580260d55310a  summer     2020-08  \n",
       "3  5cedf17ad1d44c52c59e4aca  summer     2020-08  \n",
       "4  5ebf5819ebac372b070b0e70  summer     2020-08  \n",
       "\n",
       "[5 rows x 43 columns]"
      ]
     },
     "execution_count": 2,
     "metadata": {},
     "output_type": "execute_result"
    }
   ],
   "source": [
    "df = pd.read_csv('Desktop/Datasets/summer-products-Wish.csv')\n",
    "df.head()"
   ]
  },
  {
   "cell_type": "code",
   "execution_count": 3,
   "metadata": {},
   "outputs": [
    {
     "data": {
      "text/html": [
       "<div>\n",
       "<style scoped>\n",
       "    .dataframe tbody tr th:only-of-type {\n",
       "        vertical-align: middle;\n",
       "    }\n",
       "\n",
       "    .dataframe tbody tr th {\n",
       "        vertical-align: top;\n",
       "    }\n",
       "\n",
       "    .dataframe thead th {\n",
       "        text-align: right;\n",
       "    }\n",
       "</style>\n",
       "<table border=\"1\" class=\"dataframe\">\n",
       "  <thead>\n",
       "    <tr style=\"text-align: right;\">\n",
       "      <th></th>\n",
       "      <th>count</th>\n",
       "      <th>keyword</th>\n",
       "    </tr>\n",
       "  </thead>\n",
       "  <tbody>\n",
       "    <tr>\n",
       "      <th>0</th>\n",
       "      <td>1321</td>\n",
       "      <td>Summer</td>\n",
       "    </tr>\n",
       "    <tr>\n",
       "      <th>1</th>\n",
       "      <td>1315</td>\n",
       "      <td>Women's Fashion</td>\n",
       "    </tr>\n",
       "    <tr>\n",
       "      <th>2</th>\n",
       "      <td>1082</td>\n",
       "      <td>Fashion</td>\n",
       "    </tr>\n",
       "    <tr>\n",
       "      <th>3</th>\n",
       "      <td>961</td>\n",
       "      <td>Women</td>\n",
       "    </tr>\n",
       "    <tr>\n",
       "      <th>4</th>\n",
       "      <td>905</td>\n",
       "      <td>Casual</td>\n",
       "    </tr>\n",
       "  </tbody>\n",
       "</table>\n",
       "</div>"
      ],
      "text/plain": [
       "   count          keyword\n",
       "0   1321           Summer\n",
       "1   1315  Women's Fashion\n",
       "2   1082          Fashion\n",
       "3    961            Women\n",
       "4    905           Casual"
      ]
     },
     "execution_count": 3,
     "metadata": {},
     "output_type": "execute_result"
    }
   ],
   "source": [
    "product_cat = pd.read_csv('Desktop/Datasets/summer-product-categories.csv')\n",
    "product_cat.head()"
   ]
  },
  {
   "cell_type": "code",
   "execution_count": 4,
   "metadata": {},
   "outputs": [
    {
     "data": {
      "text/plain": [
       "keyword\n",
       "Summer              1321\n",
       "Women's Fashion     1315\n",
       "Fashion             1082\n",
       "Women                961\n",
       "Casual               905\n",
       "Plus Size            636\n",
       "sleeveless           580\n",
       "Dress                549\n",
       "Shorts               540\n",
       "Tops                 507\n",
       "sexy                 328\n",
       "Beach                324\n",
       "Sleeve               300\n",
       "short sleeves        296\n",
       "Print                296\n",
       "Shirt                281\n",
       "Tank                 265\n",
       "Necks                254\n",
       "V-neck               241\n",
       "printed              235\n",
       "T Shirts             235\n",
       "tank top             219\n",
       "Cotton               216\n",
       "summer dress         212\n",
       "Ladies               212\n",
       "Loose                204\n",
       "blouse               201\n",
       "pants                197\n",
       "Vest                 189\n",
       "beach dress          185\n",
       "Floral               174\n",
       "women dress          174\n",
       "Lace                 173\n",
       "Mini dress           170\n",
       "Mini                 164\n",
       "slim                 162\n",
       "Sleeveless dress     151\n",
       "Women Fashion        142\n",
       "Round neck           139\n",
       "casual dress         136\n",
       "Waist                130\n",
       "party                129\n",
       "long dress           123\n",
       "Party Dress          120\n",
       "Sport                109\n",
       "Floral print         108\n",
       "Slim Fit             107\n",
       "Spaghetti            106\n",
       "backless             104\n",
       "jumpsuit              99\n",
       "Short pants           95\n",
       "Bikini                91\n",
       "Swimsuit              88\n",
       "boho                  86\n",
       "high waist            86\n",
       "loose dress           86\n",
       "Swimwear              85\n",
       "Swimming              84\n",
       "Dresses               79\n",
       "Halter                77\n",
       "Name: count, dtype: int64"
      ]
     },
     "execution_count": 4,
     "metadata": {},
     "output_type": "execute_result"
    }
   ],
   "source": [
    "product_cat_results = product_cat.groupby('keyword')['count'].mean().sort_values(ascending=False)\n",
    "product_cat_results.head(60)"
   ]
  },
  {
   "cell_type": "code",
   "execution_count": 25,
   "metadata": {},
   "outputs": [
    {
     "name": "stdout",
     "output_type": "stream",
     "text": [
      "<class 'pandas.core.frame.DataFrame'>\n",
      "RangeIndex: 1573 entries, 0 to 1572\n",
      "Data columns (total 43 columns):\n",
      " #   Column                        Non-Null Count  Dtype  \n",
      "---  ------                        --------------  -----  \n",
      " 0   title                         1573 non-null   object \n",
      " 1   title_orig                    1573 non-null   object \n",
      " 2   price                         1573 non-null   float64\n",
      " 3   retail_price                  1573 non-null   int64  \n",
      " 4   currency_buyer                1573 non-null   object \n",
      " 5   units_sold                    1573 non-null   int64  \n",
      " 6   uses_ad_boosts                1573 non-null   int64  \n",
      " 7   rating                        1573 non-null   float64\n",
      " 8   rating_count                  1573 non-null   int64  \n",
      " 9   rating_five_count             1528 non-null   float64\n",
      " 10  rating_four_count             1528 non-null   float64\n",
      " 11  rating_three_count            1528 non-null   float64\n",
      " 12  rating_two_count              1528 non-null   float64\n",
      " 13  rating_one_count              1528 non-null   float64\n",
      " 14  badges_count                  1573 non-null   int64  \n",
      " 15  badge_local_product           1573 non-null   int64  \n",
      " 16  badge_product_quality         1573 non-null   int64  \n",
      " 17  badge_fast_shipping           1573 non-null   int64  \n",
      " 18  tags                          1573 non-null   object \n",
      " 19  product_color                 1532 non-null   object \n",
      " 20  product_variation_size_id     1559 non-null   object \n",
      " 21  product_variation_inventory   1573 non-null   int64  \n",
      " 22  shipping_option_name          1573 non-null   object \n",
      " 23  shipping_option_price         1573 non-null   int64  \n",
      " 24  shipping_is_express           1573 non-null   int64  \n",
      " 25  countries_shipped_to          1573 non-null   int64  \n",
      " 26  inventory_total               1573 non-null   int64  \n",
      " 27  has_urgency_banner            473 non-null    float64\n",
      " 28  urgency_text                  473 non-null    object \n",
      " 29  origin_country                1556 non-null   object \n",
      " 30  merchant_title                1573 non-null   object \n",
      " 31  merchant_name                 1569 non-null   object \n",
      " 32  merchant_info_subtitle        1572 non-null   object \n",
      " 33  merchant_rating_count         1573 non-null   int64  \n",
      " 34  merchant_rating               1573 non-null   float64\n",
      " 35  merchant_id                   1573 non-null   object \n",
      " 36  merchant_has_profile_picture  1573 non-null   int64  \n",
      " 37  merchant_profile_picture      226 non-null    object \n",
      " 38  product_url                   1573 non-null   object \n",
      " 39  product_picture               1573 non-null   object \n",
      " 40  product_id                    1573 non-null   object \n",
      " 41  theme                         1573 non-null   object \n",
      " 42  crawl_month                   1573 non-null   object \n",
      "dtypes: float64(9), int64(15), object(19)\n",
      "memory usage: 528.6+ KB\n"
     ]
    }
   ],
   "source": [
    "df.info()"
   ]
  },
  {
   "cell_type": "markdown",
   "metadata": {},
   "source": [
    "## Look for any null values"
   ]
  },
  {
   "cell_type": "code",
   "execution_count": 4,
   "metadata": {},
   "outputs": [
    {
     "data": {
      "text/plain": [
       "<matplotlib.axes._subplots.AxesSubplot at 0x1175dce20>"
      ]
     },
     "execution_count": 4,
     "metadata": {},
     "output_type": "execute_result"
    },
    {
     "data": {
      "image/png": "[encoded data removed]",
      "text/plain": [
       "<Figure size 1800x720 with 2 Axes>"
      ]
     },
     "metadata": {
      "needs_background": "light"
     },
     "output_type": "display_data"
    }
   ],
   "source": [
    "import missingno as msno\n",
    "msno.matrix(df)"
   ]
  },
  {
   "cell_type": "code",
   "execution_count": 5,
   "metadata": {},
   "outputs": [
    {
     "data": {
      "text/html": [
       "<div>\n",
       "<style scoped>\n",
       "    .dataframe tbody tr th:only-of-type {\n",
       "        vertical-align: middle;\n",
       "    }\n",
       "\n",
       "    .dataframe tbody tr th {\n",
       "        vertical-align: top;\n",
       "    }\n",
       "\n",
       "    .dataframe thead th {\n",
       "        text-align: right;\n",
       "    }\n",
       "</style>\n",
       "<table border=\"1\" class=\"dataframe\">\n",
       "  <thead>\n",
       "    <tr style=\"text-align: right;\">\n",
       "      <th></th>\n",
       "      <th>price</th>\n",
       "      <th>retail_price</th>\n",
       "      <th>units_sold</th>\n",
       "      <th>uses_ad_boosts</th>\n",
       "      <th>rating</th>\n",
       "      <th>rating_count</th>\n",
       "      <th>rating_five_count</th>\n",
       "      <th>rating_four_count</th>\n",
       "      <th>rating_three_count</th>\n",
       "      <th>rating_two_count</th>\n",
       "      <th>...</th>\n",
       "      <th>badge_fast_shipping</th>\n",
       "      <th>product_variation_inventory</th>\n",
       "      <th>shipping_option_price</th>\n",
       "      <th>shipping_is_express</th>\n",
       "      <th>countries_shipped_to</th>\n",
       "      <th>inventory_total</th>\n",
       "      <th>has_urgency_banner</th>\n",
       "      <th>merchant_rating_count</th>\n",
       "      <th>merchant_rating</th>\n",
       "      <th>merchant_has_profile_picture</th>\n",
       "    </tr>\n",
       "  </thead>\n",
       "  <tbody>\n",
       "    <tr>\n",
       "      <th>count</th>\n",
       "      <td>1573.000000</td>\n",
       "      <td>1573.000000</td>\n",
       "      <td>1573.000000</td>\n",
       "      <td>1573.000000</td>\n",
       "      <td>1573.000000</td>\n",
       "      <td>1573.000000</td>\n",
       "      <td>1528.000000</td>\n",
       "      <td>1528.000000</td>\n",
       "      <td>1528.000000</td>\n",
       "      <td>1528.000000</td>\n",
       "      <td>...</td>\n",
       "      <td>1573.000000</td>\n",
       "      <td>1573.000000</td>\n",
       "      <td>1573.000000</td>\n",
       "      <td>1573.000000</td>\n",
       "      <td>1573.000000</td>\n",
       "      <td>1573.000000</td>\n",
       "      <td>473.0</td>\n",
       "      <td>1.573000e+03</td>\n",
       "      <td>1573.000000</td>\n",
       "      <td>1573.000000</td>\n",
       "    </tr>\n",
       "    <tr>\n",
       "      <th>mean</th>\n",
       "      <td>8.325372</td>\n",
       "      <td>23.288620</td>\n",
       "      <td>4339.005086</td>\n",
       "      <td>0.432931</td>\n",
       "      <td>3.820896</td>\n",
       "      <td>889.659250</td>\n",
       "      <td>442.263743</td>\n",
       "      <td>179.599476</td>\n",
       "      <td>134.549738</td>\n",
       "      <td>63.711387</td>\n",
       "      <td>...</td>\n",
       "      <td>0.012715</td>\n",
       "      <td>33.081373</td>\n",
       "      <td>2.345200</td>\n",
       "      <td>0.002543</td>\n",
       "      <td>40.456453</td>\n",
       "      <td>49.821360</td>\n",
       "      <td>1.0</td>\n",
       "      <td>2.649583e+04</td>\n",
       "      <td>4.032345</td>\n",
       "      <td>0.143675</td>\n",
       "    </tr>\n",
       "    <tr>\n",
       "      <th>std</th>\n",
       "      <td>3.932030</td>\n",
       "      <td>30.357863</td>\n",
       "      <td>9356.539302</td>\n",
       "      <td>0.495639</td>\n",
       "      <td>0.515374</td>\n",
       "      <td>1983.928834</td>\n",
       "      <td>980.203270</td>\n",
       "      <td>400.516231</td>\n",
       "      <td>311.690656</td>\n",
       "      <td>151.343933</td>\n",
       "      <td>...</td>\n",
       "      <td>0.112075</td>\n",
       "      <td>21.353137</td>\n",
       "      <td>1.024371</td>\n",
       "      <td>0.050379</td>\n",
       "      <td>20.301203</td>\n",
       "      <td>2.562799</td>\n",
       "      <td>0.0</td>\n",
       "      <td>7.847446e+04</td>\n",
       "      <td>0.204768</td>\n",
       "      <td>0.350871</td>\n",
       "    </tr>\n",
       "    <tr>\n",
       "      <th>min</th>\n",
       "      <td>1.000000</td>\n",
       "      <td>1.000000</td>\n",
       "      <td>1.000000</td>\n",
       "      <td>0.000000</td>\n",
       "      <td>1.000000</td>\n",
       "      <td>0.000000</td>\n",
       "      <td>0.000000</td>\n",
       "      <td>0.000000</td>\n",
       "      <td>0.000000</td>\n",
       "      <td>0.000000</td>\n",
       "      <td>...</td>\n",
       "      <td>0.000000</td>\n",
       "      <td>1.000000</td>\n",
       "      <td>1.000000</td>\n",
       "      <td>0.000000</td>\n",
       "      <td>6.000000</td>\n",
       "      <td>1.000000</td>\n",
       "      <td>1.0</td>\n",
       "      <td>0.000000e+00</td>\n",
       "      <td>2.333333</td>\n",
       "      <td>0.000000</td>\n",
       "    </tr>\n",
       "    <tr>\n",
       "      <th>25%</th>\n",
       "      <td>5.810000</td>\n",
       "      <td>7.000000</td>\n",
       "      <td>100.000000</td>\n",
       "      <td>0.000000</td>\n",
       "      <td>3.550000</td>\n",
       "      <td>24.000000</td>\n",
       "      <td>12.000000</td>\n",
       "      <td>5.000000</td>\n",
       "      <td>4.000000</td>\n",
       "      <td>2.000000</td>\n",
       "      <td>...</td>\n",
       "      <td>0.000000</td>\n",
       "      <td>6.000000</td>\n",
       "      <td>2.000000</td>\n",
       "      <td>0.000000</td>\n",
       "      <td>31.000000</td>\n",
       "      <td>50.000000</td>\n",
       "      <td>1.0</td>\n",
       "      <td>1.987000e+03</td>\n",
       "      <td>3.917353</td>\n",
       "      <td>0.000000</td>\n",
       "    </tr>\n",
       "    <tr>\n",
       "      <th>50%</th>\n",
       "      <td>8.000000</td>\n",
       "      <td>10.000000</td>\n",
       "      <td>1000.000000</td>\n",
       "      <td>0.000000</td>\n",
       "      <td>3.850000</td>\n",
       "      <td>150.000000</td>\n",
       "      <td>79.000000</td>\n",
       "      <td>31.500000</td>\n",
       "      <td>24.000000</td>\n",
       "      <td>11.000000</td>\n",
       "      <td>...</td>\n",
       "      <td>0.000000</td>\n",
       "      <td>50.000000</td>\n",
       "      <td>2.000000</td>\n",
       "      <td>0.000000</td>\n",
       "      <td>40.000000</td>\n",
       "      <td>50.000000</td>\n",
       "      <td>1.0</td>\n",
       "      <td>7.936000e+03</td>\n",
       "      <td>4.040650</td>\n",
       "      <td>0.000000</td>\n",
       "    </tr>\n",
       "    <tr>\n",
       "      <th>75%</th>\n",
       "      <td>11.000000</td>\n",
       "      <td>26.000000</td>\n",
       "      <td>5000.000000</td>\n",
       "      <td>1.000000</td>\n",
       "      <td>4.110000</td>\n",
       "      <td>855.000000</td>\n",
       "      <td>413.500000</td>\n",
       "      <td>168.250000</td>\n",
       "      <td>129.250000</td>\n",
       "      <td>62.000000</td>\n",
       "      <td>...</td>\n",
       "      <td>0.000000</td>\n",
       "      <td>50.000000</td>\n",
       "      <td>3.000000</td>\n",
       "      <td>0.000000</td>\n",
       "      <td>43.000000</td>\n",
       "      <td>50.000000</td>\n",
       "      <td>1.0</td>\n",
       "      <td>2.456400e+04</td>\n",
       "      <td>4.161797</td>\n",
       "      <td>0.000000</td>\n",
       "    </tr>\n",
       "    <tr>\n",
       "      <th>max</th>\n",
       "      <td>49.000000</td>\n",
       "      <td>252.000000</td>\n",
       "      <td>100000.000000</td>\n",
       "      <td>1.000000</td>\n",
       "      <td>5.000000</td>\n",
       "      <td>20744.000000</td>\n",
       "      <td>11548.000000</td>\n",
       "      <td>4152.000000</td>\n",
       "      <td>3658.000000</td>\n",
       "      <td>2003.000000</td>\n",
       "      <td>...</td>\n",
       "      <td>1.000000</td>\n",
       "      <td>50.000000</td>\n",
       "      <td>12.000000</td>\n",
       "      <td>1.000000</td>\n",
       "      <td>140.000000</td>\n",
       "      <td>50.000000</td>\n",
       "      <td>1.0</td>\n",
       "      <td>2.174765e+06</td>\n",
       "      <td>5.000000</td>\n",
       "      <td>1.000000</td>\n",
       "    </tr>\n",
       "  </tbody>\n",
       "</table>\n",
       "<p>8 rows × 24 columns</p>\n",
       "</div>"
      ],
      "text/plain": [
       "             price  retail_price     units_sold  uses_ad_boosts       rating  \\\n",
       "count  1573.000000   1573.000000    1573.000000     1573.000000  1573.000000   \n",
       "mean      8.325372     23.288620    4339.005086        0.432931     3.820896   \n",
       "std       3.932030     30.357863    9356.539302        0.495639     0.515374   \n",
       "min       1.000000      1.000000       1.000000        0.000000     1.000000   \n",
       "25%       5.810000      7.000000     100.000000        0.000000     3.550000   \n",
       "50%       8.000000     10.000000    1000.000000        0.000000     3.850000   \n",
       "75%      11.000000     26.000000    5000.000000        1.000000     4.110000   \n",
       "max      49.000000    252.000000  100000.000000        1.000000     5.000000   \n",
       "\n",
       "       rating_count  rating_five_count  rating_four_count  rating_three_count  \\\n",
       "count   1573.000000        1528.000000        1528.000000         1528.000000   \n",
       "mean     889.659250         442.263743         179.599476          134.549738   \n",
       "std     1983.928834         980.203270         400.516231          311.690656   \n",
       "min        0.000000           0.000000           0.000000            0.000000   \n",
       "25%       24.000000          12.000000           5.000000            4.000000   \n",
       "50%      150.000000          79.000000          31.500000           24.000000   \n",
       "75%      855.000000         413.500000         168.250000          129.250000   \n",
       "max    20744.000000       11548.000000        4152.000000         3658.000000   \n",
       "\n",
       "       rating_two_count  ...  badge_fast_shipping  \\\n",
       "count       1528.000000  ...          1573.000000   \n",
       "mean          63.711387  ...             0.012715   \n",
       "std          151.343933  ...             0.112075   \n",
       "min            0.000000  ...             0.000000   \n",
       "25%            2.000000  ...             0.000000   \n",
       "50%           11.000000  ...             0.000000   \n",
       "75%           62.000000  ...             0.000000   \n",
       "max         2003.000000  ...             1.000000   \n",
       "\n",
       "       product_variation_inventory  shipping_option_price  \\\n",
       "count                  1573.000000            1573.000000   \n",
       "mean                     33.081373               2.345200   \n",
       "std                      21.353137               1.024371   \n",
       "min                       1.000000               1.000000   \n",
       "25%                       6.000000               2.000000   \n",
       "50%                      50.000000               2.000000   \n",
       "75%                      50.000000               3.000000   \n",
       "max                      50.000000              12.000000   \n",
       "\n",
       "       shipping_is_express  countries_shipped_to  inventory_total  \\\n",
       "count          1573.000000           1573.000000      1573.000000   \n",
       "mean              0.002543             40.456453        49.821360   \n",
       "std               0.050379             20.301203         2.562799   \n",
       "min               0.000000              6.000000         1.000000   \n",
       "25%               0.000000             31.000000        50.000000   \n",
       "50%               0.000000             40.000000        50.000000   \n",
       "75%               0.000000             43.000000        50.000000   \n",
       "max               1.000000            140.000000        50.000000   \n",
       "\n",
       "       has_urgency_banner  merchant_rating_count  merchant_rating  \\\n",
       "count               473.0           1.573000e+03      1573.000000   \n",
       "mean                  1.0           2.649583e+04         4.032345   \n",
       "std                   0.0           7.847446e+04         0.204768   \n",
       "min                   1.0           0.000000e+00         2.333333   \n",
       "25%                   1.0           1.987000e+03         3.917353   \n",
       "50%                   1.0           7.936000e+03         4.040650   \n",
       "75%                   1.0           2.456400e+04         4.161797   \n",
       "max                   1.0           2.174765e+06         5.000000   \n",
       "\n",
       "       merchant_has_profile_picture  \n",
       "count                   1573.000000  \n",
       "mean                       0.143675  \n",
       "std                        0.350871  \n",
       "min                        0.000000  \n",
       "25%                        0.000000  \n",
       "50%                        0.000000  \n",
       "75%                        0.000000  \n",
       "max                        1.000000  \n",
       "\n",
       "[8 rows x 24 columns]"
      ]
     },
     "execution_count": 5,
     "metadata": {},
     "output_type": "execute_result"
    }
   ],
   "source": [
    "df.describe()"
   ]
  },
  {
   "cell_type": "markdown",
   "metadata": {},
   "source": [
    "## Features:\n",
    "1. Title:  for localized for european countries. May be the same as title_orig if the seller did not offer a translation\n",
    "2. Title_orig: Original english title of the product\n",
    "3. price: price for buyer\n",
    "4. retail_price: retail price, or reference price in other stores/places. Used by the seller to indicate a regular value or the price before discount.\n",
    "5. currency_buyer\n",
    "6. units_sold: Number of units sold. Lower bound approximation by steps\n",
    "7. uses_ad_boosts: Whether the seller paid to boost his product within the platform (highlighting, better placement or whatever)\n",
    "8. rating: Mean product rating\n",
    "9. rating_count: Total number of ratings of the product\n",
    "10. rating_five_count: Number of 5-star ratings\n",
    "11. rating_four_count: Number of 4-star ratings\n",
    "12. rating_three_count: Number of 3-star ratings\n",
    "13. rating_two_count: Number of 2-star ratings\n",
    "14. rating_one_count: Number of 1-star ratings\n",
    "15. badges_count: number of badges the product or seller have\n",
    "16. badges_local_product: A badge that denotes the product is a local product. Conditions may vary (being produced locally, or something else). Some people may prefer buying local products rather than. 1 means Yes, has the badge\n",
    "17. badge_product_quality: Badge awarded when many buyers consistently gave good evaluations 1 means Yes, has the badge\n",
    "18. badge_fast_shipping: Badge awarded when this product's order is consistently shipped rapidly\n",
    "19. tags: tags set by the seller\n",
    "20. product_color: Product's main color\n",
    "21. product_variation_size_id: One of the available size variation for this product\n",
    "22. product_variation_inventory: Inventory the seller has. Max allowed quantity is 50\n",
    "23. shipping_option_name\n",
    "24. shipping_option_price: shipping price\n",
    "25. shipping_is_express: whether the shipping is express or not. 1 for True\n",
    "26. countries_shipped_to: Number of countries this product is shipped to. Sellers may choose to limit where they ship a product to\n",
    "27. inventory_total: Total inventory for all the product's variations (size/color variations for instance)\n",
    "28. has_urgency_banner: whether there was an urgency banner with an urgency\n",
    "29. urgency_text: A text banner that appear over some products in the search results.\n",
    "30. origin_country\n",
    "31. merchant_title: Merchant's displayed name (show in the UI as the seller's shop name)\n",
    "32. merchant_name: Merchant's canonical name. A name not shown publicly. Used by the website under the hood as a canonical name. Easier to process since all lowercase without white space\n",
    "33. merchant_info_subtitle: The subtitle text as shown on a seller's info section to the user. (raw, not preprocessed). The website shows this to the user to give an overview of the seller's stats to the user. Mostly consists of \"% <positive_feedbacks> (<rating_count> reviews)\" written in french\n",
    "34. merchant_rating_count: Number of ratings of this seller\n",
    "35. merchant_rating: merchant's rating\n",
    "36. merchant_id: merchant unique id\n",
    "37. merchant_has_profile_picture: Convenience boolean that says whether there is a \"merchant_profile_picture\" url\n",
    "38. merchant_profile_picture: Custom profile picture of the seller (if the seller has one). Empty otherwise.\n",
    "39. product_url: url to the product page. You may need to login to access it\n",
    "40. product_picture\n",
    "41. product_id: product identifier. You can use this key to remove duplicate entries if you're not interested in studying them.\n",
    "42. theme: the search term used in the search bar of the website to get these search results.\n",
    "43. crawl_month: meta for info only."
   ]
  },
  {
   "cell_type": "markdown",
   "metadata": {},
   "source": [
    "## Remove duplicate values"
   ]
  },
  {
   "cell_type": "code",
   "execution_count": 4,
   "metadata": {},
   "outputs": [
    {
     "data": {
      "text/html": [
       "<div>\n",
       "<style scoped>\n",
       "    .dataframe tbody tr th:only-of-type {\n",
       "        vertical-align: middle;\n",
       "    }\n",
       "\n",
       "    .dataframe tbody tr th {\n",
       "        vertical-align: top;\n",
       "    }\n",
       "\n",
       "    .dataframe thead th {\n",
       "        text-align: right;\n",
       "    }\n",
       "</style>\n",
       "<table border=\"1\" class=\"dataframe\">\n",
       "  <thead>\n",
       "    <tr style=\"text-align: right;\">\n",
       "      <th></th>\n",
       "      <th>title</th>\n",
       "      <th>title_orig</th>\n",
       "      <th>price</th>\n",
       "      <th>retail_price</th>\n",
       "      <th>currency_buyer</th>\n",
       "      <th>units_sold</th>\n",
       "      <th>uses_ad_boosts</th>\n",
       "      <th>rating</th>\n",
       "      <th>rating_count</th>\n",
       "      <th>rating_five_count</th>\n",
       "      <th>...</th>\n",
       "      <th>merchant_rating_count</th>\n",
       "      <th>merchant_rating</th>\n",
       "      <th>merchant_id</th>\n",
       "      <th>merchant_has_profile_picture</th>\n",
       "      <th>merchant_profile_picture</th>\n",
       "      <th>product_url</th>\n",
       "      <th>product_picture</th>\n",
       "      <th>product_id</th>\n",
       "      <th>theme</th>\n",
       "      <th>crawl_month</th>\n",
       "    </tr>\n",
       "  </thead>\n",
       "  <tbody>\n",
       "    <tr>\n",
       "      <th>62</th>\n",
       "      <td>Femmes Shorts d'été à lacets taille élastique ...</td>\n",
       "      <td>Women Summer Shorts Lace Up Elastic Waistband ...</td>\n",
       "      <td>2.72</td>\n",
       "      <td>3</td>\n",
       "      <td>EUR</td>\n",
       "      <td>100</td>\n",
       "      <td>1</td>\n",
       "      <td>3.10</td>\n",
       "      <td>20</td>\n",
       "      <td>6.0</td>\n",
       "      <td>...</td>\n",
       "      <td>14482</td>\n",
       "      <td>4.001588</td>\n",
       "      <td>5ab3b592c3911a095ad5dadb</td>\n",
       "      <td>0</td>\n",
       "      <td>NaN</td>\n",
       "      <td>https://www.wish.com/c/5ebf5819ebac372b070b0e70</td>\n",
       "      <td>https://contestimg.wish.com/api/webimage/5ebf5...</td>\n",
       "      <td>5ebf5819ebac372b070b0e70</td>\n",
       "      <td>summer</td>\n",
       "      <td>2020-08</td>\n",
       "    </tr>\n",
       "    <tr>\n",
       "      <th>91</th>\n",
       "      <td>Femmes été imprimé grande taille pantalon déco...</td>\n",
       "      <td>Women Summer Printed Plus Size Loose Casual Tr...</td>\n",
       "      <td>11.00</td>\n",
       "      <td>10</td>\n",
       "      <td>EUR</td>\n",
       "      <td>100</td>\n",
       "      <td>1</td>\n",
       "      <td>3.46</td>\n",
       "      <td>50</td>\n",
       "      <td>20.0</td>\n",
       "      <td>...</td>\n",
       "      <td>225438</td>\n",
       "      <td>4.301120</td>\n",
       "      <td>53f6b7c81c105e2dfac91041</td>\n",
       "      <td>0</td>\n",
       "      <td>NaN</td>\n",
       "      <td>https://www.wish.com/c/5d5d038d99df1e17cc9313cf</td>\n",
       "      <td>https://contestimg.wish.com/api/webimage/5d5d0...</td>\n",
       "      <td>5d5d038d99df1e17cc9313cf</td>\n",
       "      <td>summer</td>\n",
       "      <td>2020-08</td>\n",
       "    </tr>\n",
       "    <tr>\n",
       "      <th>98</th>\n",
       "      <td>Mode féminine sans manches col profond croix s...</td>\n",
       "      <td>Women Fashion Sleeveless Deep Neck Cross Spagh...</td>\n",
       "      <td>5.79</td>\n",
       "      <td>42</td>\n",
       "      <td>EUR</td>\n",
       "      <td>1000</td>\n",
       "      <td>0</td>\n",
       "      <td>3.32</td>\n",
       "      <td>121</td>\n",
       "      <td>36.0</td>\n",
       "      <td>...</td>\n",
       "      <td>5083</td>\n",
       "      <td>3.947472</td>\n",
       "      <td>566eaa533a698c6442549a74</td>\n",
       "      <td>0</td>\n",
       "      <td>NaN</td>\n",
       "      <td>https://www.wish.com/c/5d1db3c0e2b5cc0f74e091af</td>\n",
       "      <td>https://contestimg.wish.com/api/webimage/5d1db...</td>\n",
       "      <td>5d1db3c0e2b5cc0f74e091af</td>\n",
       "      <td>summer</td>\n",
       "      <td>2020-08</td>\n",
       "    </tr>\n",
       "    <tr>\n",
       "      <th>140</th>\n",
       "      <td>2018 New Fashion Women Casual Playsuit Dames J...</td>\n",
       "      <td>2018 New Fashion Women Casual Playsuit Ladies ...</td>\n",
       "      <td>11.00</td>\n",
       "      <td>10</td>\n",
       "      <td>EUR</td>\n",
       "      <td>5000</td>\n",
       "      <td>0</td>\n",
       "      <td>3.72</td>\n",
       "      <td>1008</td>\n",
       "      <td>447.0</td>\n",
       "      <td>...</td>\n",
       "      <td>61895</td>\n",
       "      <td>4.268002</td>\n",
       "      <td>55e7e41e606d0a18fdfc67d1</td>\n",
       "      <td>1</td>\n",
       "      <td>https://s3-us-west-1.amazonaws.com/sweeper-pro...</td>\n",
       "      <td>https://www.wish.com/c/5aec22cec25735338c544690</td>\n",
       "      <td>https://contestimg.wish.com/api/webimage/5aec2...</td>\n",
       "      <td>5aec22cec25735338c544690</td>\n",
       "      <td>summer</td>\n",
       "      <td>2020-08</td>\n",
       "    </tr>\n",
       "    <tr>\n",
       "      <th>162</th>\n",
       "      <td>Costume de sport cool pour hommes d'été Vêteme...</td>\n",
       "      <td>Summer mens cool sport suit Sports Wear Casual...</td>\n",
       "      <td>16.00</td>\n",
       "      <td>14</td>\n",
       "      <td>EUR</td>\n",
       "      <td>10</td>\n",
       "      <td>0</td>\n",
       "      <td>3.00</td>\n",
       "      <td>3</td>\n",
       "      <td>0.0</td>\n",
       "      <td>...</td>\n",
       "      <td>31</td>\n",
       "      <td>3.548387</td>\n",
       "      <td>5e61c817039ce2184a0ed392</td>\n",
       "      <td>0</td>\n",
       "      <td>NaN</td>\n",
       "      <td>https://www.wish.com/c/5e9a74e447f7d92c8db8d14b</td>\n",
       "      <td>https://contestimg.wish.com/api/webimage/5e9a7...</td>\n",
       "      <td>5e9a74e447f7d92c8db8d14b</td>\n",
       "      <td>summer</td>\n",
       "      <td>2020-08</td>\n",
       "    </tr>\n",
       "    <tr>\n",
       "      <th>...</th>\n",
       "      <td>...</td>\n",
       "      <td>...</td>\n",
       "      <td>...</td>\n",
       "      <td>...</td>\n",
       "      <td>...</td>\n",
       "      <td>...</td>\n",
       "      <td>...</td>\n",
       "      <td>...</td>\n",
       "      <td>...</td>\n",
       "      <td>...</td>\n",
       "      <td>...</td>\n",
       "      <td>...</td>\n",
       "      <td>...</td>\n",
       "      <td>...</td>\n",
       "      <td>...</td>\n",
       "      <td>...</td>\n",
       "      <td>...</td>\n",
       "      <td>...</td>\n",
       "      <td>...</td>\n",
       "      <td>...</td>\n",
       "      <td>...</td>\n",
       "    </tr>\n",
       "    <tr>\n",
       "      <th>1559</th>\n",
       "      <td>Tendances vêtements de sport d'été pour hommes...</td>\n",
       "      <td>Trending Summer Sports Wear for Men Casual Two...</td>\n",
       "      <td>16.00</td>\n",
       "      <td>14</td>\n",
       "      <td>EUR</td>\n",
       "      <td>100</td>\n",
       "      <td>1</td>\n",
       "      <td>4.05</td>\n",
       "      <td>82</td>\n",
       "      <td>43.0</td>\n",
       "      <td>...</td>\n",
       "      <td>514</td>\n",
       "      <td>4.217899</td>\n",
       "      <td>5b0b907d59206904541886cf</td>\n",
       "      <td>0</td>\n",
       "      <td>NaN</td>\n",
       "      <td>https://www.wish.com/c/5ea0f2a654446407c111b622</td>\n",
       "      <td>https://contestimg.wish.com/api/webimage/5ea0f...</td>\n",
       "      <td>5ea0f2a654446407c111b622</td>\n",
       "      <td>summer</td>\n",
       "      <td>2020-08</td>\n",
       "    </tr>\n",
       "    <tr>\n",
       "      <th>1562</th>\n",
       "      <td>Summer Women s Fashion Lace Up Tie Pants Plus...</td>\n",
       "      <td>Summer Women s Fashion Lace Up Tie Pants Plus...</td>\n",
       "      <td>4.93</td>\n",
       "      <td>6</td>\n",
       "      <td>EUR</td>\n",
       "      <td>100</td>\n",
       "      <td>0</td>\n",
       "      <td>3.77</td>\n",
       "      <td>47</td>\n",
       "      <td>22.0</td>\n",
       "      <td>...</td>\n",
       "      <td>17752</td>\n",
       "      <td>3.899673</td>\n",
       "      <td>56458aa03a698c35c9050988</td>\n",
       "      <td>0</td>\n",
       "      <td>NaN</td>\n",
       "      <td>https://www.wish.com/c/5d58daef3159a812b05933d2</td>\n",
       "      <td>https://contestimg.wish.com/api/webimage/5d58d...</td>\n",
       "      <td>5d58daef3159a812b05933d2</td>\n",
       "      <td>summer</td>\n",
       "      <td>2020-08</td>\n",
       "    </tr>\n",
       "    <tr>\n",
       "      <th>1566</th>\n",
       "      <td>Robe mi-longue d'été à manches courtes pour fe...</td>\n",
       "      <td>Womens Short Sleeve Baggy Summer Beach Midi Dr...</td>\n",
       "      <td>11.00</td>\n",
       "      <td>134</td>\n",
       "      <td>EUR</td>\n",
       "      <td>100</td>\n",
       "      <td>1</td>\n",
       "      <td>3.54</td>\n",
       "      <td>28</td>\n",
       "      <td>7.0</td>\n",
       "      <td>...</td>\n",
       "      <td>1926</td>\n",
       "      <td>4.071651</td>\n",
       "      <td>593402ae25c4f54ed4e0abdf</td>\n",
       "      <td>0</td>\n",
       "      <td>NaN</td>\n",
       "      <td>https://www.wish.com/c/5d1060d39ed281190dfcec91</td>\n",
       "      <td>https://contestimg.wish.com/api/webimage/5d106...</td>\n",
       "      <td>5d1060d39ed281190dfcec91</td>\n",
       "      <td>summer</td>\n",
       "      <td>2020-08</td>\n",
       "    </tr>\n",
       "    <tr>\n",
       "      <th>1569</th>\n",
       "      <td>10 couleurs femmes shorts d'été lacent ceintur...</td>\n",
       "      <td>10 Color Women Summer Shorts Lace Up Elastic W...</td>\n",
       "      <td>2.00</td>\n",
       "      <td>56</td>\n",
       "      <td>EUR</td>\n",
       "      <td>100</td>\n",
       "      <td>1</td>\n",
       "      <td>3.07</td>\n",
       "      <td>28</td>\n",
       "      <td>11.0</td>\n",
       "      <td>...</td>\n",
       "      <td>4435</td>\n",
       "      <td>3.696054</td>\n",
       "      <td>54d83b6b6b8a771e478558de</td>\n",
       "      <td>0</td>\n",
       "      <td>NaN</td>\n",
       "      <td>https://www.wish.com/c/5eccd22b4497b86fd48f16b4</td>\n",
       "      <td>https://contestimg.wish.com/api/webimage/5eccd...</td>\n",
       "      <td>5eccd22b4497b86fd48f16b4</td>\n",
       "      <td>summer</td>\n",
       "      <td>2020-08</td>\n",
       "    </tr>\n",
       "    <tr>\n",
       "      <th>1571</th>\n",
       "      <td>Mode femmes d'été sans manches robes col en V ...</td>\n",
       "      <td>Fashion Women Summer Sleeveless Dresses V Neck...</td>\n",
       "      <td>13.00</td>\n",
       "      <td>11</td>\n",
       "      <td>EUR</td>\n",
       "      <td>100</td>\n",
       "      <td>0</td>\n",
       "      <td>2.50</td>\n",
       "      <td>2</td>\n",
       "      <td>0.0</td>\n",
       "      <td>...</td>\n",
       "      <td>31</td>\n",
       "      <td>3.774194</td>\n",
       "      <td>5d56b32c40defd78043d5af9</td>\n",
       "      <td>0</td>\n",
       "      <td>NaN</td>\n",
       "      <td>https://www.wish.com/c/5eda07ab0e295c2097c36590</td>\n",
       "      <td>https://contestimg.wish.com/api/webimage/5eda0...</td>\n",
       "      <td>5eda07ab0e295c2097c36590</td>\n",
       "      <td>summer</td>\n",
       "      <td>2020-08</td>\n",
       "    </tr>\n",
       "  </tbody>\n",
       "</table>\n",
       "<p>232 rows × 43 columns</p>\n",
       "</div>"
      ],
      "text/plain": [
       "                                                  title  \\\n",
       "62    Femmes Shorts d'été à lacets taille élastique ...   \n",
       "91    Femmes été imprimé grande taille pantalon déco...   \n",
       "98    Mode féminine sans manches col profond croix s...   \n",
       "140   2018 New Fashion Women Casual Playsuit Dames J...   \n",
       "162   Costume de sport cool pour hommes d'été Vêteme...   \n",
       "...                                                 ...   \n",
       "1559  Tendances vêtements de sport d'été pour hommes...   \n",
       "1562   Summer Women s Fashion Lace Up Tie Pants Plus...   \n",
       "1566  Robe mi-longue d'été à manches courtes pour fe...   \n",
       "1569  10 couleurs femmes shorts d'été lacent ceintur...   \n",
       "1571  Mode femmes d'été sans manches robes col en V ...   \n",
       "\n",
       "                                             title_orig  price  retail_price  \\\n",
       "62    Women Summer Shorts Lace Up Elastic Waistband ...   2.72             3   \n",
       "91    Women Summer Printed Plus Size Loose Casual Tr...  11.00            10   \n",
       "98    Women Fashion Sleeveless Deep Neck Cross Spagh...   5.79            42   \n",
       "140   2018 New Fashion Women Casual Playsuit Ladies ...  11.00            10   \n",
       "162   Summer mens cool sport suit Sports Wear Casual...  16.00            14   \n",
       "...                                                 ...    ...           ...   \n",
       "1559  Trending Summer Sports Wear for Men Casual Two...  16.00            14   \n",
       "1562   Summer Women s Fashion Lace Up Tie Pants Plus...   4.93             6   \n",
       "1566  Womens Short Sleeve Baggy Summer Beach Midi Dr...  11.00           134   \n",
       "1569  10 Color Women Summer Shorts Lace Up Elastic W...   2.00            56   \n",
       "1571  Fashion Women Summer Sleeveless Dresses V Neck...  13.00            11   \n",
       "\n",
       "     currency_buyer  units_sold  uses_ad_boosts  rating  rating_count  \\\n",
       "62              EUR         100               1    3.10            20   \n",
       "91              EUR         100               1    3.46            50   \n",
       "98              EUR        1000               0    3.32           121   \n",
       "140             EUR        5000               0    3.72          1008   \n",
       "162             EUR          10               0    3.00             3   \n",
       "...             ...         ...             ...     ...           ...   \n",
       "1559            EUR         100               1    4.05            82   \n",
       "1562            EUR         100               0    3.77            47   \n",
       "1566            EUR         100               1    3.54            28   \n",
       "1569            EUR         100               1    3.07            28   \n",
       "1571            EUR         100               0    2.50             2   \n",
       "\n",
       "      rating_five_count  ...  merchant_rating_count  merchant_rating  \\\n",
       "62                  6.0  ...                  14482         4.001588   \n",
       "91                 20.0  ...                 225438         4.301120   \n",
       "98                 36.0  ...                   5083         3.947472   \n",
       "140               447.0  ...                  61895         4.268002   \n",
       "162                 0.0  ...                     31         3.548387   \n",
       "...                 ...  ...                    ...              ...   \n",
       "1559               43.0  ...                    514         4.217899   \n",
       "1562               22.0  ...                  17752         3.899673   \n",
       "1566                7.0  ...                   1926         4.071651   \n",
       "1569               11.0  ...                   4435         3.696054   \n",
       "1571                0.0  ...                     31         3.774194   \n",
       "\n",
       "                   merchant_id  merchant_has_profile_picture  \\\n",
       "62    5ab3b592c3911a095ad5dadb                             0   \n",
       "91    53f6b7c81c105e2dfac91041                             0   \n",
       "98    566eaa533a698c6442549a74                             0   \n",
       "140   55e7e41e606d0a18fdfc67d1                             1   \n",
       "162   5e61c817039ce2184a0ed392                             0   \n",
       "...                        ...                           ...   \n",
       "1559  5b0b907d59206904541886cf                             0   \n",
       "1562  56458aa03a698c35c9050988                             0   \n",
       "1566  593402ae25c4f54ed4e0abdf                             0   \n",
       "1569  54d83b6b6b8a771e478558de                             0   \n",
       "1571  5d56b32c40defd78043d5af9                             0   \n",
       "\n",
       "                               merchant_profile_picture  \\\n",
       "62                                                  NaN   \n",
       "91                                                  NaN   \n",
       "98                                                  NaN   \n",
       "140   https://s3-us-west-1.amazonaws.com/sweeper-pro...   \n",
       "162                                                 NaN   \n",
       "...                                                 ...   \n",
       "1559                                                NaN   \n",
       "1562                                                NaN   \n",
       "1566                                                NaN   \n",
       "1569                                                NaN   \n",
       "1571                                                NaN   \n",
       "\n",
       "                                          product_url  \\\n",
       "62    https://www.wish.com/c/5ebf5819ebac372b070b0e70   \n",
       "91    https://www.wish.com/c/5d5d038d99df1e17cc9313cf   \n",
       "98    https://www.wish.com/c/5d1db3c0e2b5cc0f74e091af   \n",
       "140   https://www.wish.com/c/5aec22cec25735338c544690   \n",
       "162   https://www.wish.com/c/5e9a74e447f7d92c8db8d14b   \n",
       "...                                               ...   \n",
       "1559  https://www.wish.com/c/5ea0f2a654446407c111b622   \n",
       "1562  https://www.wish.com/c/5d58daef3159a812b05933d2   \n",
       "1566  https://www.wish.com/c/5d1060d39ed281190dfcec91   \n",
       "1569  https://www.wish.com/c/5eccd22b4497b86fd48f16b4   \n",
       "1571  https://www.wish.com/c/5eda07ab0e295c2097c36590   \n",
       "\n",
       "                                        product_picture  \\\n",
       "62    https://contestimg.wish.com/api/webimage/5ebf5...   \n",
       "91    https://contestimg.wish.com/api/webimage/5d5d0...   \n",
       "98    https://contestimg.wish.com/api/webimage/5d1db...   \n",
       "140   https://contestimg.wish.com/api/webimage/5aec2...   \n",
       "162   https://contestimg.wish.com/api/webimage/5e9a7...   \n",
       "...                                                 ...   \n",
       "1559  https://contestimg.wish.com/api/webimage/5ea0f...   \n",
       "1562  https://contestimg.wish.com/api/webimage/5d58d...   \n",
       "1566  https://contestimg.wish.com/api/webimage/5d106...   \n",
       "1569  https://contestimg.wish.com/api/webimage/5eccd...   \n",
       "1571  https://contestimg.wish.com/api/webimage/5eda0...   \n",
       "\n",
       "                    product_id   theme crawl_month  \n",
       "62    5ebf5819ebac372b070b0e70  summer     2020-08  \n",
       "91    5d5d038d99df1e17cc9313cf  summer     2020-08  \n",
       "98    5d1db3c0e2b5cc0f74e091af  summer     2020-08  \n",
       "140   5aec22cec25735338c544690  summer     2020-08  \n",
       "162   5e9a74e447f7d92c8db8d14b  summer     2020-08  \n",
       "...                        ...     ...         ...  \n",
       "1559  5ea0f2a654446407c111b622  summer     2020-08  \n",
       "1562  5d58daef3159a812b05933d2  summer     2020-08  \n",
       "1566  5d1060d39ed281190dfcec91  summer     2020-08  \n",
       "1569  5eccd22b4497b86fd48f16b4  summer     2020-08  \n",
       "1571  5eda07ab0e295c2097c36590  summer     2020-08  \n",
       "\n",
       "[232 rows x 43 columns]"
      ]
     },
     "execution_count": 4,
     "metadata": {},
     "output_type": "execute_result"
    }
   ],
   "source": [
    "## Duplicate values\n",
    "\n",
    "duplicate_series = df['product_id'].duplicated(keep='first') \n",
    "df[duplicate_series]"
   ]
  },
  {
   "cell_type": "code",
   "execution_count": 5,
   "metadata": {},
   "outputs": [],
   "source": [
    "df.drop_duplicates(subset =\"product_id\", keep = 'first', inplace = True)"
   ]
  },
  {
   "cell_type": "code",
   "execution_count": 6,
   "metadata": {},
   "outputs": [
    {
     "data": {
      "text/plain": [
       "title                              0\n",
       "title_orig                         0\n",
       "price                              0\n",
       "retail_price                       0\n",
       "currency_buyer                     0\n",
       "units_sold                         0\n",
       "uses_ad_boosts                     0\n",
       "rating                             0\n",
       "rating_count                       0\n",
       "rating_five_count                 35\n",
       "rating_four_count                 35\n",
       "rating_three_count                35\n",
       "rating_two_count                  35\n",
       "rating_one_count                  35\n",
       "badges_count                       0\n",
       "badge_local_product                0\n",
       "badge_product_quality              0\n",
       "badge_fast_shipping                0\n",
       "tags                               0\n",
       "product_color                     40\n",
       "product_variation_size_id         13\n",
       "product_variation_inventory        0\n",
       "shipping_option_name               0\n",
       "shipping_option_price              0\n",
       "shipping_is_express                0\n",
       "countries_shipped_to               0\n",
       "inventory_total                    0\n",
       "has_urgency_banner               975\n",
       "urgency_text                     975\n",
       "origin_country                    13\n",
       "merchant_title                     0\n",
       "merchant_name                      2\n",
       "merchant_info_subtitle             1\n",
       "merchant_rating_count              0\n",
       "merchant_rating                    0\n",
       "merchant_id                        0\n",
       "merchant_has_profile_picture       0\n",
       "merchant_profile_picture        1138\n",
       "product_url                        0\n",
       "product_picture                    0\n",
       "product_id                         0\n",
       "theme                              0\n",
       "crawl_month                        0\n",
       "dtype: int64"
      ]
     },
     "execution_count": 6,
     "metadata": {},
     "output_type": "execute_result"
    }
   ],
   "source": [
    "df.isnull().sum()"
   ]
  },
  {
   "cell_type": "markdown",
   "metadata": {},
   "source": [
    "## Target Feature: Units sold"
   ]
  },
  {
   "cell_type": "code",
   "execution_count": 7,
   "metadata": {},
   "outputs": [
    {
     "name": "stdout",
     "output_type": "stream",
     "text": [
      "100       396\n",
      "1000      362\n",
      "5000      200\n",
      "10000     163\n",
      "20000      99\n",
      "50         50\n",
      "10         36\n",
      "50000      17\n",
      "100000      6\n",
      "1           3\n",
      "8           2\n",
      "7           2\n",
      "3           2\n",
      "2           2\n",
      "6           1\n",
      "Name: units_sold, dtype: int64\n"
     ]
    },
    {
     "data": {
      "image/png": "[encoded data removed]",
      "text/plain": [
       "<Figure size 432x288 with 1 Axes>"
      ]
     },
     "metadata": {
      "needs_background": "light"
     },
     "output_type": "display_data"
    }
   ],
   "source": [
    "print(df['units_sold'].value_counts())\n",
    "df['units_sold'].hist();"
   ]
  },
  {
   "cell_type": "markdown",
   "metadata": {},
   "source": [
    "#### Units sold below 10 are very few, will combine with the \"10\" units sold."
   ]
  },
  {
   "cell_type": "markdown",
   "metadata": {},
   "source": [
    "## Separate Categorical and Numeric features"
   ]
  },
  {
   "cell_type": "code",
   "execution_count": 9,
   "metadata": {},
   "outputs": [],
   "source": [
    "df_num = df[['price', 'retail_price', 'units_sold', 'rating_count', 'rating_five_count', 'rating_four_count',\n",
    "             'rating_three_count', 'rating_two_count', 'rating_one_count', 'badges_count', 'product_variation_inventory', \n",
    "             'inventory_total', 'shipping_option_price', 'countries_shipped_to', 'merchant_rating_count']]\n",
    "\n",
    "df_cat = df[['title', 'title_orig','currency_buyer','uses_ad_boosts', 'rating','badge_local_product', \n",
    "             'badge_product_quality', 'badge_fast_shipping','tags', 'product_color', 'product_variation_size_id',\n",
    "             'shipping_option_name', 'shipping_is_express', 'countries_shipped_to','has_urgency_banner', \n",
    "             'urgency_text', 'origin_country', 'merchant_title', 'merchant_name', 'merchant_info_subtitle',\n",
    "             'merchant_rating','merchant_id', 'merchant_has_profile_picture','product_url', 'product_picture',\n",
    "             'product_id', 'theme', 'crawl_month']]"
   ]
  },
  {
   "cell_type": "code",
   "execution_count": 29,
   "metadata": {},
   "outputs": [
    {
     "data": {
      "text/html": [
       "<div>\n",
       "<style scoped>\n",
       "    .dataframe tbody tr th:only-of-type {\n",
       "        vertical-align: middle;\n",
       "    }\n",
       "\n",
       "    .dataframe tbody tr th {\n",
       "        vertical-align: top;\n",
       "    }\n",
       "\n",
       "    .dataframe thead th {\n",
       "        text-align: right;\n",
       "    }\n",
       "</style>\n",
       "<table border=\"1\" class=\"dataframe\">\n",
       "  <thead>\n",
       "    <tr style=\"text-align: right;\">\n",
       "      <th></th>\n",
       "      <th>title</th>\n",
       "      <th>title_orig</th>\n",
       "      <th>currency_buyer</th>\n",
       "      <th>uses_ad_boosts</th>\n",
       "      <th>rating</th>\n",
       "      <th>badge_local_product</th>\n",
       "      <th>badge_product_quality</th>\n",
       "      <th>badge_fast_shipping</th>\n",
       "      <th>tags</th>\n",
       "      <th>product_color</th>\n",
       "      <th>...</th>\n",
       "      <th>merchant_name</th>\n",
       "      <th>merchant_info_subtitle</th>\n",
       "      <th>merchant_rating</th>\n",
       "      <th>merchant_id</th>\n",
       "      <th>merchant_has_profile_picture</th>\n",
       "      <th>product_url</th>\n",
       "      <th>product_picture</th>\n",
       "      <th>product_id</th>\n",
       "      <th>theme</th>\n",
       "      <th>crawl_month</th>\n",
       "    </tr>\n",
       "  </thead>\n",
       "  <tbody>\n",
       "    <tr>\n",
       "      <th>0</th>\n",
       "      <td>2020 Summer Vintage Flamingo Print  Pajamas Se...</td>\n",
       "      <td>2020 Summer Vintage Flamingo Print  Pajamas Se...</td>\n",
       "      <td>EUR</td>\n",
       "      <td>0</td>\n",
       "      <td>3.76</td>\n",
       "      <td>0</td>\n",
       "      <td>0</td>\n",
       "      <td>0</td>\n",
       "      <td>Summer,Fashion,womenunderwearsuit,printedpajam...</td>\n",
       "      <td>white</td>\n",
       "      <td>...</td>\n",
       "      <td>zgrdejia</td>\n",
       "      <td>(568 notes)</td>\n",
       "      <td>4.128521</td>\n",
       "      <td>595097d6a26f6e070cb878d1</td>\n",
       "      <td>0</td>\n",
       "      <td>https://www.wish.com/c/5e9ae51d43d6a96e303acdb0</td>\n",
       "      <td>https://contestimg.wish.com/api/webimage/5e9ae...</td>\n",
       "      <td>5e9ae51d43d6a96e303acdb0</td>\n",
       "      <td>summer</td>\n",
       "      <td>2020-08</td>\n",
       "    </tr>\n",
       "    <tr>\n",
       "      <th>1</th>\n",
       "      <td>SSHOUSE Summer Casual Sleeveless Soirée Party ...</td>\n",
       "      <td>Women's Casual Summer Sleeveless Sexy Mini Dress</td>\n",
       "      <td>EUR</td>\n",
       "      <td>1</td>\n",
       "      <td>3.45</td>\n",
       "      <td>0</td>\n",
       "      <td>0</td>\n",
       "      <td>0</td>\n",
       "      <td>Mini,womens dresses,Summer,Patchwork,fashion d...</td>\n",
       "      <td>green</td>\n",
       "      <td>...</td>\n",
       "      <td>sarahouse</td>\n",
       "      <td>83 % avis positifs (17,752 notes)</td>\n",
       "      <td>3.899673</td>\n",
       "      <td>56458aa03a698c35c9050988</td>\n",
       "      <td>0</td>\n",
       "      <td>https://www.wish.com/c/58940d436a0d3d5da4e95a38</td>\n",
       "      <td>https://contestimg.wish.com/api/webimage/58940...</td>\n",
       "      <td>58940d436a0d3d5da4e95a38</td>\n",
       "      <td>summer</td>\n",
       "      <td>2020-08</td>\n",
       "    </tr>\n",
       "    <tr>\n",
       "      <th>2</th>\n",
       "      <td>2020 Nouvelle Arrivée Femmes Printemps et Été ...</td>\n",
       "      <td>2020 New Arrival Women Spring and Summer Beach...</td>\n",
       "      <td>EUR</td>\n",
       "      <td>0</td>\n",
       "      <td>3.57</td>\n",
       "      <td>0</td>\n",
       "      <td>0</td>\n",
       "      <td>0</td>\n",
       "      <td>Summer,cardigan,women beachwear,chiffon,Sexy w...</td>\n",
       "      <td>leopardprint</td>\n",
       "      <td>...</td>\n",
       "      <td>hxt520</td>\n",
       "      <td>86 % avis positifs (295 notes)</td>\n",
       "      <td>3.989831</td>\n",
       "      <td>5d464a1ffdf7bc44ee933c65</td>\n",
       "      <td>0</td>\n",
       "      <td>https://www.wish.com/c/5ea10e2c617580260d55310a</td>\n",
       "      <td>https://contestimg.wish.com/api/webimage/5ea10...</td>\n",
       "      <td>5ea10e2c617580260d55310a</td>\n",
       "      <td>summer</td>\n",
       "      <td>2020-08</td>\n",
       "    </tr>\n",
       "    <tr>\n",
       "      <th>3</th>\n",
       "      <td>Hot Summer Cool T-shirt pour les femmes Mode T...</td>\n",
       "      <td>Hot Summer Cool T Shirt for Women Fashion Tops...</td>\n",
       "      <td>EUR</td>\n",
       "      <td>1</td>\n",
       "      <td>4.03</td>\n",
       "      <td>0</td>\n",
       "      <td>0</td>\n",
       "      <td>0</td>\n",
       "      <td>Summer,Shorts,Cotton,Cotton T Shirt,Sleeve,pri...</td>\n",
       "      <td>black</td>\n",
       "      <td>...</td>\n",
       "      <td>allenfan</td>\n",
       "      <td>(23,832 notes)</td>\n",
       "      <td>4.020435</td>\n",
       "      <td>58cfdefdacb37b556efdff7c</td>\n",
       "      <td>0</td>\n",
       "      <td>https://www.wish.com/c/5cedf17ad1d44c52c59e4aca</td>\n",
       "      <td>https://contestimg.wish.com/api/webimage/5cedf...</td>\n",
       "      <td>5cedf17ad1d44c52c59e4aca</td>\n",
       "      <td>summer</td>\n",
       "      <td>2020-08</td>\n",
       "    </tr>\n",
       "    <tr>\n",
       "      <th>4</th>\n",
       "      <td>Femmes Shorts d'été à lacets taille élastique ...</td>\n",
       "      <td>Women Summer Shorts Lace Up Elastic Waistband ...</td>\n",
       "      <td>EUR</td>\n",
       "      <td>1</td>\n",
       "      <td>3.10</td>\n",
       "      <td>0</td>\n",
       "      <td>0</td>\n",
       "      <td>0</td>\n",
       "      <td>Summer,Plus Size,Lace,Casual pants,Bottom,pant...</td>\n",
       "      <td>yellow</td>\n",
       "      <td>...</td>\n",
       "      <td>happyhorses</td>\n",
       "      <td>85 % avis positifs (14,482 notes)</td>\n",
       "      <td>4.001588</td>\n",
       "      <td>5ab3b592c3911a095ad5dadb</td>\n",
       "      <td>0</td>\n",
       "      <td>https://www.wish.com/c/5ebf5819ebac372b070b0e70</td>\n",
       "      <td>https://contestimg.wish.com/api/webimage/5ebf5...</td>\n",
       "      <td>5ebf5819ebac372b070b0e70</td>\n",
       "      <td>summer</td>\n",
       "      <td>2020-08</td>\n",
       "    </tr>\n",
       "  </tbody>\n",
       "</table>\n",
       "<p>5 rows × 28 columns</p>\n",
       "</div>"
      ],
      "text/plain": [
       "                                               title  \\\n",
       "0  2020 Summer Vintage Flamingo Print  Pajamas Se...   \n",
       "1  SSHOUSE Summer Casual Sleeveless Soirée Party ...   \n",
       "2  2020 Nouvelle Arrivée Femmes Printemps et Été ...   \n",
       "3  Hot Summer Cool T-shirt pour les femmes Mode T...   \n",
       "4  Femmes Shorts d'été à lacets taille élastique ...   \n",
       "\n",
       "                                          title_orig currency_buyer  \\\n",
       "0  2020 Summer Vintage Flamingo Print  Pajamas Se...            EUR   \n",
       "1   Women's Casual Summer Sleeveless Sexy Mini Dress            EUR   \n",
       "2  2020 New Arrival Women Spring and Summer Beach...            EUR   \n",
       "3  Hot Summer Cool T Shirt for Women Fashion Tops...            EUR   \n",
       "4  Women Summer Shorts Lace Up Elastic Waistband ...            EUR   \n",
       "\n",
       "   uses_ad_boosts  rating  badge_local_product  badge_product_quality  \\\n",
       "0               0    3.76                    0                      0   \n",
       "1               1    3.45                    0                      0   \n",
       "2               0    3.57                    0                      0   \n",
       "3               1    4.03                    0                      0   \n",
       "4               1    3.10                    0                      0   \n",
       "\n",
       "   badge_fast_shipping                                               tags  \\\n",
       "0                    0  Summer,Fashion,womenunderwearsuit,printedpajam...   \n",
       "1                    0  Mini,womens dresses,Summer,Patchwork,fashion d...   \n",
       "2                    0  Summer,cardigan,women beachwear,chiffon,Sexy w...   \n",
       "3                    0  Summer,Shorts,Cotton,Cotton T Shirt,Sleeve,pri...   \n",
       "4                    0  Summer,Plus Size,Lace,Casual pants,Bottom,pant...   \n",
       "\n",
       "  product_color  ... merchant_name             merchant_info_subtitle  \\\n",
       "0         white  ...      zgrdejia                        (568 notes)   \n",
       "1         green  ...     sarahouse  83 % avis positifs (17,752 notes)   \n",
       "2  leopardprint  ...        hxt520     86 % avis positifs (295 notes)   \n",
       "3         black  ...      allenfan                     (23,832 notes)   \n",
       "4        yellow  ...   happyhorses  85 % avis positifs (14,482 notes)   \n",
       "\n",
       "   merchant_rating               merchant_id  merchant_has_profile_picture  \\\n",
       "0         4.128521  595097d6a26f6e070cb878d1                             0   \n",
       "1         3.899673  56458aa03a698c35c9050988                             0   \n",
       "2         3.989831  5d464a1ffdf7bc44ee933c65                             0   \n",
       "3         4.020435  58cfdefdacb37b556efdff7c                             0   \n",
       "4         4.001588  5ab3b592c3911a095ad5dadb                             0   \n",
       "\n",
       "                                       product_url  \\\n",
       "0  https://www.wish.com/c/5e9ae51d43d6a96e303acdb0   \n",
       "1  https://www.wish.com/c/58940d436a0d3d5da4e95a38   \n",
       "2  https://www.wish.com/c/5ea10e2c617580260d55310a   \n",
       "3  https://www.wish.com/c/5cedf17ad1d44c52c59e4aca   \n",
       "4  https://www.wish.com/c/5ebf5819ebac372b070b0e70   \n",
       "\n",
       "                                     product_picture  \\\n",
       "0  https://contestimg.wish.com/api/webimage/5e9ae...   \n",
       "1  https://contestimg.wish.com/api/webimage/58940...   \n",
       "2  https://contestimg.wish.com/api/webimage/5ea10...   \n",
       "3  https://contestimg.wish.com/api/webimage/5cedf...   \n",
       "4  https://contestimg.wish.com/api/webimage/5ebf5...   \n",
       "\n",
       "                 product_id   theme crawl_month  \n",
       "0  5e9ae51d43d6a96e303acdb0  summer     2020-08  \n",
       "1  58940d436a0d3d5da4e95a38  summer     2020-08  \n",
       "2  5ea10e2c617580260d55310a  summer     2020-08  \n",
       "3  5cedf17ad1d44c52c59e4aca  summer     2020-08  \n",
       "4  5ebf5819ebac372b070b0e70  summer     2020-08  \n",
       "\n",
       "[5 rows x 28 columns]"
      ]
     },
     "execution_count": 29,
     "metadata": {},
     "output_type": "execute_result"
    }
   ],
   "source": [
    "df_cat.head()"
   ]
  },
  {
   "cell_type": "code",
   "execution_count": 30,
   "metadata": {},
   "outputs": [
    {
     "data": {
      "text/html": [
       "<div>\n",
       "<style scoped>\n",
       "    .dataframe tbody tr th:only-of-type {\n",
       "        vertical-align: middle;\n",
       "    }\n",
       "\n",
       "    .dataframe tbody tr th {\n",
       "        vertical-align: top;\n",
       "    }\n",
       "\n",
       "    .dataframe thead th {\n",
       "        text-align: right;\n",
       "    }\n",
       "</style>\n",
       "<table border=\"1\" class=\"dataframe\">\n",
       "  <thead>\n",
       "    <tr style=\"text-align: right;\">\n",
       "      <th></th>\n",
       "      <th>price</th>\n",
       "      <th>retail_price</th>\n",
       "      <th>units_sold</th>\n",
       "      <th>rating_count</th>\n",
       "      <th>rating_five_count</th>\n",
       "      <th>rating_four_count</th>\n",
       "      <th>rating_three_count</th>\n",
       "      <th>rating_two_count</th>\n",
       "      <th>rating_one_count</th>\n",
       "      <th>badges_count</th>\n",
       "      <th>product_variation_inventory</th>\n",
       "      <th>inventory_total</th>\n",
       "      <th>shipping_option_price</th>\n",
       "      <th>countries_shipped_to</th>\n",
       "      <th>merchant_rating_count</th>\n",
       "    </tr>\n",
       "  </thead>\n",
       "  <tbody>\n",
       "    <tr>\n",
       "      <th>0</th>\n",
       "      <td>16.00</td>\n",
       "      <td>14</td>\n",
       "      <td>100</td>\n",
       "      <td>54</td>\n",
       "      <td>26.0</td>\n",
       "      <td>8.0</td>\n",
       "      <td>10.0</td>\n",
       "      <td>1.0</td>\n",
       "      <td>9.0</td>\n",
       "      <td>0</td>\n",
       "      <td>50</td>\n",
       "      <td>50</td>\n",
       "      <td>4</td>\n",
       "      <td>34</td>\n",
       "      <td>568</td>\n",
       "    </tr>\n",
       "    <tr>\n",
       "      <th>1</th>\n",
       "      <td>8.00</td>\n",
       "      <td>22</td>\n",
       "      <td>20000</td>\n",
       "      <td>6135</td>\n",
       "      <td>2269.0</td>\n",
       "      <td>1027.0</td>\n",
       "      <td>1118.0</td>\n",
       "      <td>644.0</td>\n",
       "      <td>1077.0</td>\n",
       "      <td>0</td>\n",
       "      <td>50</td>\n",
       "      <td>50</td>\n",
       "      <td>2</td>\n",
       "      <td>41</td>\n",
       "      <td>17752</td>\n",
       "    </tr>\n",
       "    <tr>\n",
       "      <th>2</th>\n",
       "      <td>8.00</td>\n",
       "      <td>43</td>\n",
       "      <td>100</td>\n",
       "      <td>14</td>\n",
       "      <td>5.0</td>\n",
       "      <td>4.0</td>\n",
       "      <td>2.0</td>\n",
       "      <td>0.0</td>\n",
       "      <td>3.0</td>\n",
       "      <td>0</td>\n",
       "      <td>1</td>\n",
       "      <td>50</td>\n",
       "      <td>3</td>\n",
       "      <td>36</td>\n",
       "      <td>295</td>\n",
       "    </tr>\n",
       "    <tr>\n",
       "      <th>3</th>\n",
       "      <td>8.00</td>\n",
       "      <td>8</td>\n",
       "      <td>5000</td>\n",
       "      <td>579</td>\n",
       "      <td>295.0</td>\n",
       "      <td>119.0</td>\n",
       "      <td>87.0</td>\n",
       "      <td>42.0</td>\n",
       "      <td>36.0</td>\n",
       "      <td>0</td>\n",
       "      <td>50</td>\n",
       "      <td>50</td>\n",
       "      <td>2</td>\n",
       "      <td>41</td>\n",
       "      <td>23832</td>\n",
       "    </tr>\n",
       "    <tr>\n",
       "      <th>4</th>\n",
       "      <td>2.72</td>\n",
       "      <td>3</td>\n",
       "      <td>100</td>\n",
       "      <td>20</td>\n",
       "      <td>6.0</td>\n",
       "      <td>4.0</td>\n",
       "      <td>2.0</td>\n",
       "      <td>2.0</td>\n",
       "      <td>6.0</td>\n",
       "      <td>0</td>\n",
       "      <td>1</td>\n",
       "      <td>50</td>\n",
       "      <td>1</td>\n",
       "      <td>35</td>\n",
       "      <td>14482</td>\n",
       "    </tr>\n",
       "  </tbody>\n",
       "</table>\n",
       "</div>"
      ],
      "text/plain": [
       "   price  retail_price  units_sold  rating_count  rating_five_count  \\\n",
       "0  16.00            14         100            54               26.0   \n",
       "1   8.00            22       20000          6135             2269.0   \n",
       "2   8.00            43         100            14                5.0   \n",
       "3   8.00             8        5000           579              295.0   \n",
       "4   2.72             3         100            20                6.0   \n",
       "\n",
       "   rating_four_count  rating_three_count  rating_two_count  rating_one_count  \\\n",
       "0                8.0                10.0               1.0               9.0   \n",
       "1             1027.0              1118.0             644.0            1077.0   \n",
       "2                4.0                 2.0               0.0               3.0   \n",
       "3              119.0                87.0              42.0              36.0   \n",
       "4                4.0                 2.0               2.0               6.0   \n",
       "\n",
       "   badges_count  product_variation_inventory  inventory_total  \\\n",
       "0             0                           50               50   \n",
       "1             0                           50               50   \n",
       "2             0                            1               50   \n",
       "3             0                           50               50   \n",
       "4             0                            1               50   \n",
       "\n",
       "   shipping_option_price  countries_shipped_to  merchant_rating_count  \n",
       "0                      4                    34                    568  \n",
       "1                      2                    41                  17752  \n",
       "2                      3                    36                    295  \n",
       "3                      2                    41                  23832  \n",
       "4                      1                    35                  14482  "
      ]
     },
     "execution_count": 30,
     "metadata": {},
     "output_type": "execute_result"
    }
   ],
   "source": [
    "df_num.head()"
   ]
  },
  {
   "cell_type": "markdown",
   "metadata": {},
   "source": [
    "## Visualize correlation with numerical features"
   ]
  },
  {
   "cell_type": "code",
   "execution_count": 18,
   "metadata": {},
   "outputs": [
    {
     "data": {
      "image/png": "[encoded data removed]",
      "text/plain": [
       "<Figure size 1368x1080 with 2 Axes>"
      ]
     },
     "metadata": {
      "needs_background": "light"
     },
     "output_type": "display_data"
    }
   ],
   "source": [
    "corr_matrix = df_num.corr()\n",
    "fig = plt.figure(figsize=(19, 15))\n",
    "sns.heatmap(corr_matrix, annot=True);"
   ]
  },
  {
   "cell_type": "code",
   "execution_count": 31,
   "metadata": {},
   "outputs": [
    {
     "data": {
      "image/png": "[encoded data removed]",
      "text/plain": [
       "<Figure size 900x180 with 5 Axes>"
      ]
     },
     "metadata": {
      "needs_background": "light"
     },
     "output_type": "display_data"
    }
   ],
   "source": [
    "sns.pairplot(data=df_num,\n",
    "                  x_vars=['price', 'retail_price', 'rating_count', 'badges_count', 'inventory_total'],\n",
    "                  y_vars=['units_sold']);"
   ]
  },
  {
   "cell_type": "code",
   "execution_count": 67,
   "metadata": {},
   "outputs": [
    {
     "data": {
      "image/png": "[encoded data removed]",
      "text/plain": [
       "<Figure size 720x180 with 4 Axes>"
      ]
     },
     "metadata": {
      "needs_background": "light"
     },
     "output_type": "display_data"
    }
   ],
   "source": [
    "sns.pairplot(data=df_num,\n",
    "                  x_vars=['product_variation_inventory', 'shipping_option_price',\n",
    "                          'countries_shipped_to', 'merchant_rating_count' ],\n",
    "                  y_vars=['units_sold']);"
   ]
  },
  {
   "cell_type": "markdown",
   "metadata": {},
   "source": [
    "## Distribution of numerical features"
   ]
  },
  {
   "cell_type": "code",
   "execution_count": 68,
   "metadata": {},
   "outputs": [
    {
     "data": {
      "text/plain": [
       "Index(['price', 'retail_price', 'units_sold', 'rating_count',\n",
       "       'rating_five_count', 'rating_four_count', 'rating_three_count',\n",
       "       'rating_two_count', 'rating_one_count', 'badges_count',\n",
       "       'product_variation_inventory', 'inventory_total',\n",
       "       'shipping_option_price', 'countries_shipped_to',\n",
       "       'merchant_rating_count'],\n",
       "      dtype='object')"
      ]
     },
     "execution_count": 68,
     "metadata": {},
     "output_type": "execute_result"
    }
   ],
   "source": [
    "df_num.columns"
   ]
  },
  {
   "cell_type": "code",
   "execution_count": 95,
   "metadata": {},
   "outputs": [],
   "source": [
    "def hist_num(x):\n",
    "    print(df_num[x].value_counts())\n",
    "    df_num[x].hist()"
   ]
  },
  {
   "cell_type": "code",
   "execution_count": 96,
   "metadata": {},
   "outputs": [
    {
     "name": "stdout",
     "output_type": "stream",
     "text": [
      "8.00     241\n",
      "11.00    171\n",
      "9.00     111\n",
      "7.00     105\n",
      "6.00     103\n",
      "        ... \n",
      "5.82       1\n",
      "4.84       1\n",
      "5.72       1\n",
      "5.70       1\n",
      "5.91       1\n",
      "Name: price, Length: 127, dtype: int64\n"
     ]
    },
    {
     "data": {
      "image/png": "[encoded data removed]",
      "text/plain": [
       "<Figure size 432x288 with 1 Axes>"
      ]
     },
     "metadata": {
      "needs_background": "light"
     },
     "output_type": "display_data"
    }
   ],
   "source": [
    "hist_num('price')"
   ]
  },
  {
   "cell_type": "code",
   "execution_count": 97,
   "metadata": {},
   "outputs": [
    {
     "name": "stdout",
     "output_type": "stream",
     "text": [
      "7      147\n",
      "6      112\n",
      "10     101\n",
      "5       89\n",
      "11      84\n",
      "      ... \n",
      "64       1\n",
      "250      1\n",
      "53       1\n",
      "46       1\n",
      "1        1\n",
      "Name: retail_price, Length: 104, dtype: int64\n"
     ]
    },
    {
     "data": {
      "image/png": "[encoded data removed]",
      "text/plain": [
       "<Figure size 432x288 with 1 Axes>"
      ]
     },
     "metadata": {
      "needs_background": "light"
     },
     "output_type": "display_data"
    }
   ],
   "source": [
    "hist_num('retail_price')"
   ]
  },
  {
   "cell_type": "code",
   "execution_count": 99,
   "metadata": {},
   "outputs": [
    {
     "name": "stdout",
     "output_type": "stream",
     "text": [
      "0        35\n",
      "2        21\n",
      "4        20\n",
      "6        20\n",
      "10       17\n",
      "         ..\n",
      "13198     1\n",
      "908       1\n",
      "907       1\n",
      "904       1\n",
      "602       1\n",
      "Name: rating_count, Length: 761, dtype: int64\n"
     ]
    },
    {
     "data": {
      "image/png": "[encoded data removed]",
      "text/plain": [
       "<Figure size 432x288 with 1 Axes>"
      ]
     },
     "metadata": {
      "needs_background": "light"
     },
     "output_type": "display_data"
    }
   ],
   "source": [
    "hist_num('rating_count')"
   ]
  },
  {
   "cell_type": "code",
   "execution_count": 100,
   "metadata": {},
   "outputs": [
    {
     "name": "stdout",
     "output_type": "stream",
     "text": [
      "1.0      36\n",
      "5.0      34\n",
      "2.0      31\n",
      "3.0      29\n",
      "4.0      26\n",
      "         ..\n",
      "412.0     1\n",
      "121.0     1\n",
      "115.0     1\n",
      "150.0     1\n",
      "343.0     1\n",
      "Name: rating_five_count, Length: 605, dtype: int64\n"
     ]
    },
    {
     "data": {
      "image/png": "[encoded data removed]",
      "text/plain": [
       "<Figure size 432x288 with 1 Axes>"
      ]
     },
     "metadata": {
      "needs_background": "light"
     },
     "output_type": "display_data"
    }
   ],
   "source": [
    "hist_num('rating_five_count')"
   ]
  },
  {
   "cell_type": "code",
   "execution_count": 101,
   "metadata": {},
   "outputs": [
    {
     "name": "stdout",
     "output_type": "stream",
     "text": [
      "1.0      67\n",
      "0.0      65\n",
      "2.0      50\n",
      "4.0      42\n",
      "3.0      41\n",
      "         ..\n",
      "202.0     1\n",
      "245.0     1\n",
      "460.0     1\n",
      "612.0     1\n",
      "581.0     1\n",
      "Name: rating_four_count, Length: 440, dtype: int64\n"
     ]
    },
    {
     "data": {
      "image/png": "[encoded data removed]",
      "text/plain": [
       "<Figure size 432x288 with 1 Axes>"
      ]
     },
     "metadata": {
      "needs_background": "light"
     },
     "output_type": "display_data"
    }
   ],
   "source": [
    "hist_num('rating_four_count')"
   ]
  },
  {
   "cell_type": "code",
   "execution_count": 103,
   "metadata": {},
   "outputs": [
    {
     "name": "stdout",
     "output_type": "stream",
     "text": [
      "0.0      99\n",
      "1.0      67\n",
      "2.0      61\n",
      "4.0      41\n",
      "3.0      38\n",
      "         ..\n",
      "207.0     1\n",
      "982.0     1\n",
      "255.0     1\n",
      "568.0     1\n",
      "390.0     1\n",
      "Name: rating_three_count, Length: 384, dtype: int64\n"
     ]
    },
    {
     "data": {
      "image/png": "[encoded data removed]",
      "text/plain": [
       "<Figure size 432x288 with 1 Axes>"
      ]
     },
     "metadata": {
      "needs_background": "light"
     },
     "output_type": "display_data"
    }
   ],
   "source": [
    "hist_num('rating_three_count')"
   ]
  },
  {
   "cell_type": "code",
   "execution_count": 104,
   "metadata": {},
   "outputs": [
    {
     "name": "stdout",
     "output_type": "stream",
     "text": [
      "0.0       149\n",
      "1.0       117\n",
      "2.0        63\n",
      "3.0        56\n",
      "4.0        45\n",
      "         ... \n",
      "1310.0      1\n",
      "1736.0      1\n",
      "135.0       1\n",
      "157.0       1\n",
      "263.0       1\n",
      "Name: rating_two_count, Length: 262, dtype: int64\n"
     ]
    },
    {
     "data": {
      "image/png": "[encoded data removed]",
      "text/plain": [
       "<Figure size 432x288 with 1 Axes>"
      ]
     },
     "metadata": {
      "needs_background": "light"
     },
     "output_type": "display_data"
    }
   ],
   "source": [
    "hist_num('rating_two_count')"
   ]
  },
  {
   "cell_type": "code",
   "execution_count": 105,
   "metadata": {},
   "outputs": [
    {
     "name": "stdout",
     "output_type": "stream",
     "text": [
      "0.0      88\n",
      "1.0      84\n",
      "2.0      60\n",
      "3.0      52\n",
      "4.0      46\n",
      "         ..\n",
      "343.0     1\n",
      "847.0     1\n",
      "681.0     1\n",
      "559.0     1\n",
      "169.0     1\n",
      "Name: rating_one_count, Length: 330, dtype: int64\n"
     ]
    },
    {
     "data": {
      "image/png": "[encoded data removed]",
      "text/plain": [
       "<Figure size 432x288 with 1 Axes>"
      ]
     },
     "metadata": {
      "needs_background": "light"
     },
     "output_type": "display_data"
    }
   ],
   "source": [
    "hist_num('rating_one_count')"
   ]
  },
  {
   "cell_type": "code",
   "execution_count": 106,
   "metadata": {},
   "outputs": [
    {
     "name": "stdout",
     "output_type": "stream",
     "text": [
      "0    1204\n",
      "1     125\n",
      "2      10\n",
      "3       2\n",
      "Name: badges_count, dtype: int64\n"
     ]
    },
    {
     "data": {
      "image/png": "[encoded data removed]",
      "text/plain": [
       "<Figure size 432x288 with 1 Axes>"
      ]
     },
     "metadata": {
      "needs_background": "light"
     },
     "output_type": "display_data"
    }
   ],
   "source": [
    "hist_num('badges_count')"
   ]
  },
  {
   "cell_type": "code",
   "execution_count": 107,
   "metadata": {},
   "outputs": [
    {
     "name": "stdout",
     "output_type": "stream",
     "text": [
      "50    793\n",
      "1     118\n",
      "2      64\n",
      "5      53\n",
      "3      42\n",
      "10     33\n",
      "4      25\n",
      "9      19\n",
      "6      17\n",
      "20     14\n",
      "7      14\n",
      "15     13\n",
      "17     10\n",
      "18      8\n",
      "49      8\n",
      "19      6\n",
      "13      6\n",
      "11      6\n",
      "25      6\n",
      "30      6\n",
      "29      5\n",
      "14      5\n",
      "8       5\n",
      "12      5\n",
      "34      4\n",
      "47      4\n",
      "35      4\n",
      "41      4\n",
      "43      4\n",
      "44      4\n",
      "48      4\n",
      "27      3\n",
      "36      3\n",
      "46      3\n",
      "23      2\n",
      "21      2\n",
      "26      2\n",
      "28      2\n",
      "31      2\n",
      "37      2\n",
      "38      2\n",
      "39      2\n",
      "45      2\n",
      "16      1\n",
      "22      1\n",
      "33      1\n",
      "40      1\n",
      "24      1\n",
      "Name: product_variation_inventory, dtype: int64\n"
     ]
    },
    {
     "data": {
      "image/png": "[encoded data removed]",
      "text/plain": [
       "<Figure size 432x288 with 1 Axes>"
      ]
     },
     "metadata": {
      "needs_background": "light"
     },
     "output_type": "display_data"
    }
   ],
   "source": [
    "hist_num('product_variation_inventory')"
   ]
  },
  {
   "cell_type": "code",
   "execution_count": 108,
   "metadata": {},
   "outputs": [
    {
     "name": "stdout",
     "output_type": "stream",
     "text": [
      "50    1331\n",
      "2        2\n",
      "40       1\n",
      "38       1\n",
      "37       1\n",
      "36       1\n",
      "30       1\n",
      "24       1\n",
      "9        1\n",
      "1        1\n",
      "Name: inventory_total, dtype: int64\n"
     ]
    },
    {
     "data": {
      "image/png": "[encoded data removed]",
      "text/plain": [
       "<Figure size 432x288 with 1 Axes>"
      ]
     },
     "metadata": {
      "needs_background": "light"
     },
     "output_type": "display_data"
    }
   ],
   "source": [
    "hist_num('inventory_total')"
   ]
  },
  {
   "cell_type": "code",
   "execution_count": 109,
   "metadata": {},
   "outputs": [
    {
     "name": "stdout",
     "output_type": "stream",
     "text": [
      "2     522\n",
      "3     456\n",
      "1     247\n",
      "4      70\n",
      "5      29\n",
      "6      11\n",
      "7       5\n",
      "12      1\n",
      "Name: shipping_option_price, dtype: int64\n"
     ]
    },
    {
     "data": {
      "image/png": "[encoded data removed]",
      "text/plain": [
       "<Figure size 432x288 with 1 Axes>"
      ]
     },
     "metadata": {
      "needs_background": "light"
     },
     "output_type": "display_data"
    }
   ],
   "source": [
    "hist_num('shipping_option_price')"
   ]
  },
  {
   "cell_type": "code",
   "execution_count": 110,
   "metadata": {},
   "outputs": [
    {
     "name": "stdout",
     "output_type": "stream",
     "text": [
      "43    146\n",
      "41    145\n",
      "40     89\n",
      "38     65\n",
      "36     58\n",
      "     ... \n",
      "67      1\n",
      "66      1\n",
      "65      1\n",
      "64      1\n",
      "6       1\n",
      "Name: countries_shipped_to, Length: 94, dtype: int64\n"
     ]
    },
    {
     "data": {
      "image/png": "[encoded data removed]",
      "text/plain": [
       "<Figure size 432x288 with 1 Axes>"
      ]
     },
     "metadata": {
      "needs_background": "light"
     },
     "output_type": "display_data"
    }
   ],
   "source": [
    "hist_num('countries_shipped_to')"
   ]
  },
  {
   "cell_type": "code",
   "execution_count": 111,
   "metadata": {},
   "outputs": [
    {
     "name": "stdout",
     "output_type": "stream",
     "text": [
      "32168    11\n",
      "12309    10\n",
      "88193     7\n",
      "80093     7\n",
      "42919     7\n",
      "         ..\n",
      "1172      1\n",
      "15502     1\n",
      "9357      1\n",
      "87178     1\n",
      "0         1\n",
      "Name: merchant_rating_count, Length: 917, dtype: int64\n"
     ]
    },
    {
     "data": {
      "image/png": "[encoded data removed]",
      "text/plain": [
       "<Figure size 432x288 with 1 Axes>"
      ]
     },
     "metadata": {
      "needs_background": "light"
     },
     "output_type": "display_data"
    }
   ],
   "source": [
    "hist_num('merchant_rating_count')"
   ]
  },
  {
   "cell_type": "markdown",
   "metadata": {},
   "source": [
    "## Distribution in categorical features"
   ]
  },
  {
   "cell_type": "code",
   "execution_count": 116,
   "metadata": {},
   "outputs": [
    {
     "name": "stdout",
     "output_type": "stream",
     "text": [
      "graph for currency_buyer: total = 1\n"
     ]
    },
    {
     "data": {
      "image/png": "[encoded data removed]",
      "text/plain": [
       "<Figure size 432x288 with 1 Axes>"
      ]
     },
     "metadata": {
      "needs_background": "light"
     },
     "output_type": "display_data"
    },
    {
     "name": "stdout",
     "output_type": "stream",
     "text": [
      "graph for uses_ad_boosts: total = 2\n"
     ]
    },
    {
     "data": {
      "image/png": "[encoded data removed]",
      "text/plain": [
       "<Figure size 432x288 with 1 Axes>"
      ]
     },
     "metadata": {
      "needs_background": "light"
     },
     "output_type": "display_data"
    },
    {
     "name": "stdout",
     "output_type": "stream",
     "text": [
      "graph for rating: total = 192\n"
     ]
    },
    {
     "data": {
      "image/png": "[encoded data removed]",
      "text/plain": [
       "<Figure size 432x288 with 1 Axes>"
      ]
     },
     "metadata": {
      "needs_background": "light"
     },
     "output_type": "display_data"
    },
    {
     "name": "stdout",
     "output_type": "stream",
     "text": [
      "graph for badge_local_product: total = 2\n"
     ]
    },
    {
     "data": {
      "image/png": "[encoded data removed]",
      "text/plain": [
       "<Figure size 432x288 with 1 Axes>"
      ]
     },
     "metadata": {
      "needs_background": "light"
     },
     "output_type": "display_data"
    },
    {
     "name": "stdout",
     "output_type": "stream",
     "text": [
      "graph for badge_product_quality: total = 2\n"
     ]
    },
    {
     "data": {
      "image/png": "[encoded data removed]",
      "text/plain": [
       "<Figure size 432x288 with 1 Axes>"
      ]
     },
     "metadata": {
      "needs_background": "light"
     },
     "output_type": "display_data"
    },
    {
     "name": "stdout",
     "output_type": "stream",
     "text": [
      "graph for badge_fast_shipping: total = 2\n"
     ]
    },
    {
     "data": {
      "image/png": "[encoded data removed]",
      "text/plain": [
       "<Figure size 432x288 with 1 Axes>"
      ]
     },
     "metadata": {
      "needs_background": "light"
     },
     "output_type": "display_data"
    }
   ],
   "source": [
    "for i in df_cat.columns[2:8]:\n",
    "    cat_num = df_cat[i].value_counts()\n",
    "    print(\"graph for %s: total = %d\" % (i, len(cat_num)))\n",
    "    chart = sns.barplot(x=cat_num.index, y=cat_num)\n",
    "    chart.set_xticklabels(chart.get_xticklabels(), rotation=90)\n",
    "    plt.show()"
   ]
  },
  {
   "cell_type": "code",
   "execution_count": 119,
   "metadata": {},
   "outputs": [
    {
     "name": "stdout",
     "output_type": "stream",
     "text": [
      "graph for product_color: total = 101\n"
     ]
    },
    {
     "data": {
      "image/png": "[encoded data removed]",
      "text/plain": [
       "<Figure size 432x288 with 1 Axes>"
      ]
     },
     "metadata": {
      "needs_background": "light"
     },
     "output_type": "display_data"
    },
    {
     "name": "stdout",
     "output_type": "stream",
     "text": [
      "graph for product_variation_size_id: total = 106\n"
     ]
    },
    {
     "data": {
      "image/png": "[encoded data removed]",
      "text/plain": [
       "<Figure size 432x288 with 1 Axes>"
      ]
     },
     "metadata": {
      "needs_background": "light"
     },
     "output_type": "display_data"
    },
    {
     "name": "stdout",
     "output_type": "stream",
     "text": [
      "graph for shipping_option_name: total = 15\n"
     ]
    },
    {
     "data": {
      "image/png": "[encoded data removed]",
      "text/plain": [
       "<Figure size 432x288 with 1 Axes>"
      ]
     },
     "metadata": {
      "needs_background": "light"
     },
     "output_type": "display_data"
    },
    {
     "name": "stdout",
     "output_type": "stream",
     "text": [
      "graph for shipping_is_express: total = 2\n"
     ]
    },
    {
     "data": {
      "image/png": "[encoded data removed]",
      "text/plain": [
       "<Figure size 432x288 with 1 Axes>"
      ]
     },
     "metadata": {
      "needs_background": "light"
     },
     "output_type": "display_data"
    },
    {
     "name": "stdout",
     "output_type": "stream",
     "text": [
      "graph for countries_shipped_to: total = 94\n"
     ]
    },
    {
     "data": {
      "image/png": "[encoded data removed]",
      "text/plain": [
       "<Figure size 432x288 with 1 Axes>"
      ]
     },
     "metadata": {
      "needs_background": "light"
     },
     "output_type": "display_data"
    },
    {
     "name": "stdout",
     "output_type": "stream",
     "text": [
      "graph for origin_country: total = 6\n"
     ]
    },
    {
     "data": {
      "image/png": "[encoded data removed]",
      "text/plain": [
       "<Figure size 432x288 with 1 Axes>"
      ]
     },
     "metadata": {
      "needs_background": "light"
     },
     "output_type": "display_data"
    },
    {
     "name": "stdout",
     "output_type": "stream",
     "text": [
      "graph for merchant_has_profile_picture: total = 2\n"
     ]
    },
    {
     "data": {
      "image/png": "[encoded data removed]",
      "text/plain": [
       "<Figure size 432x288 with 1 Axes>"
      ]
     },
     "metadata": {
      "needs_background": "light"
     },
     "output_type": "display_data"
    },
    {
     "name": "stdout",
     "output_type": "stream",
     "text": [
      "graph for theme: total = 1\n"
     ]
    },
    {
     "data": {
      "image/png": "[encoded data removed]",
      "text/plain": [
       "<Figure size 432x288 with 1 Axes>"
      ]
     },
     "metadata": {
      "needs_background": "light"
     },
     "output_type": "display_data"
    }
   ],
   "source": [
    "for i in df_cat[['product_color', 'product_variation_size_id','shipping_option_name', 'shipping_is_express', \n",
    "                'countries_shipped_to', 'origin_country','merchant_has_profile_picture','theme']]:\n",
    "    cat_num = df_cat[i].value_counts()\n",
    "    print(\"graph for %s: total = %d\" % (i, len(cat_num)))\n",
    "    chart = sns.barplot(x=cat_num.index, y=cat_num)\n",
    "    chart.set_xticklabels(chart.get_xticklabels(), rotation=90)\n",
    "    plt.show()"
   ]
  },
  {
   "cell_type": "code",
   "execution_count": 114,
   "metadata": {},
   "outputs": [
    {
     "data": {
      "text/plain": [
       "Index(['title', 'title_orig', 'currency_buyer', 'uses_ad_boosts', 'rating',\n",
       "       'badge_local_product', 'badge_product_quality', 'badge_fast_shipping',\n",
       "       'tags', 'product_color', 'product_variation_size_id',\n",
       "       'shipping_option_name', 'shipping_is_express', 'countries_shipped_to',\n",
       "       'has_urgency_banner', 'urgency_text', 'origin_country',\n",
       "       'merchant_title', 'merchant_name', 'merchant_info_subtitle',\n",
       "       'merchant_rating', 'merchant_id', 'merchant_has_profile_picture',\n",
       "       'merchant_profile_picture', 'product_url', 'product_picture',\n",
       "       'product_id', 'theme', 'crawl_month'],\n",
       "      dtype='object')"
      ]
     },
     "execution_count": 114,
     "metadata": {},
     "output_type": "execute_result"
    }
   ],
   "source": [
    "df_cat.columns"
   ]
  },
  {
   "cell_type": "markdown",
   "metadata": {},
   "source": [
    "## Correlation of categories with units sold"
   ]
  },
  {
   "cell_type": "code",
   "execution_count": 33,
   "metadata": {},
   "outputs": [
    {
     "data": {
      "text/plain": [
       "uses_ad_boosts\n",
       "0    5027.158520\n",
       "1    4552.996575\n",
       "Name: units_sold, dtype: float64"
      ]
     },
     "execution_count": 33,
     "metadata": {},
     "output_type": "execute_result"
    }
   ],
   "source": [
    "df.groupby('uses_ad_boosts')['units_sold'].mean()"
   ]
  },
  {
   "cell_type": "code",
   "execution_count": 37,
   "metadata": {},
   "outputs": [
    {
     "data": {
      "text/plain": [
       "rating\n",
       "2.93    20000.000000\n",
       "4.48    20000.000000\n",
       "2.97    20000.000000\n",
       "4.41    16500.000000\n",
       "3.53    15912.500000\n",
       "3.35    14400.000000\n",
       "3.83    13958.333333\n",
       "3.98    13923.076923\n",
       "3.82    13084.615385\n",
       "3.76    12776.923077\n",
       "4.12    12571.428571\n",
       "4.10    12016.666667\n",
       "3.45    11888.888889\n",
       "4.01    11372.727273\n",
       "4.32    10500.000000\n",
       "Name: units_sold, dtype: float64"
      ]
     },
     "execution_count": 37,
     "metadata": {},
     "output_type": "execute_result"
    }
   ],
   "source": [
    "rating_results = df.groupby('rating')['units_sold'].mean().sort_values(ascending=False)\n",
    "rating_results.head(15)"
   ]
  },
  {
   "cell_type": "code",
   "execution_count": 38,
   "metadata": {},
   "outputs": [
    {
     "data": {
      "text/plain": [
       "badge_local_product\n",
       "0    4839.077685\n",
       "1    3957.142857\n",
       "Name: units_sold, dtype: float64"
      ]
     },
     "execution_count": 38,
     "metadata": {},
     "output_type": "execute_result"
    }
   ],
   "source": [
    "df.groupby('badge_local_product')['units_sold'].mean().sort_values(ascending=False)"
   ]
  },
  {
   "cell_type": "code",
   "execution_count": 39,
   "metadata": {},
   "outputs": [
    {
     "data": {
      "text/plain": [
       "badge_product_quality\n",
       "1    6999.038462\n",
       "0    4637.517381\n",
       "Name: units_sold, dtype: float64"
      ]
     },
     "execution_count": 39,
     "metadata": {},
     "output_type": "execute_result"
    }
   ],
   "source": [
    "df.groupby('badge_product_quality')['units_sold'].mean().sort_values(ascending=False)"
   ]
  },
  {
   "cell_type": "code",
   "execution_count": 40,
   "metadata": {},
   "outputs": [
    {
     "data": {
      "text/plain": [
       "badge_fast_shipping\n",
       "0    4825.498487\n",
       "1    4484.210526\n",
       "Name: units_sold, dtype: float64"
      ]
     },
     "execution_count": 40,
     "metadata": {},
     "output_type": "execute_result"
    }
   ],
   "source": [
    "df.groupby('badge_fast_shipping')['units_sold'].mean().sort_values(ascending=False)"
   ]
  },
  {
   "cell_type": "code",
   "execution_count": 10,
   "metadata": {},
   "outputs": [
    {
     "data": {
      "text/plain": [
       "product_color\n",
       "light green       100000.000000\n",
       "wine red           50000.000000\n",
       "rosegold           20000.000000\n",
       "denimblue          20000.000000\n",
       "ivory              20000.000000\n",
       "floral             12200.000000\n",
       "coolblack          10050.000000\n",
       "black & yellow     10050.000000\n",
       "black & white      10033.333333\n",
       "army green         10000.000000\n",
       "navy blue          10000.000000\n",
       "whitestripe        10000.000000\n",
       "Blue               10000.000000\n",
       "White               8666.666667\n",
       "orange              7610.750000\n",
       "burgundy            7500.000000\n",
       "gray                7483.333333\n",
       "lightgreen          7333.333333\n",
       "purple              6884.081633\n",
       "camouflage          6700.000000\n",
       "khaki               6572.727273\n",
       "grey                6553.384615\n",
       "rosered             6157.142857\n",
       "multicolor          5855.555556\n",
       "navyblue            5540.400000\n",
       "black               5512.284091\n",
       "white & black       5500.000000\n",
       "pink & grey         5500.000000\n",
       "dustypink           5500.000000\n",
       "skyblue             5314.285714\n",
       "Name: units_sold, dtype: float64"
      ]
     },
     "execution_count": 10,
     "metadata": {},
     "output_type": "execute_result"
    }
   ],
   "source": [
    "color_results = df.groupby('product_color')['units_sold'].mean().sort_values(ascending=False)\n",
    "color_results.head(30)"
   ]
  },
  {
   "cell_type": "code",
   "execution_count": 45,
   "metadata": {},
   "outputs": [
    {
     "data": {
      "text/plain": [
       "product_variation_size_id\n",
       "3 layered anklet    50000.000000\n",
       "20PCS-10PAIRS       20000.000000\n",
       "5                   20000.000000\n",
       "Baby Float Boat     20000.000000\n",
       "29                  10500.000000\n",
       "Women Size 36       10000.000000\n",
       "5XL                 10000.000000\n",
       "1 PC - XL           10000.000000\n",
       "S (waist58-62cm)    10000.000000\n",
       "XXXL                10000.000000\n",
       "10pcs               10000.000000\n",
       "US 6.5 (EU 37)      10000.000000\n",
       "XL                   9166.666667\n",
       "M                    7391.677966\n",
       "L                    6705.555556\n",
       "S                    5786.294964\n",
       "One Size             5500.000000\n",
       "XXXXXL               5050.000000\n",
       "2pcs                 5050.000000\n",
       "20pcs                5000.000000\n",
       "Name: units_sold, dtype: float64"
      ]
     },
     "execution_count": 45,
     "metadata": {},
     "output_type": "execute_result"
    }
   ],
   "source": [
    "variation_size_id_results = df.groupby('product_variation_size_id')['units_sold'].mean().sort_values(ascending=False)\n",
    "variation_size_id_results.head(20)"
   ]
  },
  {
   "cell_type": "code",
   "execution_count": 49,
   "metadata": {},
   "outputs": [
    {
     "data": {
      "text/plain": [
       "shipping_option_name\n",
       "Standardowa wysyłka        10033.333333\n",
       "ការដឹកជញ្ជូនតាមស្តង់ដារ    10000.000000\n",
       "Ekspresowa wysyłka         10000.000000\n",
       "Standart Gönderi            5500.000000\n",
       "การส่งสินค้ามาตรฐาน         5000.000000\n",
       "Livraison standard          4879.812451\n",
       "Standard Shipping           4352.777778\n",
       "Envio Padrão                2787.500000\n",
       "Envío normal                2775.000000\n",
       "Стандартная доставка        2550.000000\n",
       "Spedizione standard          550.000000\n",
       "Expediere Standard           550.000000\n",
       "الشحن القياسي                400.000000\n",
       "Livraison Express            400.000000\n",
       "Standardversand              100.000000\n",
       "Name: units_sold, dtype: float64"
      ]
     },
     "execution_count": 49,
     "metadata": {},
     "output_type": "execute_result"
    }
   ],
   "source": [
    "df.groupby('shipping_option_name')['units_sold'].mean().sort_values(ascending=False)"
   ]
  },
  {
   "cell_type": "code",
   "execution_count": 54,
   "metadata": {},
   "outputs": [
    {
     "name": "stdout",
     "output_type": "stream",
     "text": [
      "countries_shipped_to\n",
      "53     50000.000000\n",
      "46     25120.000000\n",
      "78     25005.000000\n",
      "125    20000.000000\n",
      "10     11001.666667\n",
      "59     10000.000000\n",
      "72     10000.000000\n",
      "6      10000.000000\n",
      "31      9018.965517\n",
      "18      8964.705882\n",
      "29      8766.666667\n",
      "38      8673.338462\n",
      "50      8275.000000\n",
      "47      8156.666667\n",
      "60      8000.000000\n",
      "37      7178.437500\n",
      "51      7175.000000\n",
      "8       6686.666667\n",
      "45      6608.928571\n",
      "49      6542.857143\n",
      "Name: units_sold, dtype: float64\n",
      "has_urgency_banner\n",
      "1.0    4715.595628\n",
      "Name: units_sold, dtype: float64\n",
      "urgency_text\n",
      "Réduction sur les achats en gros    10000.000000\n",
      "Quantité limitée !                   4701.117808\n",
      "Name: units_sold, dtype: float64\n",
      "origin_country\n",
      "SG    10050.000000\n",
      "CN     4861.938949\n",
      "US     1600.370370\n",
      "GB     1000.000000\n",
      "AT      100.000000\n",
      "VE       83.333333\n",
      "Name: units_sold, dtype: float64\n",
      "merchant_title\n",
      "fashionstore0408                          100000.000000\n",
      "bigcompany                                100000.000000\n",
      "trendy_world                              100000.000000\n",
      "ApparelHeaven                              60000.000000\n",
      "SHENZHEN LONGDRAGON TECHNOLOGY CO.,LTD     50003.500000\n",
      "Unique Li Fashion Shop                     50000.000000\n",
      "xixi520                                    50000.000000\n",
      "hgjkgk                                     50000.000000\n",
      "Goddess-Beauty                             50000.000000\n",
      "Ice Scream                                 50000.000000\n",
      "Fashion Vane                               50000.000000\n",
      "Frome                                      50000.000000\n",
      "NORTINSAM                                  50000.000000\n",
      "hui zhou ming mao yi                       50000.000000\n",
      "Fashionshow68                              50000.000000\n",
      "yangaiqun                                  27500.000000\n",
      "freebird                                   26666.666667\n",
      "FashionForChanny                           25000.000000\n",
      "Mermaid 's Kiss                            22525.000000\n",
      "leiston                                    21420.000000\n",
      "Name: units_sold, dtype: float64\n",
      "merchant_name\n",
      "bigcompany                                             100000.000000\n",
      "fashionstore0408                                       100000.000000\n",
      "shanghailalanginternationaltradecoltd                  100000.000000\n",
      "primesalecolimited                                      60000.000000\n",
      "shenzhenlongdragontechnologycoltd                       50003.500000\n",
      "frome                                                   50000.000000\n",
      "goddessbeauty                                           50000.000000\n",
      "xixi520                                                 50000.000000\n",
      "hgjkgk                                                  50000.000000\n",
      "uniquelifashionshopbb657bfe91d211e598c7063a14dc88b5     50000.000000\n",
      "公狼网络科技有限公司                                              50000.000000\n",
      "huizhoumingmaoyi                                        50000.000000\n",
      "icescream                                               50000.000000\n",
      "广州乔莎服饰有限公司                                              50000.000000\n",
      "nortinsam                                               50000.000000\n",
      "yangaiqun                                               27500.000000\n",
      "fashionshow                                             26666.666667\n",
      "guangzhouchannytradecoltd                               25000.000000\n",
      "mermaidskiss                                            22525.000000\n",
      "leiston                                                 21420.000000\n",
      "Name: units_sold, dtype: float64\n",
      "merchant_info_subtitle\n",
      "84 % avis positifs (19,248 notes)     100000.0\n",
      "86 % avis positifs (330,405 notes)    100000.0\n",
      "86 % avis positifs (366,898 notes)    100000.0\n",
      "90 % avis positifs (320,031 notes)     60000.0\n",
      "87 % avis positifs (108,048 notes)     50003.5\n",
      "(839,882 notes)                        50000.0\n",
      "80 % avis positifs (78,307 notes)      50000.0\n",
      "86 % avis positifs (10,194 notes)      50000.0\n",
      "88 % avis positifs (59,198 notes)      50000.0\n",
      "87 % avis positifs (96,276 notes)      50000.0\n",
      "88 % avis positifs (229,199 notes)     50000.0\n",
      "91 % avis positifs (38,264 notes)      50000.0\n",
      "(51,369 notes)                         50000.0\n",
      "90 % avis positifs (203,805 notes)     50000.0\n",
      "92 % avis positifs (37,076 notes)      50000.0\n",
      "88 % avis positifs (11,481 notes)      50000.0\n",
      "88 % avis positifs (13,665 notes)      50000.0\n",
      "86 % avis positifs (151,249 notes)     30000.0\n",
      "(17,816 notes)                         30000.0\n",
      "89 % avis positifs (15,538 notes)      27500.0\n",
      "Name: units_sold, dtype: float64\n",
      "merchant_rating\n",
      "3.889131    100000.000000\n",
      "4.067348    100000.000000\n",
      "4.036081    100000.000000\n",
      "4.218866     60000.000000\n",
      "4.052504     50003.500000\n",
      "4.094694     50000.000000\n",
      "4.076516     50000.000000\n",
      "4.165079     50000.000000\n",
      "3.840257     50000.000000\n",
      "4.227943     50000.000000\n",
      "4.105054     50000.000000\n",
      "4.216477     50000.000000\n",
      "4.096234     50000.000000\n",
      "4.095288     50000.000000\n",
      "4.302082     50000.000000\n",
      "4.156198     27500.000000\n",
      "4.103760     26666.666667\n",
      "4.256077     25000.000000\n",
      "4.049157     22525.000000\n",
      "3.933581     21420.000000\n",
      "Name: units_sold, dtype: float64\n",
      "merchant_id\n",
      "570f3a713a698c14278bb51e    100000.000000\n",
      "53082ea15aefb07dfe1f2a4f    100000.000000\n",
      "53f2beb39020ee03566d6e18    100000.000000\n",
      "5357bcf2bb72c5504882e889     60000.000000\n",
      "5417aada4ad3ab27e954b76c     50003.500000\n",
      "58c0fff96ecaa3523d59a24d     50000.000000\n",
      "570b67d4a9dc12590be93b79     50000.000000\n",
      "57e5db02e7f40f131adeeaf8     50000.000000\n",
      "5652f4053a698c76dc9a3f37     50000.000000\n",
      "57568f454054c95cbd8d1619     50000.000000\n",
      "544867549719cd33de1048d5     50000.000000\n",
      "572d45c708fad86678ca1938     50000.000000\n",
      "54bcaabb39b8c00b482a115f     50000.000000\n",
      "5542fcb264b4f014ce88ecae     50000.000000\n",
      "58ad356108de0c6dc39d979d     50000.000000\n",
      "58106cfce516491e6e5f1e53     27500.000000\n",
      "52bd3ddb34067e4620a4c62d     26666.666667\n",
      "53a2a09ad91139519161a267     25000.000000\n",
      "5860c757b1e41d4d67d183e8     22525.000000\n",
      "5708773c3c02161b3f8c7900     21420.000000\n",
      "Name: units_sold, dtype: float64\n",
      "merchant_has_profile_picture\n",
      "1    8228.753695\n",
      "0    4212.717047\n",
      "Name: units_sold, dtype: float64\n",
      "merchant_profile_picture\n",
      "https://s3-us-west-1.amazonaws.com/sweeper-production-merchantimage/dp_53f2beb39020ee03566d6e18.jpg    100000.000000\n",
      "https://s3-us-west-1.amazonaws.com/sweeper-production-merchantimage/dp_5357bcf2bb72c5504882e889.jpg     60000.000000\n",
      "https://s3-us-west-1.amazonaws.com/sweeper-production-merchantimage/dp_5417aada4ad3ab27e954b76c.jpg     50003.500000\n",
      "https://s3-us-west-1.amazonaws.com/sweeper-production-merchantimage/dp_5652f4053a698c76dc9a3f37.jpg     50000.000000\n",
      "https://s3-us-west-1.amazonaws.com/sweeper-production-merchantimage/dp_57e5db02e7f40f131adeeaf8.jpg     50000.000000\n",
      "https://s3-us-west-1.amazonaws.com/sweeper-production-merchantimage/dp_5542fcb264b4f014ce88ecae.jpg     50000.000000\n",
      "https://s3-us-west-1.amazonaws.com/sweeper-production-merchantimage/dp_57568f454054c95cbd8d1619.jpg     50000.000000\n",
      "https://s3-us-west-1.amazonaws.com/sweeper-production-merchantimage/dp_56e43d9e3a698c3826a5feff.jpg     20333.333333\n",
      "https://s3-us-west-1.amazonaws.com/sweeper-production-merchantimage/dp_53db691bd911395c8b2f92be.jpg     20000.000000\n",
      "https://s3-us-west-1.amazonaws.com/sweeper-production-merchantimage/dp_54869f80546ead6e5b318f5b.jpg     20000.000000\n",
      "https://s3-us-west-1.amazonaws.com/sweeper-production-merchantimage/dp_57875ba40cb30d38ba46f57d.jpg     20000.000000\n",
      "https://s3-us-west-1.amazonaws.com/sweeper-production-merchantimage/dp_5756d060b833235cbc250227.jpg     20000.000000\n",
      "https://s3-us-west-1.amazonaws.com/sweeper-production-merchantimage/dp_54b8872d40b37856baa55e38.jpg     20000.000000\n",
      "https://s3-us-west-1.amazonaws.com/sweeper-production-merchantimage/dp_5384613a796f680f9d78a127.jpg     20000.000000\n",
      "https://s3-us-west-1.amazonaws.com/sweeper-production-merchantimage/dp_55e7ed3230a9764b0761fc82.jpg     20000.000000\n",
      "https://s3-us-west-1.amazonaws.com/sweeper-production-merchantimage/dp_53facca81c105e3d5866e212.jpg     20000.000000\n",
      "https://s3-us-west-1.amazonaws.com/sweeper-production-merchantimage/dp_539937d634067e06707b1a8e.jpg     17775.000000\n",
      "https://s3-us-west-1.amazonaws.com/sweeper-production-merchantimage/dp_58ad449708de0c6dc59d9e06.jpg     15275.000000\n",
      "https://s3-us-west-1.amazonaws.com/sweeper-production-merchantimage/dp_557ed5b886d66519ff242099.jpg     13333.333333\n",
      "https://s3-us-west-1.amazonaws.com/sweeper-production-merchantimage/dp_5660e53e769a564b3e3aeca0.jpg     12500.000000\n",
      "Name: units_sold, dtype: float64\n",
      "product_url\n",
      "https://www.wish.com/c/567cb0925ff12c4829f07dfb    100000\n",
      "https://www.wish.com/c/571adeab62cce546f1a46bc0    100000\n",
      "https://www.wish.com/c/53897eeeafddf70c91af1cda    100000\n",
      "https://www.wish.com/c/544b079d1280fa28eee9b380    100000\n",
      "https://www.wish.com/c/5b07a7c6e997b33c6f9947da    100000\n",
      "https://www.wish.com/c/54bdf18039b8c045f118936a    100000\n",
      "https://www.wish.com/c/56553387a03eee0826acb151     50000\n",
      "https://www.wish.com/c/58b7dc3133b0bd5914a62c90     50000\n",
      "https://www.wish.com/c/5892e3b0da200f71bcec426e     50000\n",
      "https://www.wish.com/c/5ad987d8918dae087d633040     50000\n",
      "https://www.wish.com/c/574ff29cb4b28660d9f94d3f     50000\n",
      "https://www.wish.com/c/587dc542c334b3508f79d68b     50000\n",
      "https://www.wish.com/c/58df3eb809730e54ddd932ca     50000\n",
      "https://www.wish.com/c/5b17a4cff4979a14e3b4bf7f     50000\n",
      "https://www.wish.com/c/579c11beaa8aa377f926b2ea     50000\n",
      "https://www.wish.com/c/5b07f4f16e42c03e6eb4b1f6     50000\n",
      "https://www.wish.com/c/57cfd9cc1640562050e48bec     50000\n",
      "https://www.wish.com/c/563707b0e5be09157176fe80     50000\n",
      "https://www.wish.com/c/5aec5aa5e08184220e174919     50000\n",
      "https://www.wish.com/c/556fbe8595528719e004fa27     50000\n",
      "Name: units_sold, dtype: int64\n",
      "product_picture\n",
      "https://contestimg.wish.com/api/webimage/567cb0925ff12c4829f07dfb-medium.jpg    100000\n",
      "https://contestimg.wish.com/api/webimage/571adeab62cce546f1a46bc0-medium.jpg    100000\n",
      "https://contestimg.wish.com/api/webimage/53897eeeafddf70c91af1cda-medium.jpg    100000\n",
      "https://contestimg.wish.com/api/webimage/544b079d1280fa28eee9b380-medium.jpg    100000\n",
      "https://contestimg.wish.com/api/webimage/5b07a7c6e997b33c6f9947da-medium.jpg    100000\n",
      "https://contestimg.wish.com/api/webimage/54bdf18039b8c045f118936a-medium.jpg    100000\n",
      "https://contestimg.wish.com/api/webimage/56553387a03eee0826acb151-medium.jpg     50000\n",
      "https://contestimg.wish.com/api/webimage/58b7dc3133b0bd5914a62c90-medium.jpg     50000\n",
      "https://contestimg.wish.com/api/webimage/5892e3b0da200f71bcec426e-medium.jpg     50000\n",
      "https://contestimg.wish.com/api/webimage/5ad987d8918dae087d633040-medium.jpg     50000\n",
      "https://contestimg.wish.com/api/webimage/574ff29cb4b28660d9f94d3f-medium.jpg     50000\n",
      "https://contestimg.wish.com/api/webimage/587dc542c334b3508f79d68b-medium.jpg     50000\n",
      "https://contestimg.wish.com/api/webimage/58df3eb809730e54ddd932ca-medium.jpg     50000\n",
      "https://contestimg.wish.com/api/webimage/5b17a4cff4979a14e3b4bf7f-medium.jpg     50000\n",
      "https://contestimg.wish.com/api/webimage/579c11beaa8aa377f926b2ea-medium.jpg     50000\n",
      "https://contestimg.wish.com/api/webimage/5b07f4f16e42c03e6eb4b1f6-medium.jpg     50000\n",
      "https://contestimg.wish.com/api/webimage/57cfd9cc1640562050e48bec-medium.jpg     50000\n",
      "https://contestimg.wish.com/api/webimage/563707b0e5be09157176fe80-medium.jpg     50000\n",
      "https://contestimg.wish.com/api/webimage/5aec5aa5e08184220e174919-medium.jpg     50000\n",
      "https://contestimg.wish.com/api/webimage/556fbe8595528719e004fa27-medium.jpg     50000\n",
      "Name: units_sold, dtype: int64\n",
      "product_id\n",
      "567cb0925ff12c4829f07dfb    100000\n",
      "571adeab62cce546f1a46bc0    100000\n",
      "53897eeeafddf70c91af1cda    100000\n",
      "544b079d1280fa28eee9b380    100000\n",
      "5b07a7c6e997b33c6f9947da    100000\n",
      "54bdf18039b8c045f118936a    100000\n",
      "56553387a03eee0826acb151     50000\n",
      "58b7dc3133b0bd5914a62c90     50000\n",
      "5892e3b0da200f71bcec426e     50000\n",
      "5ad987d8918dae087d633040     50000\n",
      "574ff29cb4b28660d9f94d3f     50000\n",
      "587dc542c334b3508f79d68b     50000\n",
      "58df3eb809730e54ddd932ca     50000\n",
      "5b17a4cff4979a14e3b4bf7f     50000\n",
      "579c11beaa8aa377f926b2ea     50000\n",
      "5b07f4f16e42c03e6eb4b1f6     50000\n",
      "57cfd9cc1640562050e48bec     50000\n",
      "563707b0e5be09157176fe80     50000\n",
      "5aec5aa5e08184220e174919     50000\n",
      "556fbe8595528719e004fa27     50000\n",
      "Name: units_sold, dtype: int64\n"
     ]
    }
   ],
   "source": [
    "for col in df[['countries_shipped_to','has_urgency_banner', 'urgency_text', 'origin_country','merchant_title', \n",
    "               'merchant_name', 'merchant_info_subtitle','merchant_rating', 'merchant_id', 'merchant_has_profile_picture',\n",
    "               'merchant_profile_picture', 'product_url', 'product_picture','product_id']]:\n",
    "    result = df.groupby(col)['units_sold'].mean().sort_values(ascending=False)\n",
    "    print(result.head(20))"
   ]
  },
  {
   "cell_type": "markdown",
   "metadata": {},
   "source": [
    "## Filling in the null values"
   ]
  },
  {
   "cell_type": "code",
   "execution_count": 11,
   "metadata": {},
   "outputs": [
    {
     "data": {
      "text/plain": [
       "title                              0\n",
       "title_orig                         0\n",
       "price                              0\n",
       "retail_price                       0\n",
       "currency_buyer                     0\n",
       "units_sold                         0\n",
       "uses_ad_boosts                     0\n",
       "rating                             0\n",
       "rating_count                       0\n",
       "rating_five_count                 35\n",
       "rating_four_count                 35\n",
       "rating_three_count                35\n",
       "rating_two_count                  35\n",
       "rating_one_count                  35\n",
       "badges_count                       0\n",
       "badge_local_product                0\n",
       "badge_product_quality              0\n",
       "badge_fast_shipping                0\n",
       "tags                               0\n",
       "product_color                     40\n",
       "product_variation_size_id         13\n",
       "product_variation_inventory        0\n",
       "shipping_option_name               0\n",
       "shipping_option_price              0\n",
       "shipping_is_express                0\n",
       "countries_shipped_to               0\n",
       "inventory_total                    0\n",
       "has_urgency_banner               975\n",
       "urgency_text                     975\n",
       "origin_country                    13\n",
       "merchant_title                     0\n",
       "merchant_name                      2\n",
       "merchant_info_subtitle             1\n",
       "merchant_rating_count              0\n",
       "merchant_rating                    0\n",
       "merchant_id                        0\n",
       "merchant_has_profile_picture       0\n",
       "merchant_profile_picture        1138\n",
       "product_url                        0\n",
       "product_picture                    0\n",
       "product_id                         0\n",
       "theme                              0\n",
       "crawl_month                        0\n",
       "dtype: int64"
      ]
     },
     "execution_count": 11,
     "metadata": {},
     "output_type": "execute_result"
    }
   ],
   "source": [
    "df.isnull().sum()"
   ]
  },
  {
   "cell_type": "code",
   "execution_count": 12,
   "metadata": {},
   "outputs": [],
   "source": [
    "df.loc[(df['rating_five_count'].isnull()) & (df['rating_four_count'].isnull()) \n",
    "       & (df['rating_three_count'].isnull()) & (df['rating_two_count'].isnull()) \n",
    "       & (df['rating_one_count'].isnull()), 'rating'] = 0"
   ]
  },
  {
   "cell_type": "markdown",
   "metadata": {},
   "source": [
    "#### All the rows with missing rating counts are the same"
   ]
  },
  {
   "cell_type": "code",
   "execution_count": 13,
   "metadata": {},
   "outputs": [],
   "source": [
    "df.loc[df['rating'] == 0, 'rating_five_count'] = 0\n",
    "df.loc[df['rating'] == 0, 'rating_four_count'] = 0\n",
    "df.loc[df['rating'] == 0, 'rating_three_count'] = 0\n",
    "df.loc[df['rating'] == 0, 'rating_two_count'] = 0\n",
    "df.loc[df['rating'] == 0, 'rating_one_count'] = 0"
   ]
  },
  {
   "cell_type": "code",
   "execution_count": 14,
   "metadata": {},
   "outputs": [
    {
     "data": {
      "text/plain": [
       "<matplotlib.axes._subplots.AxesSubplot at 0x12626e550>"
      ]
     },
     "execution_count": 14,
     "metadata": {},
     "output_type": "execute_result"
    },
    {
     "data": {
      "image/png": "[encoded data removed]",
      "text/plain": [
       "<Figure size 432x288 with 1 Axes>"
      ]
     },
     "metadata": {
      "needs_background": "light"
     },
     "output_type": "display_data"
    }
   ],
   "source": [
    "df['rating'].hist()"
   ]
  },
  {
   "cell_type": "code",
   "execution_count": 15,
   "metadata": {},
   "outputs": [],
   "source": [
    "df.loc[df['has_urgency_banner'].isnull(), 'has_urgency_banner'] = 0"
   ]
  },
  {
   "cell_type": "code",
   "execution_count": 16,
   "metadata": {},
   "outputs": [
    {
     "data": {
      "text/plain": [
       "has_urgency_banner\n",
       "0.0    4860.103590\n",
       "1.0    4715.595628\n",
       "Name: units_sold, dtype: float64"
      ]
     },
     "execution_count": 16,
     "metadata": {},
     "output_type": "execute_result"
    }
   ],
   "source": [
    "df.groupby('has_urgency_banner')['units_sold'].mean()"
   ]
  },
  {
   "cell_type": "code",
   "execution_count": 17,
   "metadata": {},
   "outputs": [
    {
     "data": {
      "text/plain": [
       "Quantité limitée !                  365\n",
       "Réduction sur les achats en gros      1\n",
       "Name: urgency_text, dtype: int64"
      ]
     },
     "execution_count": 17,
     "metadata": {},
     "output_type": "execute_result"
    }
   ],
   "source": [
    "df['urgency_text'].value_counts()"
   ]
  },
  {
   "cell_type": "code",
   "execution_count": 18,
   "metadata": {},
   "outputs": [],
   "source": [
    "df.loc[df['urgency_text'].isnull(), 'urgency_text'] = 'No Text'"
   ]
  },
  {
   "cell_type": "code",
   "execution_count": 19,
   "metadata": {},
   "outputs": [
    {
     "data": {
      "text/plain": [
       "title                              0\n",
       "title_orig                         0\n",
       "price                              0\n",
       "retail_price                       0\n",
       "currency_buyer                     0\n",
       "units_sold                         0\n",
       "uses_ad_boosts                     0\n",
       "rating                             0\n",
       "rating_count                       0\n",
       "rating_five_count                  0\n",
       "rating_four_count                  0\n",
       "rating_three_count                 0\n",
       "rating_two_count                   0\n",
       "rating_one_count                   0\n",
       "badges_count                       0\n",
       "badge_local_product                0\n",
       "badge_product_quality              0\n",
       "badge_fast_shipping                0\n",
       "tags                               0\n",
       "product_color                     40\n",
       "product_variation_size_id         13\n",
       "product_variation_inventory        0\n",
       "shipping_option_name               0\n",
       "shipping_option_price              0\n",
       "shipping_is_express                0\n",
       "countries_shipped_to               0\n",
       "inventory_total                    0\n",
       "has_urgency_banner                 0\n",
       "urgency_text                       0\n",
       "origin_country                    13\n",
       "merchant_title                     0\n",
       "merchant_name                      2\n",
       "merchant_info_subtitle             1\n",
       "merchant_rating_count              0\n",
       "merchant_rating                    0\n",
       "merchant_id                        0\n",
       "merchant_has_profile_picture       0\n",
       "merchant_profile_picture        1138\n",
       "product_url                        0\n",
       "product_picture                    0\n",
       "product_id                         0\n",
       "theme                              0\n",
       "crawl_month                        0\n",
       "dtype: int64"
      ]
     },
     "execution_count": 19,
     "metadata": {},
     "output_type": "execute_result"
    }
   ],
   "source": [
    "df.isnull().sum()"
   ]
  },
  {
   "cell_type": "code",
   "execution_count": 17,
   "metadata": {},
   "outputs": [
    {
     "data": {
      "text/plain": [
       "urgency_text\n",
       "No Text                              4860.103590\n",
       "Quantité limitée !                   4701.117808\n",
       "Réduction sur les achats en gros    10000.000000\n",
       "Name: units_sold, dtype: float64"
      ]
     },
     "execution_count": 17,
     "metadata": {},
     "output_type": "execute_result"
    }
   ],
   "source": [
    "df.groupby('urgency_text')['units_sold'].mean()"
   ]
  },
  {
   "cell_type": "markdown",
   "metadata": {},
   "source": [
    "#### Probably drop the rows with null countries"
   ]
  },
  {
   "cell_type": "markdown",
   "metadata": {},
   "source": [
    "## Add new features (men's or women's fashion), simplified title, and color"
   ]
  },
  {
   "cell_type": "code",
   "execution_count": 18,
   "metadata": {},
   "outputs": [
    {
     "data": {
      "text/plain": [
       "keyword\n",
       "Summer              1321\n",
       "Women's Fashion     1315\n",
       "Fashion             1082\n",
       "Women                961\n",
       "Casual               905\n",
       "Plus Size            636\n",
       "sleeveless           580\n",
       "Dress                549\n",
       "Shorts               540\n",
       "Tops                 507\n",
       "sexy                 328\n",
       "Beach                324\n",
       "Sleeve               300\n",
       "short sleeves        296\n",
       "Print                296\n",
       "Shirt                281\n",
       "Tank                 265\n",
       "Necks                254\n",
       "V-neck               241\n",
       "printed              235\n",
       "T Shirts             235\n",
       "tank top             219\n",
       "Cotton               216\n",
       "summer dress         212\n",
       "Ladies               212\n",
       "Loose                204\n",
       "blouse               201\n",
       "pants                197\n",
       "Vest                 189\n",
       "beach dress          185\n",
       "Floral               174\n",
       "women dress          174\n",
       "Lace                 173\n",
       "Mini dress           170\n",
       "Mini                 164\n",
       "slim                 162\n",
       "Sleeveless dress     151\n",
       "Women Fashion        142\n",
       "Round neck           139\n",
       "casual dress         136\n",
       "Waist                130\n",
       "party                129\n",
       "long dress           123\n",
       "Party Dress          120\n",
       "Sport                109\n",
       "Floral print         108\n",
       "Slim Fit             107\n",
       "Spaghetti            106\n",
       "backless             104\n",
       "jumpsuit              99\n",
       "Short pants           95\n",
       "Bikini                91\n",
       "Swimsuit              88\n",
       "boho                  86\n",
       "high waist            86\n",
       "loose dress           86\n",
       "Swimwear              85\n",
       "Swimming              84\n",
       "Dresses               79\n",
       "Halter                77\n",
       "Name: count, dtype: int64"
      ]
     },
     "execution_count": 18,
     "metadata": {},
     "output_type": "execute_result"
    }
   ],
   "source": [
    "product_cat_results.head(60)"
   ]
  },
  {
   "cell_type": "code",
   "execution_count": 50,
   "metadata": {},
   "outputs": [
    {
     "data": {
      "text/plain": [
       "keyword\n",
       "causalshirtwomen                   1\n",
       "causaltop                          1\n",
       "romperswomenjumpsuit               1\n",
       "chaussurefamme                     1\n",
       "cheap tankini swimwear             1\n",
       "cheeky bikini bottom               1\n",
       "chemisehomme                       1\n",
       "romperswomen                       1\n",
       "chestzipper                        1\n",
       "chiffiondres                       1\n",
       "chiffomdresse                      1\n",
       "rompersshort                       1\n",
       "compressionshort                   1\n",
       "contrastcolordres                  1\n",
       "crystalbikini                      1\n",
       "croppedpant                        1\n",
       "pushupswimsuittop                  1\n",
       "crochet bikini                     1\n",
       "crochet halter top                 1\n",
       "crochet top                        1\n",
       "pushupsuit                         1\n",
       "crop tops fashion                  1\n",
       "cropped                            1\n",
       "pushuppaddedbra                    1\n",
       "croppedjean                        1\n",
       "pushupbikiniset                    1\n",
       "controlpantie                      1\n",
       "pursesampwallet                    1\n",
       "purses                             1\n",
       "croptopandskirt                    1\n",
       "croptopbra                         1\n",
       "croptopsforgirl                    1\n",
       "puppyhat                           1\n",
       "croptoptshirt                      1\n",
       "crossbandage                       1\n",
       "puppy                              1\n",
       "crisscrossbackdre                  1\n",
       "crew neck sweatshirts for women    1\n",
       "cowlnecktank                       1\n",
       "pushupswimtop                      1\n",
       "ridingpant                         1\n",
       "cool shirts                        1\n",
       "coolingfan                         1\n",
       "ribbed crop top                    1\n",
       "cosmetic                           1\n",
       "ribbed                             1\n",
       "retrotshirt                        1\n",
       "cottonblouse                       1\n",
       "retro style                        1\n",
       "cottonpant                         1\n",
       "cottonshortsleeve                  1\n",
       "pyjamaswomen                       1\n",
       "pyjama                             1\n",
       "countrygirl                        1\n",
       "countrygirllegging                 1\n",
       "countrymusicshirt                  1\n",
       "countrythunder                     1\n",
       "coupletshirt                       1\n",
       "coverupsbikini                     1\n",
       "漁師の帽子                              1\n",
       "Name: count, dtype: int64"
      ]
     },
     "execution_count": 50,
     "metadata": {},
     "output_type": "execute_result"
    }
   ],
   "source": [
    "product_cat_results.tail(60)"
   ]
  },
  {
   "cell_type": "code",
   "execution_count": 20,
   "metadata": {},
   "outputs": [],
   "source": [
    "def title_simplifier(title):\n",
    "    if 'dress' in title.lower() or 'halter' in title.lower():\n",
    "        return 'Dress'\n",
    "    elif 'swimwear' in title.lower() or 'swimming' in title.lower() or 'swimsuit' in title.lower() or 'bikini' in title.lower() or 'tankini' in title.lower() or 'swim' in title.lower() or 'beach' in title.lower():\n",
    "        return 'Swimwear'\n",
    "    elif 'pant' in title.lower() or 'legging' in title.lower() or 'jean' in title.lower() or 'trouser' in title.lower():\n",
    "        return 'Pants'\n",
    "    elif 'short' in title.lower():\n",
    "        return 'Shorts'\n",
    "    elif 'skirt' in title.lower():\n",
    "        return 'Skirt'\n",
    "    elif 'top' in title.lower() or 'blouse' in title.lower() or 'shirt' in title.lower() or 'sweatshirt' in title.lower() or 'sweater' in title.lower() or 'vest' in title.lower() or 'tank top' in title.lower():\n",
    "        return 'Top'\n",
    "    elif 'sport' in title.lower() or 'yoga' in title.lower() or 'fitness' in title.lower() or 'running' in title.lower() or 'athletic' in title.lower(): \n",
    "        return 'Sportswear'\n",
    "    elif 'romper' in title.lower() or 'jumpsuit' in title.lower() or 'overalls' in title.lower() or 'bodysuit' in title.lower():\n",
    "        return 'Onepiece'\n",
    "    elif 'shoe' in title.lower() or 'slipper' in title.lower() or 'sneaker' in title.lower():\n",
    "        return 'Footwear'\n",
    "    elif 'pajama' in title.lower() or 'pyjama' in title.lower() or 'sleep' in title.lower() or 'sleepwear' in title.lower():\n",
    "        return 'Sleepwear'\n",
    "    else:\n",
    "        return 'Accessories'"
   ]
  },
  {
   "cell_type": "code",
   "execution_count": 21,
   "metadata": {},
   "outputs": [],
   "source": [
    "df['title_simple'] = df['title_orig'].apply(lambda x: title_simplifier(x))"
   ]
  },
  {
   "cell_type": "code",
   "execution_count": 22,
   "metadata": {},
   "outputs": [
    {
     "data": {
      "text/plain": [
       "Dress          503\n",
       "Top            269\n",
       "Shorts         192\n",
       "Pants          162\n",
       "Swimwear       145\n",
       "Accessories     28\n",
       "Footwear        13\n",
       "Onepiece        12\n",
       "Sportswear       8\n",
       "Skirt            6\n",
       "Sleepwear        3\n",
       "Name: title_simple, dtype: int64"
      ]
     },
     "execution_count": 22,
     "metadata": {},
     "output_type": "execute_result"
    }
   ],
   "source": [
    "df['title_simple'].value_counts()"
   ]
  },
  {
   "cell_type": "code",
   "execution_count": 22,
   "metadata": {},
   "outputs": [
    {
     "data": {
      "text/plain": [
       "title_simple\n",
       "Skirt          7518.333333\n",
       "Top            5913.115242\n",
       "Swimwear       5516.503448\n",
       "Dress          5366.825050\n",
       "Onepiece       3595.916667\n",
       "Shorts         3351.760417\n",
       "Pants          3239.512346\n",
       "Footwear       2838.461538\n",
       "Accessories    2412.857143\n",
       "Sportswear     1526.875000\n",
       "Sleepwear       400.000000\n",
       "Name: units_sold, dtype: float64"
      ]
     },
     "execution_count": 22,
     "metadata": {},
     "output_type": "execute_result"
    }
   ],
   "source": [
    "df.groupby('title_simple')['units_sold'].mean().sort_values(ascending=False)"
   ]
  },
  {
   "cell_type": "code",
   "execution_count": 23,
   "metadata": {},
   "outputs": [],
   "source": [
    "def fashion_category(title):\n",
    "    if \"women's fashion\" in title.lower() or 'women fashion' in title.lower() or 'women' in title.lower():\n",
    "            return \"Women's Fashion\"\n",
    "    else:\n",
    "        return \"Men's Fashion\""
   ]
  },
  {
   "cell_type": "code",
   "execution_count": 24,
   "metadata": {},
   "outputs": [],
   "source": [
    "df['product_category'] = df['title_orig'].apply(lambda x: fashion_category(x))"
   ]
  },
  {
   "cell_type": "code",
   "execution_count": 25,
   "metadata": {},
   "outputs": [
    {
     "data": {
      "text/plain": [
       "Women's Fashion    1149\n",
       "Men's Fashion       192\n",
       "Name: product_category, dtype: int64"
      ]
     },
     "execution_count": 25,
     "metadata": {},
     "output_type": "execute_result"
    }
   ],
   "source": [
    "df['product_category'].value_counts()"
   ]
  },
  {
   "cell_type": "code",
   "execution_count": 28,
   "metadata": {},
   "outputs": [
    {
     "data": {
      "text/plain": [
       "product_color\n",
       "watermelonred          5000.000000\n",
       "white                  4908.791262\n",
       "brown                  4216.666667\n",
       "black & green          4000.000000\n",
       "leopard                4000.000000\n",
       "lightpink              3787.500000\n",
       "green                  3750.298701\n",
       "blue                   3602.119048\n",
       "red                    3518.589744\n",
       "navy                   3400.000000\n",
       "winered                3130.434783\n",
       "lightyellow            3000.000000\n",
       "Pink                   3000.000000\n",
       "pink                   2938.095238\n",
       "beige                  2835.714286\n",
       "armygreen              2800.041667\n",
       "yellow                 2715.775000\n",
       "Black                  2333.333333\n",
       "darkblue               2062.000000\n",
       "orange-red             1733.333333\n",
       "rose                   1733.333333\n",
       "coffee                 1260.000000\n",
       "RED                    1000.000000\n",
       "claret                 1000.000000\n",
       "army                   1000.000000\n",
       "blackwhite             1000.000000\n",
       "Army green             1000.000000\n",
       "offwhite               1000.000000\n",
       "lightgrey              1000.000000\n",
       "violet                 1000.000000\n",
       "gray & white           1000.000000\n",
       "greysnakeskinprint     1000.000000\n",
       "red & blue             1000.000000\n",
       "prussianblue           1000.000000\n",
       "mintgreen              1000.000000\n",
       "winered & yellow       1000.000000\n",
       "lightpurple            1000.000000\n",
       "lightgray              1000.000000\n",
       "lightblue               931.250000\n",
       "white & green           792.857143\n",
       "wine                    550.000000\n",
       "silver                  550.000000\n",
       "apricot                 550.000000\n",
       "brown & yellow          100.000000\n",
       "lightred                100.000000\n",
       "Rose red                100.000000\n",
       "applegreen              100.000000\n",
       "lakeblue                100.000000\n",
       "pink & white            100.000000\n",
       "leopardprint            100.000000\n",
       "coralred                100.000000\n",
       "pink & blue             100.000000\n",
       "orange & camouflage     100.000000\n",
       "fluorescentgreen        100.000000\n",
       "tan                     100.000000\n",
       "pink & black             75.000000\n",
       "rainbow                  50.000000\n",
       "offblack                 50.000000\n",
       "camel                    50.000000\n",
       "darkgreen                 1.000000\n",
       "Name: units_sold, dtype: float64"
      ]
     },
     "execution_count": 28,
     "metadata": {},
     "output_type": "execute_result"
    }
   ],
   "source": [
    "color_results.tail(60)"
   ]
  },
  {
   "cell_type": "code",
   "execution_count": 26,
   "metadata": {},
   "outputs": [],
   "source": [
    "def color_simplify(title):\n",
    "    if '&' in title.lower():\n",
    "        return 'two-colors'\n",
    "    elif 'green' in title.lower() or 'army' in title.lower():\n",
    "        return 'green'\n",
    "    elif 'navy' in title.lower() or 'blue' in title.lower():\n",
    "        return 'blue'\n",
    "    elif 'burgundy' in title.lower() or 'red' in title.lower() or 'wine' in title.lower():\n",
    "        return 'red'\n",
    "    elif 'rosegold' in title.lower() or 'pink' in title.lower():\n",
    "        return 'pink'\n",
    "    elif 'white' in title.lower():\n",
    "        return 'white'\n",
    "    elif 'black' in title.lower():\n",
    "        return 'black'\n",
    "    elif 'grey' in title.lower() or 'gray' in title.lower():\n",
    "        return 'grey'\n",
    "    elif 'yellow' in title.lower():\n",
    "        return 'yellow'\n",
    "    elif 'orange' in title.lower():\n",
    "        return 'orange'\n",
    "    elif 'khaki' in title.lower() or 'beige' in title.lower():\n",
    "        return 'beige'\n",
    "    elif 'multicolor' in title.lower() or 'rainbow' in title.lower():\n",
    "        return 'multicolor'\n",
    "    elif 'brown' in title.lower() or 'tan' in title.lower() or 'camel' in title.lower() or 'coffee' in title.lower():\n",
    "        return 'brown'\n",
    "    elif 'violet' in title.lower():\n",
    "        return 'violet'\n",
    "    else:\n",
    "        return 'others'"
   ]
  },
  {
   "cell_type": "code",
   "execution_count": 27,
   "metadata": {},
   "outputs": [],
   "source": [
    "df.loc[df['product_color'].isnull(), 'product_color'] = 'others'"
   ]
  },
  {
   "cell_type": "code",
   "execution_count": 28,
   "metadata": {},
   "outputs": [],
   "source": [
    "df['color_simple'] = df['product_color'].apply(lambda x: color_simplify(x))"
   ]
  },
  {
   "cell_type": "code",
   "execution_count": 29,
   "metadata": {},
   "outputs": [
    {
     "data": {
      "text/plain": [
       "black         270\n",
       "white         214\n",
       "blue          138\n",
       "red           121\n",
       "others        115\n",
       "green         114\n",
       "pink           93\n",
       "yellow         82\n",
       "grey           77\n",
       "two-colors     34\n",
       "beige          26\n",
       "orange         24\n",
       "multicolor     19\n",
       "brown          13\n",
       "violet          1\n",
       "Name: color_simple, dtype: int64"
      ]
     },
     "execution_count": 29,
     "metadata": {},
     "output_type": "execute_result"
    }
   ],
   "source": [
    "df['color_simple'].value_counts()"
   ]
  },
  {
   "cell_type": "code",
   "execution_count": 30,
   "metadata": {},
   "outputs": [
    {
     "data": {
      "text/plain": [
       "color_simple\n",
       "orange        7610.750000\n",
       "others        7185.147826\n",
       "grey          6445.714286\n",
       "multicolor    5550.000000\n",
       "black         5490.344444\n",
       "white         4950.051402\n",
       "beige         4500.000000\n",
       "green         4318.201754\n",
       "blue          4038.753623\n",
       "red           3860.743802\n",
       "two-colors    3627.941176\n",
       "pink          3214.516129\n",
       "yellow        2722.707317\n",
       "brown         2442.307692\n",
       "violet        1000.000000\n",
       "Name: units_sold, dtype: float64"
      ]
     },
     "execution_count": 30,
     "metadata": {},
     "output_type": "execute_result"
    }
   ],
   "source": [
    "df.groupby('color_simple')['units_sold'].mean().sort_values(ascending=False)"
   ]
  },
  {
   "cell_type": "code",
   "execution_count": 84,
   "metadata": {},
   "outputs": [
    {
     "name": "stdout",
     "output_type": "stream",
     "text": [
      "<class 'pandas.core.frame.DataFrame'>\n",
      "Int64Index: 1341 entries, 0 to 1572\n",
      "Data columns (total 46 columns):\n",
      " #   Column                        Non-Null Count  Dtype  \n",
      "---  ------                        --------------  -----  \n",
      " 0   title                         1341 non-null   object \n",
      " 1   title_orig                    1341 non-null   object \n",
      " 2   price                         1341 non-null   float64\n",
      " 3   retail_price                  1341 non-null   int64  \n",
      " 4   currency_buyer                1341 non-null   object \n",
      " 5   units_sold                    1341 non-null   int64  \n",
      " 6   uses_ad_boosts                1341 non-null   int64  \n",
      " 7   rating                        1341 non-null   float64\n",
      " 8   rating_count                  1341 non-null   int64  \n",
      " 9   rating_five_count             1341 non-null   float64\n",
      " 10  rating_four_count             1341 non-null   float64\n",
      " 11  rating_three_count            1341 non-null   float64\n",
      " 12  rating_two_count              1341 non-null   float64\n",
      " 13  rating_one_count              1341 non-null   float64\n",
      " 14  badges_count                  1341 non-null   int64  \n",
      " 15  badge_local_product           1341 non-null   int64  \n",
      " 16  badge_product_quality         1341 non-null   int64  \n",
      " 17  badge_fast_shipping           1341 non-null   int64  \n",
      " 18  tags                          1341 non-null   object \n",
      " 19  product_color                 1341 non-null   object \n",
      " 20  product_variation_size_id     1328 non-null   object \n",
      " 21  product_variation_inventory   1341 non-null   int64  \n",
      " 22  shipping_option_name          1341 non-null   object \n",
      " 23  shipping_option_price         1341 non-null   int64  \n",
      " 24  shipping_is_express           1341 non-null   int64  \n",
      " 25  countries_shipped_to          1341 non-null   int64  \n",
      " 26  inventory_total               1341 non-null   int64  \n",
      " 27  has_urgency_banner            1341 non-null   float64\n",
      " 28  urgency_text                  1341 non-null   object \n",
      " 29  origin_country                1328 non-null   object \n",
      " 30  merchant_title                1341 non-null   object \n",
      " 31  merchant_name                 1339 non-null   object \n",
      " 32  merchant_info_subtitle        1340 non-null   object \n",
      " 33  merchant_rating_count         1341 non-null   int64  \n",
      " 34  merchant_rating               1341 non-null   float64\n",
      " 35  merchant_id                   1341 non-null   object \n",
      " 36  merchant_has_profile_picture  1341 non-null   int64  \n",
      " 37  merchant_profile_picture      203 non-null    object \n",
      " 38  product_url                   1341 non-null   object \n",
      " 39  product_picture               1341 non-null   object \n",
      " 40  product_id                    1341 non-null   object \n",
      " 41  theme                         1341 non-null   object \n",
      " 42  crawl_month                   1341 non-null   object \n",
      " 43  title_simple                  1341 non-null   object \n",
      " 44  product_category              1341 non-null   object \n",
      " 45  color_simple                  1341 non-null   object \n",
      "dtypes: float64(9), int64(15), object(22)\n",
      "memory usage: 532.4+ KB\n"
     ]
    }
   ],
   "source": [
    "df.info()"
   ]
  },
  {
   "cell_type": "markdown",
   "metadata": {},
   "source": [
    "## Adjust the distribution of origin contries and units sold"
   ]
  },
  {
   "cell_type": "code",
   "execution_count": 31,
   "metadata": {},
   "outputs": [],
   "source": [
    "df['origin_country'] = df['origin_country'].replace(np.nan, 'Other')\n",
    "df['origin_country'] = df['origin_country'].replace('VE', 'Other')\n",
    "df['origin_country'] = df['origin_country'].replace('SG', 'Other')\n",
    "df['origin_country'] = df['origin_country'].replace('GB', 'Other')\n",
    "df['origin_country'] = df['origin_country'].replace('AT', 'Other')"
   ]
  },
  {
   "cell_type": "code",
   "execution_count": 32,
   "metadata": {},
   "outputs": [
    {
     "data": {
      "text/plain": [
       "CN       1294\n",
       "US         27\n",
       "Other      20\n",
       "Name: origin_country, dtype: int64"
      ]
     },
     "execution_count": 32,
     "metadata": {},
     "output_type": "execute_result"
    }
   ],
   "source": [
    "df['origin_country'].value_counts()"
   ]
  },
  {
   "cell_type": "code",
   "execution_count": 34,
   "metadata": {},
   "outputs": [],
   "source": [
    "df['units_sold'] = df['units_sold'].replace(1, 10)\n",
    "df['units_sold'] = df['units_sold'].replace(8, 10)\n",
    "df['units_sold'] = df['units_sold'].replace(7, 10)\n",
    "df['units_sold'] = df['units_sold'].replace(3, 10)\n",
    "df['units_sold'] = df['units_sold'].replace(2, 10)\n",
    "df['units_sold'] = df['units_sold'].replace(6, 10)"
   ]
  },
  {
   "cell_type": "code",
   "execution_count": 35,
   "metadata": {},
   "outputs": [
    {
     "data": {
      "text/plain": [
       "100       396\n",
       "1000      362\n",
       "5000      200\n",
       "10000     163\n",
       "20000      99\n",
       "50         50\n",
       "10         48\n",
       "50000      17\n",
       "100000      6\n",
       "Name: units_sold, dtype: int64"
      ]
     },
     "execution_count": 35,
     "metadata": {},
     "output_type": "execute_result"
    }
   ],
   "source": [
    "df['units_sold'].value_counts()"
   ]
  },
  {
   "cell_type": "markdown",
   "metadata": {},
   "source": [
    "## Choose columns to fit into model"
   ]
  },
  {
   "cell_type": "code",
   "execution_count": 89,
   "metadata": {},
   "outputs": [],
   "source": [
    "predictors = ['price', 'retail_price', 'rating', 'rating_count', 'rating_five_count',\n",
    "              'rating_four_count','rating_three_count', 'rating_two_count', 'rating_one_count',\n",
    "              'badges_count', 'product_variation_inventory', 'shipping_option_price',\n",
    "              'countries_shipped_to', 'inventory_total', 'merchant_rating_count', 'merchant_rating',\n",
    "              'units_sold', 'uses_ad_boosts','badge_local_product', 'badge_product_quality', \n",
    "              'badge_fast_shipping','shipping_is_express', 'has_urgency_banner',\n",
    "              'origin_country', 'merchant_has_profile_picture','title_simple', 'product_category', 'color_simple']"
   ]
  },
  {
   "cell_type": "code",
   "execution_count": 90,
   "metadata": {},
   "outputs": [
    {
     "data": {
      "text/plain": [
       "price                           0\n",
       "retail_price                    0\n",
       "rating                          0\n",
       "rating_count                    0\n",
       "rating_five_count               0\n",
       "rating_four_count               0\n",
       "rating_three_count              0\n",
       "rating_two_count                0\n",
       "rating_one_count                0\n",
       "badges_count                    0\n",
       "product_variation_inventory     0\n",
       "shipping_option_price           0\n",
       "countries_shipped_to            0\n",
       "inventory_total                 0\n",
       "merchant_rating_count           0\n",
       "merchant_rating                 0\n",
       "units_sold                      0\n",
       "uses_ad_boosts                  0\n",
       "badge_local_product             0\n",
       "badge_product_quality           0\n",
       "badge_fast_shipping             0\n",
       "shipping_is_express             0\n",
       "has_urgency_banner              0\n",
       "origin_country                  0\n",
       "merchant_has_profile_picture    0\n",
       "title_simple                    0\n",
       "product_category                0\n",
       "color_simple                    0\n",
       "dtype: int64"
      ]
     },
     "execution_count": 90,
     "metadata": {},
     "output_type": "execute_result"
    }
   ],
   "source": [
    "df[predictors].isnull().sum()"
   ]
  },
  {
   "cell_type": "code",
   "execution_count": 91,
   "metadata": {},
   "outputs": [],
   "source": [
    "df_model = df[predictors]"
   ]
  },
  {
   "cell_type": "code",
   "execution_count": 92,
   "metadata": {},
   "outputs": [
    {
     "data": {
      "text/html": [
       "<div>\n",
       "<style scoped>\n",
       "    .dataframe tbody tr th:only-of-type {\n",
       "        vertical-align: middle;\n",
       "    }\n",
       "\n",
       "    .dataframe tbody tr th {\n",
       "        vertical-align: top;\n",
       "    }\n",
       "\n",
       "    .dataframe thead th {\n",
       "        text-align: right;\n",
       "    }\n",
       "</style>\n",
       "<table border=\"1\" class=\"dataframe\">\n",
       "  <thead>\n",
       "    <tr style=\"text-align: right;\">\n",
       "      <th></th>\n",
       "      <th>price</th>\n",
       "      <th>retail_price</th>\n",
       "      <th>rating</th>\n",
       "      <th>rating_count</th>\n",
       "      <th>rating_five_count</th>\n",
       "      <th>rating_four_count</th>\n",
       "      <th>rating_three_count</th>\n",
       "      <th>rating_two_count</th>\n",
       "      <th>rating_one_count</th>\n",
       "      <th>badges_count</th>\n",
       "      <th>...</th>\n",
       "      <th>badge_local_product</th>\n",
       "      <th>badge_product_quality</th>\n",
       "      <th>badge_fast_shipping</th>\n",
       "      <th>shipping_is_express</th>\n",
       "      <th>has_urgency_banner</th>\n",
       "      <th>origin_country</th>\n",
       "      <th>merchant_has_profile_picture</th>\n",
       "      <th>title_simple</th>\n",
       "      <th>product_category</th>\n",
       "      <th>color_simple</th>\n",
       "    </tr>\n",
       "  </thead>\n",
       "  <tbody>\n",
       "    <tr>\n",
       "      <th>0</th>\n",
       "      <td>16.00</td>\n",
       "      <td>14</td>\n",
       "      <td>3.76</td>\n",
       "      <td>54</td>\n",
       "      <td>26.0</td>\n",
       "      <td>8.0</td>\n",
       "      <td>10.0</td>\n",
       "      <td>1.0</td>\n",
       "      <td>9.0</td>\n",
       "      <td>0</td>\n",
       "      <td>...</td>\n",
       "      <td>0</td>\n",
       "      <td>0</td>\n",
       "      <td>0</td>\n",
       "      <td>0</td>\n",
       "      <td>1.0</td>\n",
       "      <td>CN</td>\n",
       "      <td>0</td>\n",
       "      <td>Shorts</td>\n",
       "      <td>Women's Fashion</td>\n",
       "      <td>white</td>\n",
       "    </tr>\n",
       "    <tr>\n",
       "      <th>1</th>\n",
       "      <td>8.00</td>\n",
       "      <td>22</td>\n",
       "      <td>3.45</td>\n",
       "      <td>6135</td>\n",
       "      <td>2269.0</td>\n",
       "      <td>1027.0</td>\n",
       "      <td>1118.0</td>\n",
       "      <td>644.0</td>\n",
       "      <td>1077.0</td>\n",
       "      <td>0</td>\n",
       "      <td>...</td>\n",
       "      <td>0</td>\n",
       "      <td>0</td>\n",
       "      <td>0</td>\n",
       "      <td>0</td>\n",
       "      <td>1.0</td>\n",
       "      <td>CN</td>\n",
       "      <td>0</td>\n",
       "      <td>Dress</td>\n",
       "      <td>Women's Fashion</td>\n",
       "      <td>green</td>\n",
       "    </tr>\n",
       "    <tr>\n",
       "      <th>2</th>\n",
       "      <td>8.00</td>\n",
       "      <td>43</td>\n",
       "      <td>3.57</td>\n",
       "      <td>14</td>\n",
       "      <td>5.0</td>\n",
       "      <td>4.0</td>\n",
       "      <td>2.0</td>\n",
       "      <td>0.0</td>\n",
       "      <td>3.0</td>\n",
       "      <td>0</td>\n",
       "      <td>...</td>\n",
       "      <td>0</td>\n",
       "      <td>0</td>\n",
       "      <td>0</td>\n",
       "      <td>0</td>\n",
       "      <td>1.0</td>\n",
       "      <td>CN</td>\n",
       "      <td>0</td>\n",
       "      <td>Swimwear</td>\n",
       "      <td>Women's Fashion</td>\n",
       "      <td>others</td>\n",
       "    </tr>\n",
       "    <tr>\n",
       "      <th>3</th>\n",
       "      <td>8.00</td>\n",
       "      <td>8</td>\n",
       "      <td>4.03</td>\n",
       "      <td>579</td>\n",
       "      <td>295.0</td>\n",
       "      <td>119.0</td>\n",
       "      <td>87.0</td>\n",
       "      <td>42.0</td>\n",
       "      <td>36.0</td>\n",
       "      <td>0</td>\n",
       "      <td>...</td>\n",
       "      <td>0</td>\n",
       "      <td>0</td>\n",
       "      <td>0</td>\n",
       "      <td>0</td>\n",
       "      <td>0.0</td>\n",
       "      <td>CN</td>\n",
       "      <td>0</td>\n",
       "      <td>Shorts</td>\n",
       "      <td>Women's Fashion</td>\n",
       "      <td>black</td>\n",
       "    </tr>\n",
       "    <tr>\n",
       "      <th>4</th>\n",
       "      <td>2.72</td>\n",
       "      <td>3</td>\n",
       "      <td>3.10</td>\n",
       "      <td>20</td>\n",
       "      <td>6.0</td>\n",
       "      <td>4.0</td>\n",
       "      <td>2.0</td>\n",
       "      <td>2.0</td>\n",
       "      <td>6.0</td>\n",
       "      <td>0</td>\n",
       "      <td>...</td>\n",
       "      <td>0</td>\n",
       "      <td>0</td>\n",
       "      <td>0</td>\n",
       "      <td>0</td>\n",
       "      <td>1.0</td>\n",
       "      <td>CN</td>\n",
       "      <td>0</td>\n",
       "      <td>Pants</td>\n",
       "      <td>Women's Fashion</td>\n",
       "      <td>yellow</td>\n",
       "    </tr>\n",
       "  </tbody>\n",
       "</table>\n",
       "<p>5 rows × 28 columns</p>\n",
       "</div>"
      ],
      "text/plain": [
       "   price  retail_price  rating  rating_count  rating_five_count  \\\n",
       "0  16.00            14    3.76            54               26.0   \n",
       "1   8.00            22    3.45          6135             2269.0   \n",
       "2   8.00            43    3.57            14                5.0   \n",
       "3   8.00             8    4.03           579              295.0   \n",
       "4   2.72             3    3.10            20                6.0   \n",
       "\n",
       "   rating_four_count  rating_three_count  rating_two_count  rating_one_count  \\\n",
       "0                8.0                10.0               1.0               9.0   \n",
       "1             1027.0              1118.0             644.0            1077.0   \n",
       "2                4.0                 2.0               0.0               3.0   \n",
       "3              119.0                87.0              42.0              36.0   \n",
       "4                4.0                 2.0               2.0               6.0   \n",
       "\n",
       "   badges_count  ...  badge_local_product  badge_product_quality  \\\n",
       "0             0  ...                    0                      0   \n",
       "1             0  ...                    0                      0   \n",
       "2             0  ...                    0                      0   \n",
       "3             0  ...                    0                      0   \n",
       "4             0  ...                    0                      0   \n",
       "\n",
       "   badge_fast_shipping  shipping_is_express  has_urgency_banner  \\\n",
       "0                    0                    0                 1.0   \n",
       "1                    0                    0                 1.0   \n",
       "2                    0                    0                 1.0   \n",
       "3                    0                    0                 0.0   \n",
       "4                    0                    0                 1.0   \n",
       "\n",
       "   origin_country  merchant_has_profile_picture  title_simple  \\\n",
       "0              CN                             0        Shorts   \n",
       "1              CN                             0         Dress   \n",
       "2              CN                             0      Swimwear   \n",
       "3              CN                             0        Shorts   \n",
       "4              CN                             0         Pants   \n",
       "\n",
       "   product_category  color_simple  \n",
       "0   Women's Fashion         white  \n",
       "1   Women's Fashion         green  \n",
       "2   Women's Fashion        others  \n",
       "3   Women's Fashion         black  \n",
       "4   Women's Fashion        yellow  \n",
       "\n",
       "[5 rows x 28 columns]"
      ]
     },
     "execution_count": 92,
     "metadata": {},
     "output_type": "execute_result"
    }
   ],
   "source": [
    "df_model.head()"
   ]
  },
  {
   "cell_type": "markdown",
   "metadata": {},
   "source": [
    "## Feature Scaling "
   ]
  },
  {
   "cell_type": "code",
   "execution_count": 94,
   "metadata": {},
   "outputs": [
    {
     "name": "stdout",
     "output_type": "stream",
     "text": [
      "<class 'pandas.core.frame.DataFrame'>\n",
      "Int64Index: 1341 entries, 0 to 1572\n",
      "Data columns (total 28 columns):\n",
      " #   Column                        Non-Null Count  Dtype  \n",
      "---  ------                        --------------  -----  \n",
      " 0   price                         1341 non-null   float64\n",
      " 1   retail_price                  1341 non-null   int64  \n",
      " 2   rating                        1341 non-null   float64\n",
      " 3   rating_count                  1341 non-null   int64  \n",
      " 4   rating_five_count             1341 non-null   float64\n",
      " 5   rating_four_count             1341 non-null   float64\n",
      " 6   rating_three_count            1341 non-null   float64\n",
      " 7   rating_two_count              1341 non-null   float64\n",
      " 8   rating_one_count              1341 non-null   float64\n",
      " 9   badges_count                  1341 non-null   int64  \n",
      " 10  product_variation_inventory   1341 non-null   int64  \n",
      " 11  shipping_option_price         1341 non-null   int64  \n",
      " 12  countries_shipped_to          1341 non-null   int64  \n",
      " 13  inventory_total               1341 non-null   int64  \n",
      " 14  merchant_rating_count         1341 non-null   int64  \n",
      " 15  merchant_rating               1341 non-null   float64\n",
      " 16  units_sold                    1341 non-null   int64  \n",
      " 17  uses_ad_boosts                1341 non-null   int64  \n",
      " 18  badge_local_product           1341 non-null   int64  \n",
      " 19  badge_product_quality         1341 non-null   int64  \n",
      " 20  badge_fast_shipping           1341 non-null   int64  \n",
      " 21  shipping_is_express           1341 non-null   int64  \n",
      " 22  has_urgency_banner            1341 non-null   float64\n",
      " 23  origin_country                1341 non-null   object \n",
      " 24  merchant_has_profile_picture  1341 non-null   int64  \n",
      " 25  title_simple                  1341 non-null   object \n",
      " 26  product_category              1341 non-null   object \n",
      " 27  color_simple                  1341 non-null   object \n",
      "dtypes: float64(9), int64(15), object(4)\n",
      "memory usage: 303.8+ KB\n"
     ]
    }
   ],
   "source": [
    "df_model.info()"
   ]
  },
  {
   "cell_type": "code",
   "execution_count": 93,
   "metadata": {},
   "outputs": [
    {
     "data": {
      "text/html": [
       "<div>\n",
       "<style scoped>\n",
       "    .dataframe tbody tr th:only-of-type {\n",
       "        vertical-align: middle;\n",
       "    }\n",
       "\n",
       "    .dataframe tbody tr th {\n",
       "        vertical-align: top;\n",
       "    }\n",
       "\n",
       "    .dataframe thead th {\n",
       "        text-align: right;\n",
       "    }\n",
       "</style>\n",
       "<table border=\"1\" class=\"dataframe\">\n",
       "  <thead>\n",
       "    <tr style=\"text-align: right;\">\n",
       "      <th></th>\n",
       "      <th>price</th>\n",
       "      <th>retail_price</th>\n",
       "      <th>rating</th>\n",
       "      <th>rating_count</th>\n",
       "      <th>rating_five_count</th>\n",
       "      <th>rating_four_count</th>\n",
       "      <th>rating_three_count</th>\n",
       "      <th>rating_two_count</th>\n",
       "      <th>rating_one_count</th>\n",
       "      <th>badges_count</th>\n",
       "      <th>product_variation_inventory</th>\n",
       "      <th>shipping_option_price</th>\n",
       "      <th>countries_shipped_to</th>\n",
       "      <th>inventory_total</th>\n",
       "      <th>merchant_rating_count</th>\n",
       "      <th>merchant_rating</th>\n",
       "    </tr>\n",
       "  </thead>\n",
       "  <tbody>\n",
       "    <tr>\n",
       "      <th>0</th>\n",
       "      <td>16.00</td>\n",
       "      <td>14</td>\n",
       "      <td>3.76</td>\n",
       "      <td>54</td>\n",
       "      <td>26.0</td>\n",
       "      <td>8.0</td>\n",
       "      <td>10.0</td>\n",
       "      <td>1.0</td>\n",
       "      <td>9.0</td>\n",
       "      <td>0</td>\n",
       "      <td>50</td>\n",
       "      <td>4</td>\n",
       "      <td>34</td>\n",
       "      <td>50</td>\n",
       "      <td>568</td>\n",
       "      <td>4.128521</td>\n",
       "    </tr>\n",
       "    <tr>\n",
       "      <th>1</th>\n",
       "      <td>8.00</td>\n",
       "      <td>22</td>\n",
       "      <td>3.45</td>\n",
       "      <td>6135</td>\n",
       "      <td>2269.0</td>\n",
       "      <td>1027.0</td>\n",
       "      <td>1118.0</td>\n",
       "      <td>644.0</td>\n",
       "      <td>1077.0</td>\n",
       "      <td>0</td>\n",
       "      <td>50</td>\n",
       "      <td>2</td>\n",
       "      <td>41</td>\n",
       "      <td>50</td>\n",
       "      <td>17752</td>\n",
       "      <td>3.899673</td>\n",
       "    </tr>\n",
       "    <tr>\n",
       "      <th>2</th>\n",
       "      <td>8.00</td>\n",
       "      <td>43</td>\n",
       "      <td>3.57</td>\n",
       "      <td>14</td>\n",
       "      <td>5.0</td>\n",
       "      <td>4.0</td>\n",
       "      <td>2.0</td>\n",
       "      <td>0.0</td>\n",
       "      <td>3.0</td>\n",
       "      <td>0</td>\n",
       "      <td>1</td>\n",
       "      <td>3</td>\n",
       "      <td>36</td>\n",
       "      <td>50</td>\n",
       "      <td>295</td>\n",
       "      <td>3.989831</td>\n",
       "    </tr>\n",
       "    <tr>\n",
       "      <th>3</th>\n",
       "      <td>8.00</td>\n",
       "      <td>8</td>\n",
       "      <td>4.03</td>\n",
       "      <td>579</td>\n",
       "      <td>295.0</td>\n",
       "      <td>119.0</td>\n",
       "      <td>87.0</td>\n",
       "      <td>42.0</td>\n",
       "      <td>36.0</td>\n",
       "      <td>0</td>\n",
       "      <td>50</td>\n",
       "      <td>2</td>\n",
       "      <td>41</td>\n",
       "      <td>50</td>\n",
       "      <td>23832</td>\n",
       "      <td>4.020435</td>\n",
       "    </tr>\n",
       "    <tr>\n",
       "      <th>4</th>\n",
       "      <td>2.72</td>\n",
       "      <td>3</td>\n",
       "      <td>3.10</td>\n",
       "      <td>20</td>\n",
       "      <td>6.0</td>\n",
       "      <td>4.0</td>\n",
       "      <td>2.0</td>\n",
       "      <td>2.0</td>\n",
       "      <td>6.0</td>\n",
       "      <td>0</td>\n",
       "      <td>1</td>\n",
       "      <td>1</td>\n",
       "      <td>35</td>\n",
       "      <td>50</td>\n",
       "      <td>14482</td>\n",
       "      <td>4.001588</td>\n",
       "    </tr>\n",
       "    <tr>\n",
       "      <th>...</th>\n",
       "      <td>...</td>\n",
       "      <td>...</td>\n",
       "      <td>...</td>\n",
       "      <td>...</td>\n",
       "      <td>...</td>\n",
       "      <td>...</td>\n",
       "      <td>...</td>\n",
       "      <td>...</td>\n",
       "      <td>...</td>\n",
       "      <td>...</td>\n",
       "      <td>...</td>\n",
       "      <td>...</td>\n",
       "      <td>...</td>\n",
       "      <td>...</td>\n",
       "      <td>...</td>\n",
       "      <td>...</td>\n",
       "    </tr>\n",
       "    <tr>\n",
       "      <th>1565</th>\n",
       "      <td>3.00</td>\n",
       "      <td>8</td>\n",
       "      <td>3.79</td>\n",
       "      <td>57</td>\n",
       "      <td>25.0</td>\n",
       "      <td>10.0</td>\n",
       "      <td>13.0</td>\n",
       "      <td>3.0</td>\n",
       "      <td>6.0</td>\n",
       "      <td>0</td>\n",
       "      <td>1</td>\n",
       "      <td>1</td>\n",
       "      <td>41</td>\n",
       "      <td>50</td>\n",
       "      <td>4080</td>\n",
       "      <td>3.987990</td>\n",
       "    </tr>\n",
       "    <tr>\n",
       "      <th>1567</th>\n",
       "      <td>8.00</td>\n",
       "      <td>7</td>\n",
       "      <td>4.25</td>\n",
       "      <td>3127</td>\n",
       "      <td>1919.0</td>\n",
       "      <td>580.0</td>\n",
       "      <td>304.0</td>\n",
       "      <td>128.0</td>\n",
       "      <td>196.0</td>\n",
       "      <td>1</td>\n",
       "      <td>50</td>\n",
       "      <td>2</td>\n",
       "      <td>44</td>\n",
       "      <td>50</td>\n",
       "      <td>16803</td>\n",
       "      <td>4.155032</td>\n",
       "    </tr>\n",
       "    <tr>\n",
       "      <th>1568</th>\n",
       "      <td>6.00</td>\n",
       "      <td>9</td>\n",
       "      <td>4.08</td>\n",
       "      <td>1367</td>\n",
       "      <td>722.0</td>\n",
       "      <td>293.0</td>\n",
       "      <td>185.0</td>\n",
       "      <td>77.0</td>\n",
       "      <td>90.0</td>\n",
       "      <td>0</td>\n",
       "      <td>50</td>\n",
       "      <td>2</td>\n",
       "      <td>41</td>\n",
       "      <td>50</td>\n",
       "      <td>5316</td>\n",
       "      <td>4.224605</td>\n",
       "    </tr>\n",
       "    <tr>\n",
       "      <th>1570</th>\n",
       "      <td>5.00</td>\n",
       "      <td>19</td>\n",
       "      <td>3.71</td>\n",
       "      <td>59</td>\n",
       "      <td>24.0</td>\n",
       "      <td>15.0</td>\n",
       "      <td>8.0</td>\n",
       "      <td>3.0</td>\n",
       "      <td>9.0</td>\n",
       "      <td>0</td>\n",
       "      <td>15</td>\n",
       "      <td>2</td>\n",
       "      <td>11</td>\n",
       "      <td>50</td>\n",
       "      <td>210</td>\n",
       "      <td>3.961905</td>\n",
       "    </tr>\n",
       "    <tr>\n",
       "      <th>1572</th>\n",
       "      <td>7.00</td>\n",
       "      <td>6</td>\n",
       "      <td>4.07</td>\n",
       "      <td>14</td>\n",
       "      <td>8.0</td>\n",
       "      <td>3.0</td>\n",
       "      <td>1.0</td>\n",
       "      <td>0.0</td>\n",
       "      <td>2.0</td>\n",
       "      <td>0</td>\n",
       "      <td>50</td>\n",
       "      <td>2</td>\n",
       "      <td>41</td>\n",
       "      <td>50</td>\n",
       "      <td>7023</td>\n",
       "      <td>4.235939</td>\n",
       "    </tr>\n",
       "  </tbody>\n",
       "</table>\n",
       "<p>1341 rows × 16 columns</p>\n",
       "</div>"
      ],
      "text/plain": [
       "      price  retail_price  rating  rating_count  rating_five_count  \\\n",
       "0     16.00            14    3.76            54               26.0   \n",
       "1      8.00            22    3.45          6135             2269.0   \n",
       "2      8.00            43    3.57            14                5.0   \n",
       "3      8.00             8    4.03           579              295.0   \n",
       "4      2.72             3    3.10            20                6.0   \n",
       "...     ...           ...     ...           ...                ...   \n",
       "1565   3.00             8    3.79            57               25.0   \n",
       "1567   8.00             7    4.25          3127             1919.0   \n",
       "1568   6.00             9    4.08          1367              722.0   \n",
       "1570   5.00            19    3.71            59               24.0   \n",
       "1572   7.00             6    4.07            14                8.0   \n",
       "\n",
       "      rating_four_count  rating_three_count  rating_two_count  \\\n",
       "0                   8.0                10.0               1.0   \n",
       "1                1027.0              1118.0             644.0   \n",
       "2                   4.0                 2.0               0.0   \n",
       "3                 119.0                87.0              42.0   \n",
       "4                   4.0                 2.0               2.0   \n",
       "...                 ...                 ...               ...   \n",
       "1565               10.0                13.0               3.0   \n",
       "1567              580.0               304.0             128.0   \n",
       "1568              293.0               185.0              77.0   \n",
       "1570               15.0                 8.0               3.0   \n",
       "1572                3.0                 1.0               0.0   \n",
       "\n",
       "      rating_one_count  badges_count  product_variation_inventory  \\\n",
       "0                  9.0             0                           50   \n",
       "1               1077.0             0                           50   \n",
       "2                  3.0             0                            1   \n",
       "3                 36.0             0                           50   \n",
       "4                  6.0             0                            1   \n",
       "...                ...           ...                          ...   \n",
       "1565               6.0             0                            1   \n",
       "1567             196.0             1                           50   \n",
       "1568              90.0             0                           50   \n",
       "1570               9.0             0                           15   \n",
       "1572               2.0             0                           50   \n",
       "\n",
       "      shipping_option_price  countries_shipped_to  inventory_total  \\\n",
       "0                         4                    34               50   \n",
       "1                         2                    41               50   \n",
       "2                         3                    36               50   \n",
       "3                         2                    41               50   \n",
       "4                         1                    35               50   \n",
       "...                     ...                   ...              ...   \n",
       "1565                      1                    41               50   \n",
       "1567                      2                    44               50   \n",
       "1568                      2                    41               50   \n",
       "1570                      2                    11               50   \n",
       "1572                      2                    41               50   \n",
       "\n",
       "      merchant_rating_count  merchant_rating  \n",
       "0                       568         4.128521  \n",
       "1                     17752         3.899673  \n",
       "2                       295         3.989831  \n",
       "3                     23832         4.020435  \n",
       "4                     14482         4.001588  \n",
       "...                     ...              ...  \n",
       "1565                   4080         3.987990  \n",
       "1567                  16803         4.155032  \n",
       "1568                   5316         4.224605  \n",
       "1570                    210         3.961905  \n",
       "1572                   7023         4.235939  \n",
       "\n",
       "[1341 rows x 16 columns]"
      ]
     },
     "execution_count": 93,
     "metadata": {},
     "output_type": "execute_result"
    }
   ],
   "source": [
    "df_model.iloc[:,0:16]"
   ]
  },
  {
   "cell_type": "code",
   "execution_count": 95,
   "metadata": {},
   "outputs": [
    {
     "data": {
      "text/html": [
       "<div>\n",
       "<style scoped>\n",
       "    .dataframe tbody tr th:only-of-type {\n",
       "        vertical-align: middle;\n",
       "    }\n",
       "\n",
       "    .dataframe tbody tr th {\n",
       "        vertical-align: top;\n",
       "    }\n",
       "\n",
       "    .dataframe thead th {\n",
       "        text-align: right;\n",
       "    }\n",
       "</style>\n",
       "<table border=\"1\" class=\"dataframe\">\n",
       "  <thead>\n",
       "    <tr style=\"text-align: right;\">\n",
       "      <th></th>\n",
       "      <th>units_sold</th>\n",
       "      <th>uses_ad_boosts</th>\n",
       "      <th>badge_local_product</th>\n",
       "      <th>badge_product_quality</th>\n",
       "      <th>badge_fast_shipping</th>\n",
       "      <th>shipping_is_express</th>\n",
       "      <th>has_urgency_banner</th>\n",
       "      <th>origin_country</th>\n",
       "      <th>merchant_has_profile_picture</th>\n",
       "      <th>title_simple</th>\n",
       "      <th>product_category</th>\n",
       "      <th>color_simple</th>\n",
       "    </tr>\n",
       "  </thead>\n",
       "  <tbody>\n",
       "    <tr>\n",
       "      <th>0</th>\n",
       "      <td>100</td>\n",
       "      <td>0</td>\n",
       "      <td>0</td>\n",
       "      <td>0</td>\n",
       "      <td>0</td>\n",
       "      <td>0</td>\n",
       "      <td>1.0</td>\n",
       "      <td>CN</td>\n",
       "      <td>0</td>\n",
       "      <td>Shorts</td>\n",
       "      <td>Women's Fashion</td>\n",
       "      <td>white</td>\n",
       "    </tr>\n",
       "    <tr>\n",
       "      <th>1</th>\n",
       "      <td>20000</td>\n",
       "      <td>1</td>\n",
       "      <td>0</td>\n",
       "      <td>0</td>\n",
       "      <td>0</td>\n",
       "      <td>0</td>\n",
       "      <td>1.0</td>\n",
       "      <td>CN</td>\n",
       "      <td>0</td>\n",
       "      <td>Dress</td>\n",
       "      <td>Women's Fashion</td>\n",
       "      <td>green</td>\n",
       "    </tr>\n",
       "    <tr>\n",
       "      <th>2</th>\n",
       "      <td>100</td>\n",
       "      <td>0</td>\n",
       "      <td>0</td>\n",
       "      <td>0</td>\n",
       "      <td>0</td>\n",
       "      <td>0</td>\n",
       "      <td>1.0</td>\n",
       "      <td>CN</td>\n",
       "      <td>0</td>\n",
       "      <td>Swimwear</td>\n",
       "      <td>Women's Fashion</td>\n",
       "      <td>others</td>\n",
       "    </tr>\n",
       "    <tr>\n",
       "      <th>3</th>\n",
       "      <td>5000</td>\n",
       "      <td>1</td>\n",
       "      <td>0</td>\n",
       "      <td>0</td>\n",
       "      <td>0</td>\n",
       "      <td>0</td>\n",
       "      <td>0.0</td>\n",
       "      <td>CN</td>\n",
       "      <td>0</td>\n",
       "      <td>Shorts</td>\n",
       "      <td>Women's Fashion</td>\n",
       "      <td>black</td>\n",
       "    </tr>\n",
       "    <tr>\n",
       "      <th>4</th>\n",
       "      <td>100</td>\n",
       "      <td>1</td>\n",
       "      <td>0</td>\n",
       "      <td>0</td>\n",
       "      <td>0</td>\n",
       "      <td>0</td>\n",
       "      <td>1.0</td>\n",
       "      <td>CN</td>\n",
       "      <td>0</td>\n",
       "      <td>Pants</td>\n",
       "      <td>Women's Fashion</td>\n",
       "      <td>yellow</td>\n",
       "    </tr>\n",
       "    <tr>\n",
       "      <th>...</th>\n",
       "      <td>...</td>\n",
       "      <td>...</td>\n",
       "      <td>...</td>\n",
       "      <td>...</td>\n",
       "      <td>...</td>\n",
       "      <td>...</td>\n",
       "      <td>...</td>\n",
       "      <td>...</td>\n",
       "      <td>...</td>\n",
       "      <td>...</td>\n",
       "      <td>...</td>\n",
       "      <td>...</td>\n",
       "    </tr>\n",
       "    <tr>\n",
       "      <th>1565</th>\n",
       "      <td>100</td>\n",
       "      <td>1</td>\n",
       "      <td>0</td>\n",
       "      <td>0</td>\n",
       "      <td>0</td>\n",
       "      <td>0</td>\n",
       "      <td>1.0</td>\n",
       "      <td>CN</td>\n",
       "      <td>0</td>\n",
       "      <td>Pants</td>\n",
       "      <td>Women's Fashion</td>\n",
       "      <td>blue</td>\n",
       "    </tr>\n",
       "    <tr>\n",
       "      <th>1567</th>\n",
       "      <td>20000</td>\n",
       "      <td>1</td>\n",
       "      <td>0</td>\n",
       "      <td>1</td>\n",
       "      <td>0</td>\n",
       "      <td>0</td>\n",
       "      <td>0.0</td>\n",
       "      <td>CN</td>\n",
       "      <td>0</td>\n",
       "      <td>Shorts</td>\n",
       "      <td>Women's Fashion</td>\n",
       "      <td>black</td>\n",
       "    </tr>\n",
       "    <tr>\n",
       "      <th>1568</th>\n",
       "      <td>10000</td>\n",
       "      <td>1</td>\n",
       "      <td>0</td>\n",
       "      <td>0</td>\n",
       "      <td>0</td>\n",
       "      <td>0</td>\n",
       "      <td>0.0</td>\n",
       "      <td>CN</td>\n",
       "      <td>0</td>\n",
       "      <td>Shorts</td>\n",
       "      <td>Women's Fashion</td>\n",
       "      <td>blue</td>\n",
       "    </tr>\n",
       "    <tr>\n",
       "      <th>1570</th>\n",
       "      <td>100</td>\n",
       "      <td>0</td>\n",
       "      <td>0</td>\n",
       "      <td>0</td>\n",
       "      <td>0</td>\n",
       "      <td>0</td>\n",
       "      <td>0.0</td>\n",
       "      <td>CN</td>\n",
       "      <td>0</td>\n",
       "      <td>Swimwear</td>\n",
       "      <td>Men's Fashion</td>\n",
       "      <td>white</td>\n",
       "    </tr>\n",
       "    <tr>\n",
       "      <th>1572</th>\n",
       "      <td>100</td>\n",
       "      <td>1</td>\n",
       "      <td>0</td>\n",
       "      <td>0</td>\n",
       "      <td>0</td>\n",
       "      <td>0</td>\n",
       "      <td>0.0</td>\n",
       "      <td>CN</td>\n",
       "      <td>0</td>\n",
       "      <td>Pants</td>\n",
       "      <td>Women's Fashion</td>\n",
       "      <td>red</td>\n",
       "    </tr>\n",
       "  </tbody>\n",
       "</table>\n",
       "<p>1341 rows × 12 columns</p>\n",
       "</div>"
      ],
      "text/plain": [
       "      units_sold  uses_ad_boosts  badge_local_product  badge_product_quality  \\\n",
       "0            100               0                    0                      0   \n",
       "1          20000               1                    0                      0   \n",
       "2            100               0                    0                      0   \n",
       "3           5000               1                    0                      0   \n",
       "4            100               1                    0                      0   \n",
       "...          ...             ...                  ...                    ...   \n",
       "1565         100               1                    0                      0   \n",
       "1567       20000               1                    0                      1   \n",
       "1568       10000               1                    0                      0   \n",
       "1570         100               0                    0                      0   \n",
       "1572         100               1                    0                      0   \n",
       "\n",
       "      badge_fast_shipping  shipping_is_express  has_urgency_banner  \\\n",
       "0                       0                    0                 1.0   \n",
       "1                       0                    0                 1.0   \n",
       "2                       0                    0                 1.0   \n",
       "3                       0                    0                 0.0   \n",
       "4                       0                    0                 1.0   \n",
       "...                   ...                  ...                 ...   \n",
       "1565                    0                    0                 1.0   \n",
       "1567                    0                    0                 0.0   \n",
       "1568                    0                    0                 0.0   \n",
       "1570                    0                    0                 0.0   \n",
       "1572                    0                    0                 0.0   \n",
       "\n",
       "     origin_country  merchant_has_profile_picture title_simple  \\\n",
       "0                CN                             0       Shorts   \n",
       "1                CN                             0        Dress   \n",
       "2                CN                             0     Swimwear   \n",
       "3                CN                             0       Shorts   \n",
       "4                CN                             0        Pants   \n",
       "...             ...                           ...          ...   \n",
       "1565             CN                             0        Pants   \n",
       "1567             CN                             0       Shorts   \n",
       "1568             CN                             0       Shorts   \n",
       "1570             CN                             0     Swimwear   \n",
       "1572             CN                             0        Pants   \n",
       "\n",
       "     product_category color_simple  \n",
       "0     Women's Fashion        white  \n",
       "1     Women's Fashion        green  \n",
       "2     Women's Fashion       others  \n",
       "3     Women's Fashion        black  \n",
       "4     Women's Fashion       yellow  \n",
       "...               ...          ...  \n",
       "1565  Women's Fashion         blue  \n",
       "1567  Women's Fashion        black  \n",
       "1568  Women's Fashion         blue  \n",
       "1570    Men's Fashion        white  \n",
       "1572  Women's Fashion          red  \n",
       "\n",
       "[1341 rows x 12 columns]"
      ]
     },
     "execution_count": 95,
     "metadata": {},
     "output_type": "execute_result"
    }
   ],
   "source": [
    "df_model.iloc[:,16:]"
   ]
  },
  {
   "cell_type": "markdown",
   "metadata": {},
   "source": [
    "## Will use standard scaler to scale the continuous features"
   ]
  },
  {
   "cell_type": "code",
   "execution_count": 96,
   "metadata": {},
   "outputs": [],
   "source": [
    "from sklearn.preprocessing import StandardScaler\n",
    "\n",
    "scaler = StandardScaler()\n",
    "df_model_scaled = scaler.fit_transform(df_model.iloc[:,0:16])"
   ]
  },
  {
   "cell_type": "code",
   "execution_count": 97,
   "metadata": {},
   "outputs": [
    {
     "data": {
      "text/plain": [
       "array([[ 1.89691463e+00, -3.21937722e-01,  6.68479770e-02, ...,\n",
       "         7.55498809e-02, -3.26857154e-01,  4.34644528e-01],\n",
       "       [-1.15251265e-01, -5.96543166e-02, -3.44541698e-01, ...,\n",
       "         7.55498809e-02, -1.21159155e-01, -6.96769327e-01],\n",
       "       [-1.15251265e-01,  6.28839621e-01, -1.85294082e-01, ...,\n",
       "         7.55498809e-02, -3.30125052e-01, -2.51035878e-01],\n",
       "       ...,\n",
       "       [-6.18292738e-01, -4.85864850e-01,  4.91508286e-01, ...,\n",
       "         7.55498809e-02, -2.70022069e-01,  9.09678866e-01],\n",
       "       [-8.69813474e-01, -1.58010593e-01,  4.94803679e-04, ...,\n",
       "         7.55498809e-02, -3.31142529e-01, -3.89099559e-01],\n",
       "       [-3.66772002e-01, -5.84221127e-01,  4.78237652e-01, ...,\n",
       "         7.55498809e-02, -2.49588731e-01,  9.65714122e-01]])"
      ]
     },
     "execution_count": 97,
     "metadata": {},
     "output_type": "execute_result"
    }
   ],
   "source": [
    "df_model_scaled"
   ]
  },
  {
   "cell_type": "code",
   "execution_count": 98,
   "metadata": {},
   "outputs": [
    {
     "name": "stderr",
     "output_type": "stream",
     "text": [
      "/opt/anaconda3/lib/python3.8/site-packages/pandas/core/indexing.py:966: SettingWithCopyWarning: \n",
      "A value is trying to be set on a copy of a slice from a DataFrame.\n",
      "Try using .loc[row_indexer,col_indexer] = value instead\n",
      "\n",
      "See the caveats in the documentation: https://pandas.pydata.org/pandas-docs/stable/user_guide/indexing.html#returning-a-view-versus-a-copy\n",
      "  self.obj[item] = s\n"
     ]
    }
   ],
   "source": [
    "df_model.iloc[:,0:16] = df_model_scaled"
   ]
  },
  {
   "cell_type": "code",
   "execution_count": 99,
   "metadata": {},
   "outputs": [
    {
     "data": {
      "text/html": [
       "<div>\n",
       "<style scoped>\n",
       "    .dataframe tbody tr th:only-of-type {\n",
       "        vertical-align: middle;\n",
       "    }\n",
       "\n",
       "    .dataframe tbody tr th {\n",
       "        vertical-align: top;\n",
       "    }\n",
       "\n",
       "    .dataframe thead th {\n",
       "        text-align: right;\n",
       "    }\n",
       "</style>\n",
       "<table border=\"1\" class=\"dataframe\">\n",
       "  <thead>\n",
       "    <tr style=\"text-align: right;\">\n",
       "      <th></th>\n",
       "      <th>price</th>\n",
       "      <th>retail_price</th>\n",
       "      <th>rating</th>\n",
       "      <th>rating_count</th>\n",
       "      <th>rating_five_count</th>\n",
       "      <th>rating_four_count</th>\n",
       "      <th>rating_three_count</th>\n",
       "      <th>rating_two_count</th>\n",
       "      <th>rating_one_count</th>\n",
       "      <th>badges_count</th>\n",
       "      <th>...</th>\n",
       "      <th>badge_local_product</th>\n",
       "      <th>badge_product_quality</th>\n",
       "      <th>badge_fast_shipping</th>\n",
       "      <th>shipping_is_express</th>\n",
       "      <th>has_urgency_banner</th>\n",
       "      <th>origin_country</th>\n",
       "      <th>merchant_has_profile_picture</th>\n",
       "      <th>title_simple</th>\n",
       "      <th>product_category</th>\n",
       "      <th>color_simple</th>\n",
       "    </tr>\n",
       "  </thead>\n",
       "  <tbody>\n",
       "    <tr>\n",
       "      <th>0</th>\n",
       "      <td>1.896915</td>\n",
       "      <td>-0.321938</td>\n",
       "      <td>0.066848</td>\n",
       "      <td>-0.443342</td>\n",
       "      <td>-0.438960</td>\n",
       "      <td>-0.442161</td>\n",
       "      <td>-0.411825</td>\n",
       "      <td>-0.424707</td>\n",
       "      <td>-0.416998</td>\n",
       "      <td>-0.320046</td>\n",
       "      <td>...</td>\n",
       "      <td>0</td>\n",
       "      <td>0</td>\n",
       "      <td>0</td>\n",
       "      <td>0</td>\n",
       "      <td>1.0</td>\n",
       "      <td>CN</td>\n",
       "      <td>0</td>\n",
       "      <td>Shorts</td>\n",
       "      <td>Women's Fashion</td>\n",
       "      <td>white</td>\n",
       "    </tr>\n",
       "    <tr>\n",
       "      <th>1</th>\n",
       "      <td>-0.115251</td>\n",
       "      <td>-0.059654</td>\n",
       "      <td>-0.344542</td>\n",
       "      <td>2.462233</td>\n",
       "      <td>1.756135</td>\n",
       "      <td>1.998642</td>\n",
       "      <td>2.983400</td>\n",
       "      <td>3.633548</td>\n",
       "      <td>4.369914</td>\n",
       "      <td>-0.320046</td>\n",
       "      <td>...</td>\n",
       "      <td>0</td>\n",
       "      <td>0</td>\n",
       "      <td>0</td>\n",
       "      <td>0</td>\n",
       "      <td>1.0</td>\n",
       "      <td>CN</td>\n",
       "      <td>0</td>\n",
       "      <td>Dress</td>\n",
       "      <td>Women's Fashion</td>\n",
       "      <td>green</td>\n",
       "    </tr>\n",
       "    <tr>\n",
       "      <th>2</th>\n",
       "      <td>-0.115251</td>\n",
       "      <td>0.628840</td>\n",
       "      <td>-0.185294</td>\n",
       "      <td>-0.462454</td>\n",
       "      <td>-0.459512</td>\n",
       "      <td>-0.451742</td>\n",
       "      <td>-0.436339</td>\n",
       "      <td>-0.431018</td>\n",
       "      <td>-0.443891</td>\n",
       "      <td>-0.320046</td>\n",
       "      <td>...</td>\n",
       "      <td>0</td>\n",
       "      <td>0</td>\n",
       "      <td>0</td>\n",
       "      <td>0</td>\n",
       "      <td>1.0</td>\n",
       "      <td>CN</td>\n",
       "      <td>0</td>\n",
       "      <td>Swimwear</td>\n",
       "      <td>Women's Fashion</td>\n",
       "      <td>others</td>\n",
       "    </tr>\n",
       "    <tr>\n",
       "      <th>3</th>\n",
       "      <td>-0.115251</td>\n",
       "      <td>-0.518650</td>\n",
       "      <td>0.425155</td>\n",
       "      <td>-0.192491</td>\n",
       "      <td>-0.175705</td>\n",
       "      <td>-0.176284</td>\n",
       "      <td>-0.175875</td>\n",
       "      <td>-0.165938</td>\n",
       "      <td>-0.295981</td>\n",
       "      <td>-0.320046</td>\n",
       "      <td>...</td>\n",
       "      <td>0</td>\n",
       "      <td>0</td>\n",
       "      <td>0</td>\n",
       "      <td>0</td>\n",
       "      <td>0.0</td>\n",
       "      <td>CN</td>\n",
       "      <td>0</td>\n",
       "      <td>Shorts</td>\n",
       "      <td>Women's Fashion</td>\n",
       "      <td>black</td>\n",
       "    </tr>\n",
       "    <tr>\n",
       "      <th>4</th>\n",
       "      <td>-1.443281</td>\n",
       "      <td>-0.682577</td>\n",
       "      <td>-0.809014</td>\n",
       "      <td>-0.459587</td>\n",
       "      <td>-0.458533</td>\n",
       "      <td>-0.451742</td>\n",
       "      <td>-0.436339</td>\n",
       "      <td>-0.418395</td>\n",
       "      <td>-0.430445</td>\n",
       "      <td>-0.320046</td>\n",
       "      <td>...</td>\n",
       "      <td>0</td>\n",
       "      <td>0</td>\n",
       "      <td>0</td>\n",
       "      <td>0</td>\n",
       "      <td>1.0</td>\n",
       "      <td>CN</td>\n",
       "      <td>0</td>\n",
       "      <td>Pants</td>\n",
       "      <td>Women's Fashion</td>\n",
       "      <td>yellow</td>\n",
       "    </tr>\n",
       "  </tbody>\n",
       "</table>\n",
       "<p>5 rows × 28 columns</p>\n",
       "</div>"
      ],
      "text/plain": [
       "      price  retail_price    rating  rating_count  rating_five_count  \\\n",
       "0  1.896915     -0.321938  0.066848     -0.443342          -0.438960   \n",
       "1 -0.115251     -0.059654 -0.344542      2.462233           1.756135   \n",
       "2 -0.115251      0.628840 -0.185294     -0.462454          -0.459512   \n",
       "3 -0.115251     -0.518650  0.425155     -0.192491          -0.175705   \n",
       "4 -1.443281     -0.682577 -0.809014     -0.459587          -0.458533   \n",
       "\n",
       "   rating_four_count  rating_three_count  rating_two_count  rating_one_count  \\\n",
       "0          -0.442161           -0.411825         -0.424707         -0.416998   \n",
       "1           1.998642            2.983400          3.633548          4.369914   \n",
       "2          -0.451742           -0.436339         -0.431018         -0.443891   \n",
       "3          -0.176284           -0.175875         -0.165938         -0.295981   \n",
       "4          -0.451742           -0.436339         -0.418395         -0.430445   \n",
       "\n",
       "   badges_count  ...  badge_local_product  badge_product_quality  \\\n",
       "0     -0.320046  ...                    0                      0   \n",
       "1     -0.320046  ...                    0                      0   \n",
       "2     -0.320046  ...                    0                      0   \n",
       "3     -0.320046  ...                    0                      0   \n",
       "4     -0.320046  ...                    0                      0   \n",
       "\n",
       "   badge_fast_shipping  shipping_is_express  has_urgency_banner  \\\n",
       "0                    0                    0                 1.0   \n",
       "1                    0                    0                 1.0   \n",
       "2                    0                    0                 1.0   \n",
       "3                    0                    0                 0.0   \n",
       "4                    0                    0                 1.0   \n",
       "\n",
       "   origin_country  merchant_has_profile_picture  title_simple  \\\n",
       "0              CN                             0        Shorts   \n",
       "1              CN                             0         Dress   \n",
       "2              CN                             0      Swimwear   \n",
       "3              CN                             0        Shorts   \n",
       "4              CN                             0         Pants   \n",
       "\n",
       "   product_category  color_simple  \n",
       "0   Women's Fashion         white  \n",
       "1   Women's Fashion         green  \n",
       "2   Women's Fashion        others  \n",
       "3   Women's Fashion         black  \n",
       "4   Women's Fashion        yellow  \n",
       "\n",
       "[5 rows x 28 columns]"
      ]
     },
     "execution_count": 99,
     "metadata": {},
     "output_type": "execute_result"
    }
   ],
   "source": [
    "df_model.head()"
   ]
  },
  {
   "cell_type": "markdown",
   "metadata": {},
   "source": [
    "## Model Building\n",
    "1. Ridge regression\n",
    "2. Lasso Regression\n",
    "3. Elastic Net Regression\n",
    "3. Random Forest Regression\n",
    "4. Gradient Boosted Regression"
   ]
  },
  {
   "cell_type": "code",
   "execution_count": 100,
   "metadata": {},
   "outputs": [],
   "source": [
    "df_dum = pd.get_dummies(df_model, columns=['uses_ad_boosts', 'badge_local_product', 'badge_product_quality',\n",
    "                                           'badge_fast_shipping', 'shipping_is_express',\n",
    "                                           'has_urgency_banner', 'origin_country', 'merchant_has_profile_picture',\n",
    "                                           'title_simple', 'product_category', 'color_simple'])"
   ]
  },
  {
   "cell_type": "code",
   "execution_count": 101,
   "metadata": {},
   "outputs": [
    {
     "data": {
      "text/html": [
       "<div>\n",
       "<style scoped>\n",
       "    .dataframe tbody tr th:only-of-type {\n",
       "        vertical-align: middle;\n",
       "    }\n",
       "\n",
       "    .dataframe tbody tr th {\n",
       "        vertical-align: top;\n",
       "    }\n",
       "\n",
       "    .dataframe thead th {\n",
       "        text-align: right;\n",
       "    }\n",
       "</style>\n",
       "<table border=\"1\" class=\"dataframe\">\n",
       "  <thead>\n",
       "    <tr style=\"text-align: right;\">\n",
       "      <th></th>\n",
       "      <th>price</th>\n",
       "      <th>retail_price</th>\n",
       "      <th>rating</th>\n",
       "      <th>rating_count</th>\n",
       "      <th>rating_five_count</th>\n",
       "      <th>rating_four_count</th>\n",
       "      <th>rating_three_count</th>\n",
       "      <th>rating_two_count</th>\n",
       "      <th>rating_one_count</th>\n",
       "      <th>badges_count</th>\n",
       "      <th>...</th>\n",
       "      <th>color_simple_grey</th>\n",
       "      <th>color_simple_multicolor</th>\n",
       "      <th>color_simple_orange</th>\n",
       "      <th>color_simple_others</th>\n",
       "      <th>color_simple_pink</th>\n",
       "      <th>color_simple_red</th>\n",
       "      <th>color_simple_two-colors</th>\n",
       "      <th>color_simple_violet</th>\n",
       "      <th>color_simple_white</th>\n",
       "      <th>color_simple_yellow</th>\n",
       "    </tr>\n",
       "  </thead>\n",
       "  <tbody>\n",
       "    <tr>\n",
       "      <th>0</th>\n",
       "      <td>1.896915</td>\n",
       "      <td>-0.321938</td>\n",
       "      <td>0.066848</td>\n",
       "      <td>-0.443342</td>\n",
       "      <td>-0.438960</td>\n",
       "      <td>-0.442161</td>\n",
       "      <td>-0.411825</td>\n",
       "      <td>-0.424707</td>\n",
       "      <td>-0.416998</td>\n",
       "      <td>-0.320046</td>\n",
       "      <td>...</td>\n",
       "      <td>0</td>\n",
       "      <td>0</td>\n",
       "      <td>0</td>\n",
       "      <td>0</td>\n",
       "      <td>0</td>\n",
       "      <td>0</td>\n",
       "      <td>0</td>\n",
       "      <td>0</td>\n",
       "      <td>1</td>\n",
       "      <td>0</td>\n",
       "    </tr>\n",
       "    <tr>\n",
       "      <th>1</th>\n",
       "      <td>-0.115251</td>\n",
       "      <td>-0.059654</td>\n",
       "      <td>-0.344542</td>\n",
       "      <td>2.462233</td>\n",
       "      <td>1.756135</td>\n",
       "      <td>1.998642</td>\n",
       "      <td>2.983400</td>\n",
       "      <td>3.633548</td>\n",
       "      <td>4.369914</td>\n",
       "      <td>-0.320046</td>\n",
       "      <td>...</td>\n",
       "      <td>0</td>\n",
       "      <td>0</td>\n",
       "      <td>0</td>\n",
       "      <td>0</td>\n",
       "      <td>0</td>\n",
       "      <td>0</td>\n",
       "      <td>0</td>\n",
       "      <td>0</td>\n",
       "      <td>0</td>\n",
       "      <td>0</td>\n",
       "    </tr>\n",
       "    <tr>\n",
       "      <th>2</th>\n",
       "      <td>-0.115251</td>\n",
       "      <td>0.628840</td>\n",
       "      <td>-0.185294</td>\n",
       "      <td>-0.462454</td>\n",
       "      <td>-0.459512</td>\n",
       "      <td>-0.451742</td>\n",
       "      <td>-0.436339</td>\n",
       "      <td>-0.431018</td>\n",
       "      <td>-0.443891</td>\n",
       "      <td>-0.320046</td>\n",
       "      <td>...</td>\n",
       "      <td>0</td>\n",
       "      <td>0</td>\n",
       "      <td>0</td>\n",
       "      <td>1</td>\n",
       "      <td>0</td>\n",
       "      <td>0</td>\n",
       "      <td>0</td>\n",
       "      <td>0</td>\n",
       "      <td>0</td>\n",
       "      <td>0</td>\n",
       "    </tr>\n",
       "    <tr>\n",
       "      <th>3</th>\n",
       "      <td>-0.115251</td>\n",
       "      <td>-0.518650</td>\n",
       "      <td>0.425155</td>\n",
       "      <td>-0.192491</td>\n",
       "      <td>-0.175705</td>\n",
       "      <td>-0.176284</td>\n",
       "      <td>-0.175875</td>\n",
       "      <td>-0.165938</td>\n",
       "      <td>-0.295981</td>\n",
       "      <td>-0.320046</td>\n",
       "      <td>...</td>\n",
       "      <td>0</td>\n",
       "      <td>0</td>\n",
       "      <td>0</td>\n",
       "      <td>0</td>\n",
       "      <td>0</td>\n",
       "      <td>0</td>\n",
       "      <td>0</td>\n",
       "      <td>0</td>\n",
       "      <td>0</td>\n",
       "      <td>0</td>\n",
       "    </tr>\n",
       "    <tr>\n",
       "      <th>4</th>\n",
       "      <td>-1.443281</td>\n",
       "      <td>-0.682577</td>\n",
       "      <td>-0.809014</td>\n",
       "      <td>-0.459587</td>\n",
       "      <td>-0.458533</td>\n",
       "      <td>-0.451742</td>\n",
       "      <td>-0.436339</td>\n",
       "      <td>-0.418395</td>\n",
       "      <td>-0.430445</td>\n",
       "      <td>-0.320046</td>\n",
       "      <td>...</td>\n",
       "      <td>0</td>\n",
       "      <td>0</td>\n",
       "      <td>0</td>\n",
       "      <td>0</td>\n",
       "      <td>0</td>\n",
       "      <td>0</td>\n",
       "      <td>0</td>\n",
       "      <td>0</td>\n",
       "      <td>0</td>\n",
       "      <td>1</td>\n",
       "    </tr>\n",
       "  </tbody>\n",
       "</table>\n",
       "<p>5 rows × 62 columns</p>\n",
       "</div>"
      ],
      "text/plain": [
       "      price  retail_price    rating  rating_count  rating_five_count  \\\n",
       "0  1.896915     -0.321938  0.066848     -0.443342          -0.438960   \n",
       "1 -0.115251     -0.059654 -0.344542      2.462233           1.756135   \n",
       "2 -0.115251      0.628840 -0.185294     -0.462454          -0.459512   \n",
       "3 -0.115251     -0.518650  0.425155     -0.192491          -0.175705   \n",
       "4 -1.443281     -0.682577 -0.809014     -0.459587          -0.458533   \n",
       "\n",
       "   rating_four_count  rating_three_count  rating_two_count  rating_one_count  \\\n",
       "0          -0.442161           -0.411825         -0.424707         -0.416998   \n",
       "1           1.998642            2.983400          3.633548          4.369914   \n",
       "2          -0.451742           -0.436339         -0.431018         -0.443891   \n",
       "3          -0.176284           -0.175875         -0.165938         -0.295981   \n",
       "4          -0.451742           -0.436339         -0.418395         -0.430445   \n",
       "\n",
       "   badges_count  ...  color_simple_grey  color_simple_multicolor  \\\n",
       "0     -0.320046  ...                  0                        0   \n",
       "1     -0.320046  ...                  0                        0   \n",
       "2     -0.320046  ...                  0                        0   \n",
       "3     -0.320046  ...                  0                        0   \n",
       "4     -0.320046  ...                  0                        0   \n",
       "\n",
       "   color_simple_orange  color_simple_others  color_simple_pink  \\\n",
       "0                    0                    0                  0   \n",
       "1                    0                    0                  0   \n",
       "2                    0                    1                  0   \n",
       "3                    0                    0                  0   \n",
       "4                    0                    0                  0   \n",
       "\n",
       "   color_simple_red  color_simple_two-colors  color_simple_violet  \\\n",
       "0                 0                        0                    0   \n",
       "1                 0                        0                    0   \n",
       "2                 0                        0                    0   \n",
       "3                 0                        0                    0   \n",
       "4                 0                        0                    0   \n",
       "\n",
       "   color_simple_white  color_simple_yellow  \n",
       "0                   1                    0  \n",
       "1                   0                    0  \n",
       "2                   0                    0  \n",
       "3                   0                    0  \n",
       "4                   0                    1  \n",
       "\n",
       "[5 rows x 62 columns]"
      ]
     },
     "execution_count": 101,
     "metadata": {},
     "output_type": "execute_result"
    }
   ],
   "source": [
    "df_dum.head()"
   ]
  },
  {
   "cell_type": "code",
   "execution_count": 102,
   "metadata": {},
   "outputs": [],
   "source": [
    "from sklearn.model_selection import train_test_split\n",
    "\n",
    "X = df_dum.drop('units_sold', axis =1)\n",
    "y = df_dum.units_sold.values\n",
    "\n",
    "X_train, X_test, y_train, y_test = train_test_split(X, y, test_size=0.2, random_state=42)"
   ]
  },
  {
   "cell_type": "code",
   "execution_count": 103,
   "metadata": {},
   "outputs": [
    {
     "data": {
      "text/plain": [
       "Ridge(alpha=1)"
      ]
     },
     "execution_count": 103,
     "metadata": {},
     "output_type": "execute_result"
    }
   ],
   "source": [
    "from sklearn.linear_model import Ridge, Lasso\n",
    "from sklearn.model_selection import cross_val_score\n",
    "\n",
    "#Linear Regression\n",
    "ridge_model = Ridge(alpha=1)\n",
    "ridge_model.fit(X_train, y_train)"
   ]
  },
  {
   "cell_type": "code",
   "execution_count": 104,
   "metadata": {},
   "outputs": [
    {
     "data": {
      "text/plain": [
       "-2130.9549599128954"
      ]
     },
     "execution_count": 104,
     "metadata": {},
     "output_type": "execute_result"
    }
   ],
   "source": [
    "np.mean(cross_val_score(ridge_model,X_train,y_train, scoring = 'neg_mean_absolute_error', cv= 3))"
   ]
  },
  {
   "cell_type": "code",
   "execution_count": 105,
   "metadata": {},
   "outputs": [
    {
     "data": {
      "text/plain": [
       "Lasso(alpha=0.13)"
      ]
     },
     "execution_count": 105,
     "metadata": {},
     "output_type": "execute_result"
    }
   ],
   "source": [
    "#Lasso regression (normalizes sparse data)\n",
    "\n",
    "lasso_model = Lasso(alpha=0.13)\n",
    "lasso_model.fit(X_train,y_train)"
   ]
  },
  {
   "cell_type": "code",
   "execution_count": 106,
   "metadata": {},
   "outputs": [
    {
     "name": "stderr",
     "output_type": "stream",
     "text": [
      "/opt/anaconda3/lib/python3.8/site-packages/sklearn/linear_model/_coordinate_descent.py:529: ConvergenceWarning: Objective did not converge. You might want to increase the number of iterations. Duality gap: 404433837.8684902, tolerance: 8189006.951162467\n",
      "  model = cd_fast.enet_coordinate_descent(\n"
     ]
    },
    {
     "data": {
      "text/plain": [
       "-2159.132268148492"
      ]
     },
     "execution_count": 106,
     "metadata": {},
     "output_type": "execute_result"
    }
   ],
   "source": [
    "np.mean(cross_val_score(lasso_model,X_train,y_train, scoring = 'neg_mean_absolute_error', cv= 3))"
   ]
  },
  {
   "cell_type": "code",
   "execution_count": 107,
   "metadata": {},
   "outputs": [
    {
     "data": {
      "text/plain": [
       "ElasticNet(alpha=0.1)"
      ]
     },
     "execution_count": 107,
     "metadata": {},
     "output_type": "execute_result"
    }
   ],
   "source": [
    "from sklearn.linear_model import ElasticNet\n",
    "elastic_net = ElasticNet(alpha=0.1, l1_ratio=0.5)\n",
    "elastic_net.fit(X_train,y_train)"
   ]
  },
  {
   "cell_type": "code",
   "execution_count": 108,
   "metadata": {},
   "outputs": [
    {
     "data": {
      "text/plain": [
       "-2045.5793052265071"
      ]
     },
     "execution_count": 108,
     "metadata": {},
     "output_type": "execute_result"
    }
   ],
   "source": [
    "np.mean(cross_val_score(elastic_net,X_train,y_train, scoring = 'neg_mean_absolute_error', cv= 3))"
   ]
  },
  {
   "cell_type": "code",
   "execution_count": 109,
   "metadata": {},
   "outputs": [
    {
     "data": {
      "text/plain": [
       "-1740.6853139393559"
      ]
     },
     "execution_count": 109,
     "metadata": {},
     "output_type": "execute_result"
    }
   ],
   "source": [
    "from sklearn.ensemble import RandomForestRegressor\n",
    "forest_model = RandomForestRegressor()\n",
    "\n",
    "np.mean(cross_val_score(forest_model,X_train,y_train,scoring = 'neg_mean_absolute_error', cv= 3))"
   ]
  },
  {
   "cell_type": "code",
   "execution_count": 110,
   "metadata": {},
   "outputs": [
    {
     "data": {
      "text/plain": [
       "-1782.4896156465913"
      ]
     },
     "execution_count": 110,
     "metadata": {},
     "output_type": "execute_result"
    }
   ],
   "source": [
    "from sklearn.ensemble import GradientBoostingRegressor\n",
    "\n",
    "GB_model = GradientBoostingRegressor()\n",
    "np.mean(cross_val_score(GB_model,X_train,y_train,scoring = 'neg_mean_absolute_error', cv= 3))"
   ]
  },
  {
   "cell_type": "markdown",
   "metadata": {},
   "source": [
    "Based on the cross validation, Random Forest performed the best"
   ]
  },
  {
   "cell_type": "markdown",
   "metadata": {},
   "source": [
    "## Fit training data into Random forest"
   ]
  },
  {
   "cell_type": "code",
   "execution_count": 111,
   "metadata": {},
   "outputs": [
    {
     "data": {
      "text/plain": [
       "RandomForestRegressor()"
      ]
     },
     "execution_count": 111,
     "metadata": {},
     "output_type": "execute_result"
    }
   ],
   "source": [
    "forest_model.fit(X_train,y_train)"
   ]
  },
  {
   "cell_type": "code",
   "execution_count": 112,
   "metadata": {},
   "outputs": [],
   "source": [
    "test_pred_forest = forest_model.predict(X_test)"
   ]
  },
  {
   "cell_type": "markdown",
   "metadata": {},
   "source": [
    "## Test Random Forest"
   ]
  },
  {
   "cell_type": "code",
   "execution_count": 113,
   "metadata": {},
   "outputs": [
    {
     "data": {
      "text/plain": [
       "1881.9226765799258"
      ]
     },
     "execution_count": 113,
     "metadata": {},
     "output_type": "execute_result"
    }
   ],
   "source": [
    "from sklearn.metrics import mean_absolute_error\n",
    "\n",
    "mean_absolute_error(y_test, test_pred_forest)"
   ]
  },
  {
   "cell_type": "code",
   "execution_count": 114,
   "metadata": {},
   "outputs": [
    {
     "data": {
      "text/plain": [
       "0.771499570972989"
      ]
     },
     "execution_count": 114,
     "metadata": {},
     "output_type": "execute_result"
    }
   ],
   "source": [
    "from sklearn.metrics import r2_score\n",
    "\n",
    "r2_score(y_test,test_pred_forest)"
   ]
  },
  {
   "cell_type": "markdown",
   "metadata": {},
   "source": [
    "## Feature Importance\n",
    "Code from\n",
    "https://github.com/mrdbourke/your-first-kaggle-submission/blob/master/kaggle-titanic-dataset-example-submission-workflow.ipynb"
   ]
  },
  {
   "cell_type": "code",
   "execution_count": 73,
   "metadata": {},
   "outputs": [],
   "source": [
    "def feature_importance(model, data):\n",
    "    fea_imp = pd.DataFrame({'imp': model.feature_importances_, 'col': data.columns})\n",
    "    fea_imp = fea_imp.sort_values(['imp', 'col'], ascending=[True, False]).iloc[-30:]\n",
    "    _ = fea_imp.plot(kind='barh', x='col', y='imp', figsize=(20, 10))\n",
    "    return fea_imp"
   ]
  },
  {
   "cell_type": "code",
   "execution_count": 122,
   "metadata": {},
   "outputs": [
    {
     "data": {
      "text/html": [
       "<div>\n",
       "<style scoped>\n",
       "    .dataframe tbody tr th:only-of-type {\n",
       "        vertical-align: middle;\n",
       "    }\n",
       "\n",
       "    .dataframe tbody tr th {\n",
       "        vertical-align: top;\n",
       "    }\n",
       "\n",
       "    .dataframe thead th {\n",
       "        text-align: right;\n",
       "    }\n",
       "</style>\n",
       "<table border=\"1\" class=\"dataframe\">\n",
       "  <thead>\n",
       "    <tr style=\"text-align: right;\">\n",
       "      <th></th>\n",
       "      <th>imp</th>\n",
       "      <th>col</th>\n",
       "    </tr>\n",
       "  </thead>\n",
       "  <tbody>\n",
       "    <tr>\n",
       "      <th>56</th>\n",
       "      <td>0.000443</td>\n",
       "      <td>color_simple_red</td>\n",
       "    </tr>\n",
       "    <tr>\n",
       "      <th>20</th>\n",
       "      <td>0.000592</td>\n",
       "      <td>badge_product_quality_0</td>\n",
       "    </tr>\n",
       "    <tr>\n",
       "      <th>59</th>\n",
       "      <td>0.000594</td>\n",
       "      <td>color_simple_white</td>\n",
       "    </tr>\n",
       "    <tr>\n",
       "      <th>38</th>\n",
       "      <td>0.000722</td>\n",
       "      <td>title_simple_Shorts</td>\n",
       "    </tr>\n",
       "    <tr>\n",
       "      <th>17</th>\n",
       "      <td>0.000830</td>\n",
       "      <td>uses_ad_boosts_1</td>\n",
       "    </tr>\n",
       "    <tr>\n",
       "      <th>42</th>\n",
       "      <td>0.000942</td>\n",
       "      <td>title_simple_Swimwear</td>\n",
       "    </tr>\n",
       "    <tr>\n",
       "      <th>48</th>\n",
       "      <td>0.000986</td>\n",
       "      <td>color_simple_blue</td>\n",
       "    </tr>\n",
       "    <tr>\n",
       "      <th>55</th>\n",
       "      <td>0.001055</td>\n",
       "      <td>color_simple_pink</td>\n",
       "    </tr>\n",
       "    <tr>\n",
       "      <th>16</th>\n",
       "      <td>0.001251</td>\n",
       "      <td>uses_ad_boosts_0</td>\n",
       "    </tr>\n",
       "    <tr>\n",
       "      <th>37</th>\n",
       "      <td>0.001421</td>\n",
       "      <td>title_simple_Pants</td>\n",
       "    </tr>\n",
       "    <tr>\n",
       "      <th>34</th>\n",
       "      <td>0.001462</td>\n",
       "      <td>title_simple_Dress</td>\n",
       "    </tr>\n",
       "    <tr>\n",
       "      <th>44</th>\n",
       "      <td>0.001484</td>\n",
       "      <td>product_category_Men's Fashion</td>\n",
       "    </tr>\n",
       "    <tr>\n",
       "      <th>54</th>\n",
       "      <td>0.001503</td>\n",
       "      <td>color_simple_others</td>\n",
       "    </tr>\n",
       "    <tr>\n",
       "      <th>47</th>\n",
       "      <td>0.001544</td>\n",
       "      <td>color_simple_black</td>\n",
       "    </tr>\n",
       "    <tr>\n",
       "      <th>50</th>\n",
       "      <td>0.001656</td>\n",
       "      <td>color_simple_green</td>\n",
       "    </tr>\n",
       "    <tr>\n",
       "      <th>43</th>\n",
       "      <td>0.002209</td>\n",
       "      <td>title_simple_Top</td>\n",
       "    </tr>\n",
       "    <tr>\n",
       "      <th>10</th>\n",
       "      <td>0.002483</td>\n",
       "      <td>product_variation_inventory</td>\n",
       "    </tr>\n",
       "    <tr>\n",
       "      <th>11</th>\n",
       "      <td>0.002786</td>\n",
       "      <td>shipping_option_price</td>\n",
       "    </tr>\n",
       "    <tr>\n",
       "      <th>2</th>\n",
       "      <td>0.004760</td>\n",
       "      <td>rating</td>\n",
       "    </tr>\n",
       "    <tr>\n",
       "      <th>15</th>\n",
       "      <td>0.006140</td>\n",
       "      <td>merchant_rating</td>\n",
       "    </tr>\n",
       "    <tr>\n",
       "      <th>12</th>\n",
       "      <td>0.007605</td>\n",
       "      <td>countries_shipped_to</td>\n",
       "    </tr>\n",
       "    <tr>\n",
       "      <th>8</th>\n",
       "      <td>0.008418</td>\n",
       "      <td>rating_one_count</td>\n",
       "    </tr>\n",
       "    <tr>\n",
       "      <th>0</th>\n",
       "      <td>0.009830</td>\n",
       "      <td>price</td>\n",
       "    </tr>\n",
       "    <tr>\n",
       "      <th>14</th>\n",
       "      <td>0.011403</td>\n",
       "      <td>merchant_rating_count</td>\n",
       "    </tr>\n",
       "    <tr>\n",
       "      <th>1</th>\n",
       "      <td>0.021852</td>\n",
       "      <td>retail_price</td>\n",
       "    </tr>\n",
       "    <tr>\n",
       "      <th>5</th>\n",
       "      <td>0.026644</td>\n",
       "      <td>rating_four_count</td>\n",
       "    </tr>\n",
       "    <tr>\n",
       "      <th>7</th>\n",
       "      <td>0.063670</td>\n",
       "      <td>rating_two_count</td>\n",
       "    </tr>\n",
       "    <tr>\n",
       "      <th>4</th>\n",
       "      <td>0.150382</td>\n",
       "      <td>rating_five_count</td>\n",
       "    </tr>\n",
       "    <tr>\n",
       "      <th>3</th>\n",
       "      <td>0.314118</td>\n",
       "      <td>rating_count</td>\n",
       "    </tr>\n",
       "    <tr>\n",
       "      <th>6</th>\n",
       "      <td>0.347419</td>\n",
       "      <td>rating_three_count</td>\n",
       "    </tr>\n",
       "  </tbody>\n",
       "</table>\n",
       "</div>"
      ],
      "text/plain": [
       "         imp                             col\n",
       "56  0.000443                color_simple_red\n",
       "20  0.000592         badge_product_quality_0\n",
       "59  0.000594              color_simple_white\n",
       "38  0.000722             title_simple_Shorts\n",
       "17  0.000830                uses_ad_boosts_1\n",
       "42  0.000942           title_simple_Swimwear\n",
       "48  0.000986               color_simple_blue\n",
       "55  0.001055               color_simple_pink\n",
       "16  0.001251                uses_ad_boosts_0\n",
       "37  0.001421              title_simple_Pants\n",
       "34  0.001462              title_simple_Dress\n",
       "44  0.001484  product_category_Men's Fashion\n",
       "54  0.001503             color_simple_others\n",
       "47  0.001544              color_simple_black\n",
       "50  0.001656              color_simple_green\n",
       "43  0.002209                title_simple_Top\n",
       "10  0.002483     product_variation_inventory\n",
       "11  0.002786           shipping_option_price\n",
       "2   0.004760                          rating\n",
       "15  0.006140                 merchant_rating\n",
       "12  0.007605            countries_shipped_to\n",
       "8   0.008418                rating_one_count\n",
       "0   0.009830                           price\n",
       "14  0.011403           merchant_rating_count\n",
       "1   0.021852                    retail_price\n",
       "5   0.026644               rating_four_count\n",
       "7   0.063670                rating_two_count\n",
       "4   0.150382               rating_five_count\n",
       "3   0.314118                    rating_count\n",
       "6   0.347419              rating_three_count"
      ]
     },
     "execution_count": 122,
     "metadata": {},
     "output_type": "execute_result"
    },
    {
     "data": {
      "image/png": "[encoded data removed]",
      "text/plain": [
       "<Figure size 1440x720 with 1 Axes>"
      ]
     },
     "metadata": {
      "needs_background": "light"
     },
     "output_type": "display_data"
    }
   ],
   "source": [
    "feature_importance(forest_model, X_train)"
   ]
  },
  {
   "cell_type": "markdown",
   "metadata": {},
   "source": [
    "#### Hope this helps!\n",
    "I am very new to machine learning so please comment and provide any feedback."
   ]
  }
 ],
 "metadata": {
  "kernelspec": {
   "display_name": "Python 3",
   "language": "python",
   "name": "python3"
  },
  "language_info": {
   "codemirror_mode": {
    "name": "ipython",
    "version": 3
   },
   "file_extension": ".py",
   "mimetype": "text/x-python",
   "name": "python",
   "nbconvert_exporter": "python",
   "pygments_lexer": "ipython3",
   "version": "3.8.3"
  }
 },
 "nbformat": 4,
 "nbformat_minor": 4
}
